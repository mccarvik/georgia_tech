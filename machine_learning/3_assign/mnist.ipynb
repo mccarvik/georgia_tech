{
 "cells": [
  {
   "cell_type": "code",
   "execution_count": 18,
   "metadata": {},
   "outputs": [],
   "source": [
    "\"\"\"\n",
    "Assignment 1 - main run method for mushroom dataset\n",
    "\"\"\"\n",
    "import sys\n",
    "import pdb\n",
    "sys.path.append(\"C:\\\\users\\\\mccar\\\\miniconda3\\\\lib\\\\site-packages\")\n",
    "import pandas as pd\n",
    "import numpy as np\n",
    "import matplotlib.pyplot as plt\n",
    "from sklearn.neighbors import KNeighborsClassifier\n",
    "from sklearn.metrics import accuracy_score, silhouette_score\n",
    "from sklearn.model_selection import validation_curve, GridSearchCV, StratifiedKFold\n",
    "from sklearn.cluster import KMeans\n",
    "from sklearn.mixture import GaussianMixture"
   ]
  },
  {
   "cell_type": "code",
   "execution_count": 19,
   "metadata": {},
   "outputs": [
    {
     "name": "stdout",
     "output_type": "stream",
     "text": [
      "(60000, 785)\n"
     ]
    }
   ],
   "source": [
    "# get data\n",
    "DATA_PATH = \"data/mnist/mnist_train.csv\"\n",
    "train_df = pd.read_csv(DATA_PATH)\n",
    "DATA_PATH = \"data/mnist/mnist_test.csv\"\n",
    "test_df = pd.read_csv(DATA_PATH)\n",
    "print(train_df.shape)"
   ]
  },
  {
   "cell_type": "code",
   "execution_count": 20,
   "metadata": {},
   "outputs": [],
   "source": [
    "# preprocessing\n",
    "# none for now - dataset came with images already pixelated into numbers"
   ]
  },
  {
   "cell_type": "code",
   "execution_count": 21,
   "metadata": {},
   "outputs": [],
   "source": [
    "y_train = train_df[\"label\"]\n",
    "x_train = train_df.drop([\"label\"], axis=1)\n",
    "y_test = test_df[\"label\"]\n",
    "x_test = test_df.drop([\"label\"], axis=1)"
   ]
  },
  {
   "cell_type": "code",
   "execution_count": 22,
   "metadata": {},
   "outputs": [],
   "source": [
    "# K means\n",
    "\n",
    "run = False\n",
    "\n",
    "if run:\n",
    "    # Define the range of cluster numbers (K)\n",
    "    k_range = range(2, 15)\n",
    "\n",
    "    # Plotting the clustering results for varying numbers of clusters\n",
    "    silhouette_scores = []\n",
    "    for k in k_range:\n",
    "        kmeans = KMeans(n_clusters=k)\n",
    "        kmeans.fit(x_train)\n",
    "        labels = kmeans.labels_\n",
    "        score = silhouette_score(x_train, labels)\n",
    "        silhouette_scores.append(score)\n",
    "        centroids = kmeans.cluster_centers_\n",
    "        print(centroids)\n",
    "\n",
    "    # Plot the silhouette scores vs. K\n",
    "    plt.plot(k_range, silhouette_scores, marker='o')\n",
    "    plt.title('Silhouette Score vs. Number of Clusters (K)')\n",
    "    plt.xlabel('Number of Clusters (K)')\n",
    "    plt.ylabel('Silhouette Score')\n",
    "    plt.xticks(k_range)\n",
    "    plt.grid(True)\n",
    "    plt.show()"
   ]
  },
  {
   "cell_type": "code",
   "execution_count": null,
   "metadata": {},
   "outputs": [],
   "source": [
    "# Expectation Maximation (EM) Clustering\n",
    "run = True\n",
    "\n",
    "if run:\n",
    "    # Define the range of cluster numbers (K)\n",
    "    k_range = range(2, 15)\n",
    "\n",
    "    # Calculate silhouette scores for different values of K\n",
    "    silhouette_scores = []\n",
    "    for k in k_range:\n",
    "        gmm = GaussianMixture(n_components=k)\n",
    "        gmm.fit(x_train)\n",
    "        labels = gmm.predict(x_train)\n",
    "        silhouette_avg = silhouette_score(x_train, labels)\n",
    "        silhouette_scores.append(silhouette_avg)\n",
    "\n",
    "    # Plot the silhouette scores vs. K\n",
    "    plt.plot(k_range, silhouette_scores, marker='o')\n",
    "    plt.title('Silhouette Score vs. Number of Clusters (K)')\n",
    "    plt.xlabel('Number of Clusters (K)')\n",
    "    plt.ylabel('Silhouette Score')\n",
    "    plt.xticks(k_range)\n",
    "    plt.grid(True)\n",
    "    plt.show()"
   ]
  }
 ],
 "metadata": {
  "kernelspec": {
   "display_name": "Python 3",
   "language": "python",
   "name": "python3"
  },
  "language_info": {
   "codemirror_mode": {
    "name": "ipython",
    "version": 3
   },
   "file_extension": ".py",
   "mimetype": "text/x-python",
   "name": "python",
   "nbconvert_exporter": "python",
   "pygments_lexer": "ipython3",
   "version": "3.11.8"
  }
 },
 "nbformat": 4,
 "nbformat_minor": 2
}
