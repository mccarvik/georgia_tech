{
 "cells": [
  {
   "cell_type": "code",
   "execution_count": 1,
   "metadata": {},
   "outputs": [
    {
     "data": {
      "text/plain": [
       "'\\nTrain optimization algos on a neural net\\n'"
      ]
     },
     "execution_count": 1,
     "metadata": {},
     "output_type": "execute_result"
    }
   ],
   "source": [
    "\"\"\"\n",
    "Train optimization algos on a neural net\n",
    "\"\"\""
   ]
  },
  {
   "cell_type": "code",
   "execution_count": 2,
   "metadata": {},
   "outputs": [],
   "source": [
    "import sys\n",
    "import pdb\n",
    "sys.path.append(\"C:\\\\users\\\\mccar\\\\miniconda3\\\\lib\\\\site-packages\")\n",
    "sys.path.append(\"c:\\\\users\\\\mccar\\\\appdata\\\\local\\\\programs\\\\python\\\\python311\\\\lib\\\\site-packages\")\n",
    "import numpy as np\n",
    "import pandas as pd\n",
    "from sklearn.model_selection import train_test_split\n",
    "from sklearn.preprocessing import MinMaxScaler\n",
    "from sklearn.metrics import accuracy_score\n",
    "import six\n",
    "import sys\n",
    "sys.modules['sklearn.externals.six'] = six\n",
    "import mlrose as mlr\n",
    "from sklearn.preprocessing import LabelEncoder"
   ]
  },
  {
   "cell_type": "code",
   "execution_count": 3,
   "metadata": {},
   "outputs": [
    {
     "name": "stdout",
     "output_type": "stream",
     "text": [
      "(1000, 60)\n",
      "<class 'pandas.core.frame.DataFrame'>\n",
      "RangeIndex: 1000 entries, 0 to 999\n",
      "Data columns (total 60 columns):\n",
      " #   Column                   Non-Null Count  Dtype  \n",
      "---  ------                   --------------  -----  \n",
      " 0   filename                 1000 non-null   object \n",
      " 1   length                   1000 non-null   int64  \n",
      " 2   chroma_stft_mean         1000 non-null   float64\n",
      " 3   chroma_stft_var          1000 non-null   float64\n",
      " 4   rms_mean                 1000 non-null   float64\n",
      " 5   rms_var                  1000 non-null   float64\n",
      " 6   spectral_centroid_mean   1000 non-null   float64\n",
      " 7   spectral_centroid_var    1000 non-null   float64\n",
      " 8   spectral_bandwidth_mean  1000 non-null   float64\n",
      " 9   spectral_bandwidth_var   1000 non-null   float64\n",
      " 10  rolloff_mean             1000 non-null   float64\n",
      " 11  rolloff_var              1000 non-null   float64\n",
      " 12  zero_crossing_rate_mean  1000 non-null   float64\n",
      " 13  zero_crossing_rate_var   1000 non-null   float64\n",
      " 14  harmony_mean             1000 non-null   float64\n",
      " 15  harmony_var              1000 non-null   float64\n",
      " 16  perceptr_mean            1000 non-null   float64\n",
      " 17  perceptr_var             1000 non-null   float64\n",
      " 18  tempo                    1000 non-null   float64\n",
      " 19  mfcc1_mean               1000 non-null   float64\n",
      " 20  mfcc1_var                1000 non-null   float64\n",
      " 21  mfcc2_mean               1000 non-null   float64\n",
      " 22  mfcc2_var                1000 non-null   float64\n",
      " 23  mfcc3_mean               1000 non-null   float64\n",
      " 24  mfcc3_var                1000 non-null   float64\n",
      " 25  mfcc4_mean               1000 non-null   float64\n",
      " 26  mfcc4_var                1000 non-null   float64\n",
      " 27  mfcc5_mean               1000 non-null   float64\n",
      " 28  mfcc5_var                1000 non-null   float64\n",
      " 29  mfcc6_mean               1000 non-null   float64\n",
      " 30  mfcc6_var                1000 non-null   float64\n",
      " 31  mfcc7_mean               1000 non-null   float64\n",
      " 32  mfcc7_var                1000 non-null   float64\n",
      " 33  mfcc8_mean               1000 non-null   float64\n",
      " 34  mfcc8_var                1000 non-null   float64\n",
      " 35  mfcc9_mean               1000 non-null   float64\n",
      " 36  mfcc9_var                1000 non-null   float64\n",
      " 37  mfcc10_mean              1000 non-null   float64\n",
      " 38  mfcc10_var               1000 non-null   float64\n",
      " 39  mfcc11_mean              1000 non-null   float64\n",
      " 40  mfcc11_var               1000 non-null   float64\n",
      " 41  mfcc12_mean              1000 non-null   float64\n",
      " 42  mfcc12_var               1000 non-null   float64\n",
      " 43  mfcc13_mean              1000 non-null   float64\n",
      " 44  mfcc13_var               1000 non-null   float64\n",
      " 45  mfcc14_mean              1000 non-null   float64\n",
      " 46  mfcc14_var               1000 non-null   float64\n",
      " 47  mfcc15_mean              1000 non-null   float64\n",
      " 48  mfcc15_var               1000 non-null   float64\n",
      " 49  mfcc16_mean              1000 non-null   float64\n",
      " 50  mfcc16_var               1000 non-null   float64\n",
      " 51  mfcc17_mean              1000 non-null   float64\n",
      " 52  mfcc17_var               1000 non-null   float64\n",
      " 53  mfcc18_mean              1000 non-null   float64\n",
      " 54  mfcc18_var               1000 non-null   float64\n",
      " 55  mfcc19_mean              1000 non-null   float64\n",
      " 56  mfcc19_var               1000 non-null   float64\n",
      " 57  mfcc20_mean              1000 non-null   float64\n",
      " 58  mfcc20_var               1000 non-null   float64\n",
      " 59  label                    1000 non-null   object \n",
      "dtypes: float64(57), int64(1), object(2)\n",
      "memory usage: 468.9+ KB\n",
      "None\n"
     ]
    }
   ],
   "source": [
    "# Load data\n",
    "\n",
    "# pd.set_option('display.max_columns', 60)\n",
    "train_df = pd.read_csv(\"data/gtzan_music_genre/features_30_sec.csv\")\n",
    "train_df.head()\n",
    "print(train_df.shape)\n",
    "print(train_df.info())"
   ]
  },
  {
   "cell_type": "code",
   "execution_count": 4,
   "metadata": {},
   "outputs": [],
   "source": [
    "# Preprocessing\n",
    "train_df = train_df.drop(['filename', 'length'], axis = 1)\n",
    "y = train_df['label']\n",
    "X = train_df.drop('label', axis = 1)\n",
    "x_train, x_test, y_train, y_test = train_test_split(X, y, test_size=0.2, random_state=42)"
   ]
  },
  {
   "cell_type": "code",
   "execution_count": 5,
   "metadata": {},
   "outputs": [],
   "source": [
    "# More preprocessing\n",
    "label_encoder = LabelEncoder()\n",
    "scale = MinMaxScaler()\n",
    "scaled_data = scale.fit_transform(x_train)\n",
    "x_train_sc = pd.DataFrame(scaled_data, columns = x_train.columns).values\n",
    "scaled_data = scale.fit_transform(x_test)\n",
    "x_test_sc = pd.DataFrame(scaled_data, columns = x_test.columns).values\n",
    "y_encoded = label_encoder.fit_transform(y_train)\n",
    "y_test_encoded = label_encoder.fit_transform(y_test)\n",
    "\n",
    "# One-hot encode target labels\n",
    "num_classes = len(np.unique(y_train))  # Assuming there are 10 classes\n",
    " # One hot encode target values\n",
    "y_train_one_hot = pd.get_dummies(y_train).values\n",
    "y_test_one_hot = pd.get_dummies(y_test).values"
   ]
  },
  {
   "cell_type": "code",
   "execution_count": 40,
   "metadata": {},
   "outputs": [
    {
     "name": "stdout",
     "output_type": "stream",
     "text": [
      "0.69625\n",
      "0.385\n"
     ]
    }
   ],
   "source": [
    "# NN optimization SA\n",
    "nn_model = mlr.NeuralNetwork(hidden_nodes=[32, 16, 8],\n",
    "                                     activation='relu',\n",
    "                                     algorithm='random_hill_climb',\n",
    "                                     max_iters=50000,\n",
    "                                     bias=True,\n",
    "                                     is_classifier=True,\n",
    "                                     learning_rate=0.5,\n",
    "                                     early_stopping=False,\n",
    "                                     max_attempts=100,\n",
    "                                     random_state=42)\n",
    "\n",
    "# Fit the model\n",
    "nn_model.fit(x_train_sc, y_train_one_hot)\n",
    "\n",
    "# Predict labels for train and test set\n",
    "y_train_pred = nn_model.predict(x_train_sc)\n",
    "y_test_pred = nn_model.predict(x_test_sc)\n",
    "\n",
    "# Calculate accuracy\n",
    "train_accuracy = accuracy_score(y_train_one_hot, y_train_pred)\n",
    "test_accuracy = accuracy_score(y_test_one_hot, y_test_pred)\n",
    "print(train_accuracy)\n",
    "print(test_accuracy)\n"
   ]
  },
  {
   "cell_type": "code",
   "execution_count": 41,
   "metadata": {},
   "outputs": [
    {
     "name": "stdout",
     "output_type": "stream",
     "text": [
      "0.69625\n",
      "0.385\n"
     ]
    }
   ],
   "source": [
    "# Simulated Annealing\n",
    "nn_model1 = mlr.NeuralNetwork(hidden_nodes = [32, 16, 8], activation = 'relu', \n",
    "                                 algorithm = 'simulated_annealing', \n",
    "                                 max_iters = 50000, bias = True, is_classifier = True, \n",
    "                                 learning_rate = 0.5, early_stopping = True, \n",
    "                                 clip_max = 5, max_attempts = 100, random_state = 42,\n",
    "                                 schedule=mlr.ExpDecay())\n",
    "\n",
    "# Fit the model\n",
    "nn_model.fit(x_train_sc, y_train_one_hot)\n",
    "\n",
    "# Predict labels for train and test set\n",
    "y_train_pred = nn_model.predict(x_train_sc)\n",
    "y_test_pred = nn_model.predict(x_test_sc)\n",
    "\n",
    "# Calculate accuracy\n",
    "train_accuracy = accuracy_score(y_train_one_hot, y_train_pred)\n",
    "test_accuracy = accuracy_score(y_test_one_hot, y_test_pred)\n",
    "print(train_accuracy)\n",
    "print(test_accuracy)\n"
   ]
  },
  {
   "cell_type": "code",
   "execution_count": 42,
   "metadata": {},
   "outputs": [
    {
     "name": "stdout",
     "output_type": "stream",
     "text": [
      "0.69625\n",
      "0.385\n"
     ]
    }
   ],
   "source": [
    "nn_model1 = mlr.NeuralNetwork(hidden_nodes=[32, 16, 8], activation = 'relu', \n",
    "                                 algorithm = 'genetic_alg', \n",
    "                                 max_iters = 50000, bias = True, is_classifier = True, \n",
    "                                 learning_rate = 0.5, early_stopping = True, \n",
    "                                 clip_max = 5, max_attempts = 100, random_state = 3,\n",
    "                                 pop_size=200, mutation_prob=0.1)\n",
    "\n",
    "\n",
    "# Fit the model\n",
    "nn_model.fit(x_train_sc, y_train_one_hot)\n",
    "\n",
    "# Predict labels for train and test set\n",
    "y_train_pred = nn_model.predict(x_train_sc)\n",
    "y_test_pred = nn_model.predict(x_test_sc)\n",
    "\n",
    "# Calculate accuracy\n",
    "train_accuracy = accuracy_score(y_train_one_hot, y_train_pred)\n",
    "test_accuracy = accuracy_score(y_test_one_hot, y_test_pred)\n",
    "print(train_accuracy)\n",
    "print(test_accuracy)"
   ]
  },
  {
   "cell_type": "code",
   "execution_count": 47,
   "metadata": {},
   "outputs": [
    {
     "name": "stdout",
     "output_type": "stream",
     "text": [
      "[[1 0 0 ... 0 0 0]\n",
      " [1 0 0 ... 0 0 0]\n",
      " [1 0 0 ... 0 0 0]\n",
      " ...\n",
      " [1 0 0 ... 0 0 0]\n",
      " [1 0 0 ... 0 0 0]\n",
      " [1 0 0 ... 0 0 0]]\n",
      "0.1\n",
      "0.1\n"
     ]
    }
   ],
   "source": [
    "# NN optimization SA\n",
    "nn_model = mlr.NeuralNetwork(hidden_nodes=[32, 16, 8],\n",
    "                                     activation='relu',\n",
    "                                     algorithm='gradient_descent',\n",
    "                                     max_iters=10000,\n",
    "                                     bias=True,\n",
    "                                     is_classifier=True,\n",
    "                                     learning_rate=0.2,\n",
    "                                     early_stopping=False,\n",
    "                                     max_attempts=100,\n",
    "                                     random_state=42)\n",
    "\n",
    "# Fit the model\n",
    "nn_model.fit(x_train_sc, y_train_one_hot)\n",
    "\n",
    "# Predict labels for train and test set\n",
    "y_train_pred = nn_model.predict(x_train_sc)\n",
    "y_test_pred = nn_model.predict(x_test_sc)\n",
    "\n",
    "print(y_test_pred)\n",
    "# Calculate accuracy\n",
    "train_accuracy = accuracy_score(y_train_one_hot, y_train_pred)\n",
    "test_accuracy = accuracy_score(y_test_one_hot, y_test_pred)\n",
    "print(train_accuracy)\n",
    "print(test_accuracy)\n"
   ]
  },
  {
   "cell_type": "code",
   "execution_count": null,
   "metadata": {},
   "outputs": [],
   "source": [
    "# Assuming x_train_sc has shape (number_of_samples, number_of_features)\n",
    "# Make sure to replace 'number_of_features' with the actual number of features in your data.\n",
    "\n",
    "# Define the model\n",
    "model = Sequential()\n",
    "# Add hidden layer\n",
    "model.add(Dense(units=128, input_dim=x_train_sc.shape[1], activation='tanh'))\n",
    "# Add hidden layer\n",
    "model.add(Dense(units=64, activation='relu'))\n",
    "# Add hidden layer\n",
    "model.add(Dense(units=32, activation='relu'))\n",
    "# Add hidden layer\n",
    "model.add(Dense(units=16, activation='relu'))\n",
    "# Add hidden layer\n",
    "model.add(Dense(units=8, activation='relu'))\n",
    "# Output layer\n",
    "model.add(Dense(units=len(y_train.unique()), activation='softmax'))\n",
    "# Compile the model\n",
    "model.compile(optimizer='adam', loss='sparse_categorical_crossentropy', metrics=['accuracy'])\n",
    "# Print the model summary\n",
    "# model.summary()\n",
    "# Compile the model\n",
    "model.compile(optimizer='adam', loss='sparse_categorical_crossentropy', metrics=['accuracy'])\n",
    "\n",
    "# Print the model summary\n",
    "# model.summary()\n",
    "\n",
    "\n",
    "# Custom callback for logging test accuracy at each epoch\n",
    "class TestAccuracyLogger(Callback):\n",
    "    def __init__(self, test_data):\n",
    "        super().__init__()\n",
    "        self.test_data = test_data\n",
    "        self.test_accuracies = []\n",
    "\n",
    "    def on_epoch_end(self, epoch, logs=None):\n",
    "        _, test_accuracy = self.model.evaluate(self.test_data[0], self.test_data[1], verbose=0)\n",
    "        self.test_accuracies.append(test_accuracy)\n",
    "        print(f'Test Accuracy after Epoch {epoch + 1}: {test_accuracy * 100:.2f}%')\n",
    "\n",
    "# Assuming x_test_sc and y_test are your test data and labels\n",
    "# Also, replace 'num_classes' with the actual number of classes in your classification task.\n",
    "\n",
    "# Create an instance of the custom callback\n",
    "test_accuracy_logger = TestAccuracyLogger(test_data=(x_test_sc, y_test_encoded))\n",
    "\n",
    "# Fit the model with the custom callback\n",
    "history = model.fit(x_train_sc, y_encoded, epochs=250, batch_size=32, validation_split=0.1, callbacks=[test_accuracy_logger])\n",
    "\n",
    "# Plot the learning curve\n",
    "plt.figure(figsize=(10, 6))\n",
    "plt.plot(history.history['accuracy'], label='Train Accuracy')\n",
    "plt.plot(test_accuracy_logger.test_accuracies, label='Test Accuracy', linestyle='dashed')\n",
    "plt.title('Learning Curve')\n",
    "plt.xlabel('Epoch')\n",
    "plt.ylabel('Accuracy')\n",
    "plt.legend()\n",
    "plt.show()\n",
    "\n",
    "\n",
    "# # Fit the model\n",
    "# # print(x_train_sc)\n",
    "# model.fit(x_train_sc, y_encoded, epochs=100, batch_size=32, validation_split=0.1)\n",
    "\n",
    "# # # Evaluate the model on the test set\n",
    "# test_loss, test_accuracy = model.evaluate(x_test_sc, y_test_encoded)\n",
    "# print(\"Test Accuracy: %.2f%%\" % (test_accuracy * 100))"
   ]
  }
 ],
 "metadata": {
  "kernelspec": {
   "display_name": "Python 3",
   "language": "python",
   "name": "python3"
  },
  "language_info": {
   "codemirror_mode": {
    "name": "ipython",
    "version": 3
   },
   "file_extension": ".py",
   "mimetype": "text/x-python",
   "name": "python",
   "nbconvert_exporter": "python",
   "pygments_lexer": "ipython3",
   "version": "3.11.8"
  }
 },
 "nbformat": 4,
 "nbformat_minor": 2
}
