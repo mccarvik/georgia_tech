{
  "nbformat": 4,
  "nbformat_minor": 0,
  "metadata": {
    "colab": {
      "provenance": [],
      "gpuType": "T4"
    },
    "kernelspec": {
      "name": "python3",
      "display_name": "Python 3"
    },
    "language_info": {
      "name": "python"
    },
    "accelerator": "GPU"
  },
  "cells": [
    {
      "cell_type": "code",
      "execution_count": null,
      "metadata": {
        "colab": {
          "base_uri": "https://localhost:8080/"
        },
        "id": "XaeNGPeWyuXG",
        "outputId": "29fe333b-e862-413f-fe1a-a5c8aa189b19"
      },
      "outputs": [
        {
          "output_type": "stream",
          "name": "stdout",
          "text": [
            "Collecting scikeras\n",
            "  Downloading scikeras-0.12.0-py3-none-any.whl (27 kB)\n",
            "Requirement already satisfied: packaging>=0.21 in /usr/local/lib/python3.10/dist-packages (from scikeras) (23.2)\n",
            "Requirement already satisfied: scikit-learn>=1.0.0 in /usr/local/lib/python3.10/dist-packages (from scikeras) (1.2.2)\n",
            "Requirement already satisfied: numpy>=1.17.3 in /usr/local/lib/python3.10/dist-packages (from scikit-learn>=1.0.0->scikeras) (1.23.5)\n",
            "Requirement already satisfied: scipy>=1.3.2 in /usr/local/lib/python3.10/dist-packages (from scikit-learn>=1.0.0->scikeras) (1.11.4)\n",
            "Requirement already satisfied: joblib>=1.1.1 in /usr/local/lib/python3.10/dist-packages (from scikit-learn>=1.0.0->scikeras) (1.3.2)\n",
            "Requirement already satisfied: threadpoolctl>=2.0.0 in /usr/local/lib/python3.10/dist-packages (from scikit-learn>=1.0.0->scikeras) (3.2.0)\n",
            "Installing collected packages: scikeras\n",
            "Successfully installed scikeras-0.12.0\n"
          ]
        }
      ],
      "source": [
        "\"\"\"\n",
        "Assignment 1 - music genre classification\n",
        "\"\"\"\n",
        "\n",
        "\n",
        "import pdb\n",
        "import numpy as np\n",
        "import pandas as pd\n",
        "import os\n",
        "import warnings\n",
        "warnings.filterwarnings('ignore')\n",
        "import matplotlib.pyplot as plt\n",
        "from sklearn import preprocessing\n",
        "from sklearn.preprocessing import MinMaxScaler\n",
        "from sklearn.preprocessing import LabelEncoder\n",
        "from sklearn.svm import SVC\n",
        "from sklearn.metrics import accuracy_score\n",
        "from sklearn.model_selection import validation_curve, GridSearchCV, StratifiedKFold, train_test_split\n",
        "from xgboost import XGBClassifier\n",
        "from keras.models import Sequential\n",
        "from keras.layers import Dense\n",
        "from keras.callbacks import EarlyStopping\n",
        "\n",
        "!pip install scikeras\n",
        "from scikeras.wrappers import KerasClassifier\n",
        "!pip install tensorflow-gpu\n",
        "!nvidia-smi\n"
      ]
    },
    {
      "cell_type": "code",
      "source": [
        "train_df = pd.read_csv('/content/drive/My Drive/Colab Notebooks/data/gtzan_music_genre/features_30_sec.csv')\n",
        "train_df.head()\n",
        "print(train_df.shape)\n",
        "# print(train_df.info())"
      ],
      "metadata": {
        "colab": {
          "base_uri": "https://localhost:8080/"
        },
        "id": "98E1HMtEzThD",
        "outputId": "d0ccb47d-6ef2-4f85-b4e2-ed7aa9930dd3"
      },
      "execution_count": null,
      "outputs": [
        {
          "output_type": "stream",
          "name": "stdout",
          "text": [
            "(1000, 60)\n"
          ]
        }
      ]
    },
    {
      "cell_type": "code",
      "source": [
        "# Preprocessing\n",
        "train_df = train_df.drop(['filename', 'length'], axis = 1)\n",
        "y = train_df['label']\n",
        "X = train_df.drop('label', axis = 1)\n",
        "x_train, x_test, y_train, y_test = train_test_split(X, y, test_size=0.2, random_state=42)"
      ],
      "metadata": {
        "id": "uHlW8pI1zptv"
      },
      "execution_count": null,
      "outputs": []
    },
    {
      "cell_type": "code",
      "source": [
        "scale = MinMaxScaler()\n",
        "scaled_data = scale.fit_transform(x_train)\n",
        "x_train_sc = pd.DataFrame(scaled_data, columns = x_train.columns).values\n",
        "scaled_data = scale.fit_transform(x_test)\n",
        "x_test_sc = pd.DataFrame(scaled_data, columns = x_test.columns).values"
      ],
      "metadata": {
        "id": "EhBiz_8nzsqM"
      },
      "execution_count": null,
      "outputs": []
    },
    {
      "cell_type": "code",
      "source": [
        "# Define a function to create the Keras model\n",
        "\n",
        "def create_model2(layers, optim):\n",
        "    model= Sequential()\n",
        "    for i, nodes in enumerate(layers):\n",
        "        if i==0:\n",
        "            model.add(Dense(nodes, input_dim=x_train_sc.shape[1]))\n",
        "        else:\n",
        "            model.add(Dense(nodes, activation=\"relu\"))\n",
        "    model.add(Dense(len(y_train.unique()), activation='softmax'))\n",
        "\n",
        "    model.compile(optimizer=optim, loss='binary_crossentropy', metrics=['accuracy'])\n",
        "    return model\n",
        "\n",
        "# need to set the input dim to input params and output dim to possible classes\n",
        "def create_model(optimizer='adam', activation='relu', neurons=16):\n",
        "    model = Sequential()\n",
        "    model.add(Dense(neurons, input_dim=x_train_sc.shape[1], activation=activation))\n",
        "    # model.add(Dense(y_train.shape[1], activation='softmax'))\n",
        "    model.add(Dense(len(y_train.unique()), activation='softmax'))\n",
        "    model.compile(loss='sparse_categorical_crossentropy', optimizer=optimizer, metrics=['accuracy'])\n",
        "    return model\n",
        "\n",
        "# # Wrap Keras model into a function for compatibility with GridSearchCV\n",
        "keras_model = KerasClassifier(build_fn=create_model, activation='relu', neurons=8, epochs=20)\n",
        "# # Define the hyperparameter grid\n",
        "param_grid = {\n",
        "    'optimizer': ['adam', 'sgd', 'rmsprop'],\n",
        "    'activation': ['relu', 'sigmoid', 'tanh'],\n",
        "    'neurons': [8, 16, 32]\n",
        "}\n",
        "# # Create the GridSearchCV object\n",
        "grid = GridSearchCV(estimator=keras_model, param_grid=param_grid, cv=5,\n",
        "                    scoring='accuracy', verbose=9, n_jobs=-1)\n",
        "# # Fit the model to the data\n",
        "grid_result = grid.fit(x_train_sc, y_train, callbacks=[EarlyStopping(monitor='val_loss', patience=2)])\n",
        "\n",
        "# model2= KerasClassifier(model=create_model2, verbose=0, optim='adam', layers=20)\n",
        "# layers=[[20],[40,20], [45, 30, 15]]\n",
        "# # activations = ['sigmoid','relu', 'tanh']\n",
        "# optimizers = ['adam', 'sgd', 'rmsprop'],\n",
        "# param_grid = dict(layers=layers, optim=optimizers, epochs=[30])\n",
        "# grid = GridSearchCV(estimator=model2, param_grid=param_grid)\n",
        "\n",
        "# grid_result= grid.fit(x_train_sc, y_train)\n",
        "\n",
        "\n",
        "[grid_result.best_score_,grid_result.best_params_]\n",
        "# Print the best hyperparameters\n",
        "print(\"Best: %f using %s\" % (grid_result.best_score_, grid_result.best_params_))\n",
        "\n",
        "# Evaluate the model on the test set with the best hyperparameters\n",
        "best_model = grid_result.best_estimator_\n",
        "test_accuracy = best_model.score(x_test_sc, y_test)\n",
        "print(\"Test Accuracy: %.2f%%\" % (test_accuracy * 100))"
      ],
      "metadata": {
        "id": "JLjSWml-z5bS"
      },
      "execution_count": null,
      "outputs": []
    },
    {
      "cell_type": "code",
      "source": [
        "import tensorflow as tf\n",
        "print(\"GPU Available:\", tf.config.list_physical_devices('GPU'))"
      ],
      "metadata": {
        "colab": {
          "base_uri": "https://localhost:8080/"
        },
        "id": "PSdOV8sc2ILE",
        "outputId": "c295fd3f-9266-46b7-f3f9-fff310958c5e"
      },
      "execution_count": null,
      "outputs": [
        {
          "output_type": "stream",
          "name": "stdout",
          "text": [
            "GPU Available: [PhysicalDevice(name='/physical_device:GPU:0', device_type='GPU')]\n"
          ]
        }
      ]
    },
    {
      "cell_type": "code",
      "source": [
        "# Now doing MNIST\n",
        "\n",
        "# get data\n",
        "DATA_PATH = '/content/drive/My Drive/Colab Notebooks/data/mnist/mnist_train.csv'\n",
        "train_df = pd.read_csv(DATA_PATH)\n",
        "DATA_PATH = '/content/drive/My Drive/Colab Notebooks/data/mnist/mnist_test.csv'\n",
        "test_df = pd.read_csv(DATA_PATH)\n",
        "print(train_df.shape)\n"
      ],
      "metadata": {
        "colab": {
          "base_uri": "https://localhost:8080/"
        },
        "id": "jBpiE8161-vg",
        "outputId": "0d9e57ff-5eb9-46bc-d4e3-c3903719705c"
      },
      "execution_count": null,
      "outputs": [
        {
          "output_type": "stream",
          "name": "stdout",
          "text": [
            "(60000, 785)\n"
          ]
        }
      ]
    },
    {
      "cell_type": "code",
      "source": [
        "# need to set the input dim to input params and output dim to possible classes\n",
        "def create_model(optimizer='adam', activation='relu', neurons=16):\n",
        "    model = Sequential()\n",
        "    model.add(Dense(neurons, input_dim=x_train_sc.shape[1], activation=activation))\n",
        "    # model.add(Dense(y_train.shape[1], activation='softmax'))\n",
        "    model.add(Dense(len(y_train.unique()), activation='softmax'))\n",
        "    model.compile(loss='sparse_categorical_crossentropy', optimizer=optimizer, metrics=['accuracy'])\n",
        "    return model\n",
        "\n",
        "# # Wrap Keras model into a function for compatibility with GridSearchCV\n",
        "keras_model = KerasClassifier(build_fn=create_model, activation='relu', neurons=8, epochs=20)\n",
        "# # Define the hyperparameter grid\n",
        "param_grid = {\n",
        "    'optimizer': ['adam', 'sgd', 'rmsprop'],\n",
        "    'activation': ['relu', 'sigmoid', 'tanh'],\n",
        "    'neurons': [8, 16, 32]\n",
        "}\n",
        "# # Create the GridSearchCV object\n",
        "grid = GridSearchCV(estimator=keras_model, param_grid=param_grid, cv=5,\n",
        "                    scoring='accuracy', verbose=9, n_jobs=-1)\n",
        "# # Fit the model to the data\n",
        "grid_result = grid.fit(x_train_sc, y_train, callbacks=[EarlyStopping(monitor='val_loss', patience=2)])\n",
        "\n",
        "[grid_result.best_score_,grid_result.best_params_]\n",
        "# Print the best hyperparameters\n",
        "print(\"Best: %f using %s\" % (grid_result.best_score_, grid_result.best_params_))\n",
        "\n",
        "# Evaluate the model on the test set with the best hyperparameters\n",
        "best_model = grid_result.best_estimator_\n",
        "test_accuracy = best_model.score(x_test_sc, y_test)\n",
        "print(\"Test Accuracy: %.2f%%\" % (test_accuracy * 100))\n"
      ],
      "metadata": {
        "colab": {
          "base_uri": "https://localhost:8080/"
        },
        "id": "vare9mUM23i7",
        "outputId": "24913b8f-fe87-49d0-9c08-e8cfae8da8a7"
      },
      "execution_count": null,
      "outputs": [
        {
          "output_type": "stream",
          "name": "stdout",
          "text": [
            "Fitting 5 folds for each of 27 candidates, totalling 135 fits\n",
            "Epoch 1/20\n",
            "25/25 [==============================] - 2s 4ms/step - loss: 2.3384 - accuracy: 0.1437\n",
            "Epoch 2/20\n",
            "25/25 [==============================] - 0s 3ms/step - loss: 2.2336 - accuracy: 0.2050\n",
            "Epoch 3/20\n",
            "25/25 [==============================] - 0s 3ms/step - loss: 2.1557 - accuracy: 0.2763\n",
            "Epoch 4/20\n",
            "25/25 [==============================] - 0s 4ms/step - loss: 2.0761 - accuracy: 0.3462\n",
            "Epoch 5/20\n",
            "25/25 [==============================] - 0s 4ms/step - loss: 1.9932 - accuracy: 0.4075\n",
            "Epoch 6/20\n",
            "25/25 [==============================] - 0s 4ms/step - loss: 1.9152 - accuracy: 0.4137\n",
            "Epoch 7/20\n",
            "25/25 [==============================] - 0s 4ms/step - loss: 1.8377 - accuracy: 0.4450\n",
            "Epoch 8/20\n",
            "25/25 [==============================] - 0s 4ms/step - loss: 1.7639 - accuracy: 0.4688\n",
            "Epoch 9/20\n",
            "25/25 [==============================] - 0s 4ms/step - loss: 1.6999 - accuracy: 0.4575\n",
            "Epoch 10/20\n",
            "25/25 [==============================] - 0s 4ms/step - loss: 1.6425 - accuracy: 0.4837\n",
            "Epoch 11/20\n",
            "25/25 [==============================] - 0s 3ms/step - loss: 1.5925 - accuracy: 0.4950\n",
            "Epoch 12/20\n",
            "25/25 [==============================] - 0s 3ms/step - loss: 1.5500 - accuracy: 0.5013\n",
            "Epoch 13/20\n",
            "25/25 [==============================] - 0s 3ms/step - loss: 1.5061 - accuracy: 0.5113\n",
            "Epoch 14/20\n",
            "25/25 [==============================] - 0s 4ms/step - loss: 1.4702 - accuracy: 0.5312\n",
            "Epoch 15/20\n",
            "25/25 [==============================] - 0s 4ms/step - loss: 1.4386 - accuracy: 0.5225\n",
            "Epoch 16/20\n",
            "25/25 [==============================] - 0s 4ms/step - loss: 1.4063 - accuracy: 0.5337\n",
            "Epoch 17/20\n",
            "25/25 [==============================] - 0s 5ms/step - loss: 1.3773 - accuracy: 0.5500\n",
            "Epoch 18/20\n",
            "25/25 [==============================] - 0s 4ms/step - loss: 1.3527 - accuracy: 0.5362\n",
            "Epoch 19/20\n",
            "25/25 [==============================] - 0s 3ms/step - loss: 1.3258 - accuracy: 0.5537\n",
            "Epoch 20/20\n",
            "25/25 [==============================] - 0s 3ms/step - loss: 1.3059 - accuracy: 0.5625\n",
            "Best: 0.502500 using {'activation': 'tanh', 'neurons': 32, 'optimizer': 'adam'}\n",
            "7/7 [==============================] - 0s 6ms/step\n",
            "Test Accuracy: 43.50%\n"
          ]
        }
      ]
    }
  ]
}