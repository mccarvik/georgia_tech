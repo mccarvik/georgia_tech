{
 "cells": [
  {
   "cell_type": "markdown",
   "metadata": {
    "editable": false,
    "id": "ywvLShfXIKS1",
    "tags": []
   },
   "source": [
    "# NLP Classification\n",
    "\n",
    "In this assignment we look at several ways of classifying texts:\n",
    "- Naive Bayes\n",
    "- Logistic Regression\n",
    "- Multinomial Regression\n",
    "\n",
    "We also look at binary label classification problems (e.g., sentiment analysis) and multinomial classification problems (e.g., topic analysis).\n",
    "\n",
    "We will use two datasets:\n",
    "- [IMDb movie review sentiment](http://ai.stanford.edu/~amaas/data/sentiment/)\n",
    "- [AG News topics](https://huggingface.co/datasets/ag_news)\n",
    "\n",
    "**Tips:**\n",
    "- Read all the code. We don't ask you to write the training loops, or evaluation loops, but it is often instructive to see how the models are trained and evaluated.\n",
    "- If you have a model that is learning (loss is decreasing), but you want to increase accuracy, try using ``nn.Dropout`` layers just before the final linear layer to force the model to handle missing or unfamiliar data."
   ]
  },
  {
   "cell_type": "code",
   "execution_count": 1,
   "metadata": {
    "editable": false,
    "id": "BIktLO-8681K",
    "tags": [
     "raises-exception"
    ]
   },
   "outputs": [],
   "source": [
    "# start time - notebook execution\n",
    "import time\n",
    "start_nb = time.time()"
   ]
  },
  {
   "cell_type": "markdown",
   "metadata": {
    "editable": false,
    "id": "1xVv6McXodZG",
    "tags": []
   },
   "source": [
    "# Set up"
   ]
  },
  {
   "cell_type": "markdown",
   "metadata": {
    "editable": false,
    "id": "vMRiPTv7vHe2",
    "tags": []
   },
   "source": [
    "Import packages."
   ]
  },
  {
   "cell_type": "code",
   "execution_count": 2,
   "metadata": {
    "editable": false,
    "id": "S5VeRBOiIKS4",
    "tags": [
     "raises-exception"
    ]
   },
   "outputs": [],
   "source": [
    "import nltk\n",
    "import numpy as np\n",
    "import os\n",
    "import pandas as pd\n",
    "import re\n",
    "import torch\n",
    "import torch.nn as nn\n",
    "import torch.optim as optim"
   ]
  },
  {
   "cell_type": "markdown",
   "metadata": {
    "collapsed": false,
    "editable": false,
    "id": "tskEz4ZU681L",
    "tags": []
   },
   "source": [
    "# Initialize the Autograder"
   ]
  },
  {
   "cell_type": "code",
   "execution_count": 3,
   "metadata": {
    "editable": false,
    "id": "t82U7CdK681L",
    "tags": [
     "raises-exception"
    ]
   },
   "outputs": [],
   "source": [
    "# import the autograder tests\n",
    "import hw2_tests as ag"
   ]
  },
  {
   "cell_type": "markdown",
   "metadata": {
    "editable": false,
    "id": "qyRo0v0JIKTK",
    "tags": []
   },
   "source": [
    "# Functions for cleaning up raw texts and tokenizing the corpus\n",
    "\n",
    "We perform text preprocessing that includes: removing HTML tags, making text lower case, stemming, and disposing of stopwords.\n",
    "In the end, we will split the entire dataset into training, validation and test sets."
   ]
  },
  {
   "cell_type": "code",
   "execution_count": 4,
   "metadata": {
    "editable": false,
    "id": "JvfvVWHyIKTL",
    "tags": [
     "raises-exception"
    ]
   },
   "outputs": [],
   "source": [
    "# Stemming the text\n",
    "def simple_stemmer(text):\n",
    "    ps=nltk.porter.PorterStemmer()\n",
    "    text= [ps.stem(word) for word in text]\n",
    "    return text"
   ]
  },
  {
   "cell_type": "code",
   "execution_count": 5,
   "metadata": {
    "editable": false,
    "id": "Wr_LdWWoIKTL",
    "tags": [
     "raises-exception"
    ]
   },
   "outputs": [
    {
     "name": "stdout",
     "output_type": "stream",
     "text": [
      "['i', 'me', 'my', 'myself', 'we', 'our', 'ours', 'ourselves', 'you', 'your', 'yours', 'yourself', 'yourselves', 'he', 'him', 'his', 'himself', 'she', 'her', 'hers', 'herself', 'it', 'its', 'itself', 'they', 'them', 'their', 'theirs', 'themselves', 'what', 'which', 'who', 'whom', 'this', 'that', 'these', 'those', 'am', 'is', 'are', 'was', 'were', 'be', 'been', 'being', 'have', 'has', 'had', 'having', 'do', 'does', 'did', 'doing', 'a', 'an', 'the', 'and', 'but', 'if', 'or', 'because', 'as', 'until', 'while', 'of', 'at', 'by', 'for', 'with', 'about', 'against', 'between', 'into', 'through', 'during', 'before', 'after', 'above', 'below', 'to', 'from', 'up', 'down', 'in', 'out', 'on', 'off', 'over', 'under', 'again', 'further', 'then', 'once', 'here', 'there', 'when', 'where', 'why', 'how', 'all', 'any', 'both', 'each', 'few', 'more', 'most', 'other', 'some', 'such', 'no', 'nor', 'not', 'only', 'own', 'same', 'so', 'than', 'too', 'very', 's', 't', 'can', 'will', 'just', 'don', 'should', 'now']\n"
     ]
    }
   ],
   "source": [
    "stopwords_english = [\"i\", \"me\", \"my\", \"myself\", \"we\", \"our\", \"ours\", \"ourselves\", \"you\", \"your\", \"yours\", \"yourself\", \"yourselves\", \"he\", \"him\", \"his\", \"himself\", \"she\", \"her\", \"hers\", \"herself\", \"it\", \"its\", \"itself\", \"they\", \"them\", \"their\", \"theirs\", \"themselves\", \"what\", \"which\", \"who\", \"whom\", \"this\", \"that\", \"these\", \"those\", \"am\", \"is\", \"are\", \"was\", \"were\", \"be\", \"been\", \"being\", \"have\", \"has\", \"had\", \"having\", \"do\", \"does\", \"did\", \"doing\", \"a\", \"an\", \"the\", \"and\", \"but\", \"if\", \"or\", \"because\", \"as\", \"until\", \"while\", \"of\", \"at\", \"by\", \"for\", \"with\", \"about\", \"against\", \"between\", \"into\", \"through\", \"during\", \"before\", \"after\", \"above\", \"below\", \"to\", \"from\", \"up\", \"down\", \"in\", \"out\", \"on\", \"off\", \"over\", \"under\", \"again\", \"further\", \"then\", \"once\", \"here\", \"there\", \"when\", \"where\", \"why\", \"how\", \"all\", \"any\", \"both\", \"each\", \"few\", \"more\", \"most\", \"other\", \"some\", \"such\", \"no\", \"nor\", \"not\", \"only\", \"own\", \"same\", \"so\", \"than\", \"too\", \"very\", \"s\", \"t\", \"can\", \"will\", \"just\", \"don\", \"should\", \"now\"]\n",
    "print(stopwords_english)\n",
    "\n",
    "#removing the stopwords\n",
    "def remove_stopwords(text, stopword_list):\n",
    "    tokens = [token.strip() for token in text]\n",
    "    filtered_tokens = [token for token in tokens if token.lower() not in stopword_list]\n",
    "    return filtered_tokens"
   ]
  },
  {
   "cell_type": "code",
   "execution_count": 6,
   "metadata": {
    "editable": false,
    "id": "NCXHv_tZIKTM",
    "tags": [
     "raises-exception"
    ]
   },
   "outputs": [],
   "source": [
    "def tokenize_and_clean(line, stem_and_remove_stop_words = True):\n",
    "\n",
    "    line = re.sub(r\"<.*?>\", \"\", line).strip() # remove all HTML tags\n",
    "    line = re.sub(r'[^a-zA-Z0-9]', ' ', line) # remove punc\n",
    "    line = line.lower().split()  # lower case\n",
    "    if stem_and_remove_stop_words:\n",
    "        line = remove_stopwords(line, stopwords_english)\n",
    "        line = simple_stemmer(line)\n",
    "\n",
    "    return line"
   ]
  },
  {
   "cell_type": "markdown",
   "metadata": {
    "editable": false,
    "id": "ohc6u_lDIKS-",
    "tags": []
   },
   "source": [
    "# Download and unpack the sentiment data\n",
    "\n"
   ]
  },
  {
   "cell_type": "markdown",
   "metadata": {
    "editable": false,
    "id": "zIklHox9vjMI",
    "tags": []
   },
   "source": [
    "We are using IMDb Dataset for binary sentiment classification that provides a set of 25K highly polar reviews for training, and 25K for testing\n",
    "(each set contains an equal number of positive and negative examples).\n",
    "\n",
    "Dataset folder structure is as follows:\n",
    "\n",
    "dataset/ \\\n",
    "├── test/ \\\n",
    "│     ├── pos/ \\\n",
    "│     ├── neg/ \\\n",
    "├── train/ \\\n",
    "      ├── pos/ \\\n",
    "      └── neg/"
   ]
  },
  {
   "cell_type": "code",
   "execution_count": 7,
   "metadata": {
    "editable": false,
    "id": "pxYJtzVj681M",
    "tags": [
     "raises-exception"
    ]
   },
   "outputs": [],
   "source": [
    "# check if dataset is downloaded\n",
    "# if not os.path.isfile('aclImdb_v1.tar'):\n",
    "#     print(\"Downloading dataset...\")\n",
    "#     !wget http://ai.stanford.edu/~amaas/data/sentiment/aclImdb_v1.tar.gz\n",
    "#     !gunzip aclImdb_v1.tar.gz\n",
    "#     !tar -xvf aclImdb_v1.tar"
   ]
  },
  {
   "cell_type": "markdown",
   "metadata": {
    "editable": false,
    "id": "GRD03KapvnI0",
    "tags": []
   },
   "source": [
    "Load in the text from the folders."
   ]
  },
  {
   "cell_type": "code",
   "execution_count": 8,
   "metadata": {
    "editable": false,
    "id": "HI3VdrTnIKTO",
    "tags": [
     "raises-exception"
    ]
   },
   "outputs": [],
   "source": [
    "def load_text_from_folders(path, file_list, dataset, samples = 2000, stem_and_remove_stop_words = True):\n",
    "    \"\"\"Read set of files from given directory and save returned lines to list.\n",
    "\n",
    "    Parameters\n",
    "    ----------\n",
    "    path : str\n",
    "        Absolute or relative path to given file (or set of files).\n",
    "    file_list: list\n",
    "        List of files names to read.\n",
    "    dataset: list\n",
    "        List that stores read lines.\n",
    "    samples: int\n",
    "        Number of samples in the output\n",
    "    \"\"\"\n",
    "    for i, file in enumerate(file_list):\n",
    "        if i >= samples:\n",
    "            break\n",
    "        with open(os.path.join(path, file), 'r', encoding='utf8') as text:\n",
    "            contents = text.read()\n",
    "            contents_tokenized = tokenize_and_clean(contents, stem_and_remove_stop_words=stem_and_remove_stop_words)\n",
    "            dataset.append(contents_tokenized)"
   ]
  },
  {
   "cell_type": "markdown",
   "metadata": {
    "editable": false,
    "id": "_8KuCNoXIKTO",
    "tags": []
   },
   "source": [
    "# Creating training and test sets\n",
    "\n",
    "This creates four arrays:\n",
    "\n",
    "\n",
    "*   ```train_pos``` -- instances in the training set with positive sentiment labels\n",
    "*   ```train_neg``` -- instances in the training set with negative sentiment labels\n",
    "*   ```test_pos``` -- instances in the testing set with positive sentiment labels\n",
    "*   ```test_neg``` -- instances in the testing set with negative sentiment labels\n",
    "\n",
    "\n",
    "\n"
   ]
  },
  {
   "cell_type": "code",
   "execution_count": 9,
   "metadata": {
    "editable": false,
    "id": "4Nv5FvBIIKTO",
    "tags": [
     "raises-exception"
    ]
   },
   "outputs": [],
   "source": [
    "# Path to dataset location\n",
    "path = 'aclImdb/'\n",
    "\n",
    "# Create lists that will contain read lines\n",
    "train_pos, train_neg, test_pos, test_neg = [], [], [], []\n",
    "\n",
    "# Create a dictionary of paths and lists that store lines (key: value = path: list)\n",
    "sets_dict = {'train/pos/': train_pos, 'train/neg/': train_neg,\n",
    "             'test/pos/': test_pos, 'test/neg/': test_neg}\n",
    "\n",
    "# Load the data\n",
    "for dataset in sets_dict:\n",
    "  file_list = [f for f in sorted(os.listdir(os.path.join(path, dataset))) if f.endswith('.txt')]\n",
    "  load_text_from_folders(os.path.join(path, dataset), file_list, sets_dict[dataset])"
   ]
  },
  {
   "cell_type": "markdown",
   "metadata": {
    "editable": false,
    "id": "3t5nCE_xpvx7",
    "tags": []
   },
   "source": [
    "Convert into Pandas dataframes. Pandas is a virtual spreadsheet with a programmatic API. A ```DataFrame``` is a spreadsheet. We will make a spreadsheet of training data and one for testing data and one with everything together."
   ]
  },
  {
   "cell_type": "code",
   "execution_count": 10,
   "metadata": {
    "editable": false,
    "id": "kovNgXqIIKTP",
    "tags": [
     "raises-exception"
    ]
   },
   "outputs": [],
   "source": [
    "# Concatenate training and testing examples into one dataset\n",
    "TRAIN = pd.concat([pd.DataFrame({'review': train_pos, 'label':1}),\n",
    "                     pd.DataFrame({'review': train_neg, 'label':0})],\n",
    "                     axis=0, ignore_index=True)\n",
    "\n",
    "TEST = pd.concat([pd.DataFrame({'review': test_pos, 'label':1}),\n",
    "                    pd.DataFrame({'review': test_neg, 'label':0})],\n",
    "                    axis=0, ignore_index=True)\n",
    "\n",
    "ALL = pd.concat([TRAIN, TEST])"
   ]
  },
  {
   "cell_type": "markdown",
   "metadata": {
    "editable": false,
    "id": "CKUFtqERp79N",
    "tags": []
   },
   "source": [
    "Look at the data.\n",
    "\n",
    "This is a summary of the data. We see that the data is balanced between labels"
   ]
  },
  {
   "cell_type": "code",
   "execution_count": 11,
   "metadata": {
    "editable": false,
    "id": "0xPnt_CDIKTP",
    "tags": [
     "raises-exception"
    ]
   },
   "outputs": [
    {
     "data": {
      "text/plain": [
       "label\n",
       "1    2000\n",
       "0    2000\n",
       "Name: count, dtype: int64"
      ]
     },
     "execution_count": 11,
     "metadata": {},
     "output_type": "execute_result"
    }
   ],
   "source": [
    "TRAIN.label.value_counts()"
   ]
  },
  {
   "cell_type": "markdown",
   "metadata": {
    "editable": false,
    "id": "QlV_TMBLqOYB",
    "tags": []
   },
   "source": [
    "This is the first few rows of the training set:"
   ]
  },
  {
   "cell_type": "code",
   "execution_count": 12,
   "metadata": {
    "editable": false,
    "id": "InVC2IvnIKTQ",
    "tags": [
     "raises-exception"
    ]
   },
   "outputs": [
    {
     "data": {
      "text/html": [
       "<div>\n",
       "<style scoped>\n",
       "    .dataframe tbody tr th:only-of-type {\n",
       "        vertical-align: middle;\n",
       "    }\n",
       "\n",
       "    .dataframe tbody tr th {\n",
       "        vertical-align: top;\n",
       "    }\n",
       "\n",
       "    .dataframe thead th {\n",
       "        text-align: right;\n",
       "    }\n",
       "</style>\n",
       "<table border=\"1\" class=\"dataframe\">\n",
       "  <thead>\n",
       "    <tr style=\"text-align: right;\">\n",
       "      <th></th>\n",
       "      <th>review</th>\n",
       "      <th>label</th>\n",
       "    </tr>\n",
       "  </thead>\n",
       "  <tbody>\n",
       "    <tr>\n",
       "      <th>0</th>\n",
       "      <td>[bromwel, high, cartoon, comedi, ran, time, pr...</td>\n",
       "      <td>1</td>\n",
       "    </tr>\n",
       "    <tr>\n",
       "      <th>1</th>\n",
       "      <td>[homeless, houseless, georg, carlin, state, is...</td>\n",
       "      <td>1</td>\n",
       "    </tr>\n",
       "    <tr>\n",
       "      <th>2</th>\n",
       "      <td>[brilliant, act, lesley, ann, warren, best, dr...</td>\n",
       "      <td>1</td>\n",
       "    </tr>\n",
       "    <tr>\n",
       "      <th>3</th>\n",
       "      <td>[easili, underr, film, inn, brook, cannon, sur...</td>\n",
       "      <td>1</td>\n",
       "    </tr>\n",
       "    <tr>\n",
       "      <th>4</th>\n",
       "      <td>[typic, mel, brook, film, much, less, slapstic...</td>\n",
       "      <td>1</td>\n",
       "    </tr>\n",
       "  </tbody>\n",
       "</table>\n",
       "</div>"
      ],
      "text/plain": [
       "                                              review  label\n",
       "0  [bromwel, high, cartoon, comedi, ran, time, pr...      1\n",
       "1  [homeless, houseless, georg, carlin, state, is...      1\n",
       "2  [brilliant, act, lesley, ann, warren, best, dr...      1\n",
       "3  [easili, underr, film, inn, brook, cannon, sur...      1\n",
       "4  [typic, mel, brook, film, much, less, slapstic...      1"
      ]
     },
     "execution_count": 12,
     "metadata": {},
     "output_type": "execute_result"
    }
   ],
   "source": [
    "TRAIN.head()"
   ]
  },
  {
   "cell_type": "markdown",
   "metadata": {
    "editable": false,
    "id": "3jP5U6usIKTR",
    "tags": []
   },
   "source": [
    "# Creating a vocabulary file\n",
    "\n",
    "Next, we have to build a vocabulary. This is effectively a look-up table where every unique word in your data set has a corresponding index (an integer).\n",
    "We do this as our machine learning model cannot operate on strings, but only numbers. Each index is used to construct a one-hot vector for each word."
   ]
  },
  {
   "cell_type": "code",
   "execution_count": 13,
   "metadata": {
    "editable": false,
    "id": "Oz6hQlCgqckU",
    "tags": [
     "raises-exception"
    ]
   },
   "outputs": [],
   "source": [
    "class Vocab:\n",
    "    def __init__(self, name):\n",
    "        self.name = name\n",
    "        self._word2index = {}\n",
    "        self._word2count = {}\n",
    "        self._index2word = {}\n",
    "        self._n_words = 0\n",
    "\n",
    "    def get_words(self):\n",
    "      return list(self._word2count.keys())\n",
    "\n",
    "    def num_words(self):\n",
    "      return self._n_words\n",
    "\n",
    "    def word2index(self, word):\n",
    "      return self._word2index[word]\n",
    "\n",
    "    def index2word(self, word):\n",
    "      return self._index2word[word]\n",
    "\n",
    "    def word2count(self, word):\n",
    "      return self._word2count[word]\n",
    "\n",
    "    def add_sentence(self, sentence):\n",
    "        for word in sentence.split(' '):\n",
    "            self.add_word(word)\n",
    "\n",
    "    def add_word(self, word):\n",
    "        if word not in self._word2index:\n",
    "            self._word2index[word] = self._n_words\n",
    "            self._word2count[word] = 1\n",
    "            self._index2word[self._n_words] = word\n",
    "            self._n_words += 1\n",
    "        else:\n",
    "            self._word2count[word] += 1"
   ]
  },
  {
   "cell_type": "markdown",
   "metadata": {
    "editable": false,
    "id": "UT7oI7pXw9wA",
    "tags": []
   },
   "source": [
    "Make a vocab object."
   ]
  },
  {
   "cell_type": "code",
   "execution_count": 14,
   "metadata": {
    "editable": false,
    "id": "-FLxtGNgw79Q",
    "tags": [
     "raises-exception"
    ]
   },
   "outputs": [],
   "source": [
    "VOCAB = Vocab(\"imdb\")\n",
    "VOCAB_SIZE = 1000\n",
    "NUM_LABELS = 2"
   ]
  },
  {
   "cell_type": "markdown",
   "metadata": {
    "editable": false,
    "id": "ggqgPtCSxAG-",
    "tags": []
   },
   "source": [
    "Load the first ```n``` frequent words in the vocabulary. Do this by sorting by frequency and then truncating."
   ]
  },
  {
   "cell_type": "code",
   "execution_count": 15,
   "metadata": {
    "editable": false,
    "id": "DAiKNELzwC2T",
    "tags": [
     "raises-exception"
    ]
   },
   "outputs": [],
   "source": [
    "# Get word frequency counts\n",
    "word_freq_dict = {}   # key = word, value = frequency\n",
    "for review in ALL['review']:\n",
    "  for word in review:\n",
    "    if word in word_freq_dict:\n",
    "      word_freq_dict[word] += 1\n",
    "    else:\n",
    "      word_freq_dict[word] = 1\n",
    "\n",
    "# Get a list of (word, freq) tuples sorted by frequency\n",
    "kv_list = []  # list of word-freq tuples so can sort\n",
    "for (k,v) in word_freq_dict.items():\n",
    "  kv_list.append((k,v))\n",
    "sorted_kv_list = sorted(kv_list, key=lambda x: x[1], reverse=True)\n",
    "\n",
    "# Load top n words in to vocab object\n",
    "for word, freq in sorted_kv_list[:VOCAB_SIZE]:\n",
    "  VOCAB.add_word(word)"
   ]
  },
  {
   "cell_type": "markdown",
   "metadata": {
    "editable": false,
    "id": "hvh0yHT_IKTi",
    "tags": []
   },
   "source": [
    "# Naive Bayes\n",
    "Naive Bayes Algorithm is based on the Bayes Rule which describes the probability of an event,\n",
    "based on prior knowledge of conditions that might be related to the event.\n",
    "\n",
    "According to Bayes theorem:\n",
    "\n",
    "\n",
    "```Posterior = likelihood * proposition/evidence```\n",
    "\n",
    "or\n",
    "\n",
    "```P(A|B) = P(B|A) * P(A)/P(B)```\n"
   ]
  },
  {
   "cell_type": "markdown",
   "metadata": {
    "editable": false,
    "id": "vELAfeWDRrNq",
    "tags": []
   },
   "source": [
    "Using word presence as features, create an array of features for each review. Each review will thus be an array of size ```len(vocab)``` where each index in the array is a token number and the value in that position is whether the token is present in the review. There will be ```num_rows``` arrays, making a ```num_rows x len(vocab)``` 2D array."
   ]
  },
  {
   "cell_type": "markdown",
   "metadata": {
    "editable": false,
    "id": "DFf6zYmozBtc",
    "tags": []
   },
   "source": [
    "This function creates a bag of words. It returns a vector where each element is a count of the words in the sentence corresponding to the word index."
   ]
  },
  {
   "cell_type": "code",
   "execution_count": 16,
   "metadata": {
    "editable": false,
    "id": "DKCwfenwIKTw",
    "tags": [
     "raises-exception"
    ]
   },
   "outputs": [],
   "source": [
    "def make_bow(sentence):\n",
    "    vec = torch.zeros(VOCAB_SIZE, dtype=torch.float64)\n",
    "    for word in sentence:\n",
    "        if word not in VOCAB.get_words():\n",
    "            continue\n",
    "        vec[VOCAB.word2index(word)] += 1\n",
    "    return vec.view(1, -1)"
   ]
  },
  {
   "cell_type": "markdown",
   "metadata": {
    "editable": false,
    "id": "NHweI8gPzOdh",
    "tags": []
   },
   "source": [
    "Prepare data ```X_TRAIN``` is a 2D array of size ```num_reviews x vocab_size``` that contains training data. Each row will be a bag of words, except each index contains a 1 or 0 based on word presence in the example. Each row is a vector of features $\\phi_1 ... \\phi_{|V|}$ assumed to be independent, where $|V|$ is size of the vocabulary. We don't need to know what the features are, only whether they are present in each example in the training set.\n",
    "\n",
    "```X_TEST``` is the same as above but containing testing data.\n",
    "\n"
   ]
  },
  {
   "cell_type": "code",
   "execution_count": 17,
   "metadata": {
    "editable": false,
    "id": "c30F5ZwyIKTw",
    "tags": [
     "raises-exception"
    ]
   },
   "outputs": [],
   "source": [
    "# Vectorize text reviews to numbers\n",
    "# Make empty vectors\n",
    "X_TRAIN = np.zeros((len(TRAIN), VOCAB_SIZE))\n",
    "X_TEST = np.zeros((len(TEST), VOCAB_SIZE))\n",
    "\n",
    "# Load in frequency counts\n",
    "for i, row in TRAIN.iterrows():\n",
    "    X_TRAIN[i] = np.array(make_bow(row['review'])) > 0 # The > 0 converts to presence instead of counts\n",
    "\n",
    "for i, row in TEST.iterrows():\n",
    "    X_TEST[i] = np.array(make_bow(row['review'])) > 0 # The > 0 converts to presence instead of counts\n",
    "\n",
    "# The labels\n",
    "Y_TRAIN = np.array(TRAIN['label'])\n",
    "Y_TEST = np.array(TEST['label'])"
   ]
  },
  {
   "cell_type": "markdown",
   "metadata": {
    "editable": false,
    "id": "ao16p7_U7Zdz",
    "tags": []
   },
   "source": [
    "What you want to do is to compute probabilities over the training data and then apply those probabilities to the testing examples. Use the Bayes formula to compute $P_{\\rm test}(L_{+}|\\phi_{0:|V|})$ and $P_{\\rm test}(L_{-}|\\phi_{0:|V|})$ for each review. Classify examples based on whether one probability is higher than another. That is, $sign(P_{\\rm test}(L_{+}|\\phi_{0:|V|}) - P_{\\rm test}(L_{-}|\\phi_{0:|V|}))$ indicates a positive review when greater than 0 and a negative review when less than 0.\n",
    "\n",
    "**Hint:** You do not need to implement any loops. Numpy indexing and slicing operations, along with built in functions like `.mean()`, `.sum()`, etc. will allow all operations to be performed on each row of the data in parallel."
   ]
  },
  {
   "cell_type": "markdown",
   "metadata": {
    "editable": false,
    "id": "Q2ch6U7uNmeN",
    "tags": []
   },
   "source": [
    "Step 1: Compute the positive label condition:\n",
    "$P(L_{+}|\\phi_{0:|V|}) = P(\\phi_{0:|V|}|L_{+})P(L_{+}) / P(\\phi_{0:|V|})$"
   ]
  },
  {
   "cell_type": "code",
   "execution_count": 29,
   "metadata": {
    "editable": true,
    "id": "AwAAV9Zq7YbI",
    "nbgrader": {
     "grade": false,
     "grade_id": "cell-4e927fe9f8caf96a",
     "locked": false,
     "schema_version": 3,
     "solution": true,
     "task": false
    },
    "tags": [
     "raises-exception"
    ]
   },
   "outputs": [],
   "source": [
    "def grab_samples(xt, yt, pos):\n",
    "  if pos:\n",
    "    return xt[yt==1]\n",
    "  else:\n",
    "    return xt[yt==0]\n",
    "\n",
    "def prob_pos_given_features(x_train, y_train):\n",
    "  log_probs = np.array([0] * x_train.shape[1])\n",
    "  ### BEGIN SOLUTION\n",
    "  # so firt we grab all the positives, well grab all the negatives for the next function\n",
    "  x_pos = grab_samples(x_train, y_train, True)\n",
    "\n",
    "  # we now need the word counts for each and total_words\n",
    "  # this jsut sums each of the words\n",
    "  w_ct = np.sum(x_pos, axis=0) + 1\n",
    "  # and now the total pos words for the denominator\n",
    "  w_tot = np.sum(x_pos, axis=0) + 2\n",
    "\n",
    "  # and now we just do the log of those guys for our return value\n",
    "  log_probs = np.log(w_ct / w_tot)\n",
    "  \n",
    "\n",
    "  ### END SOLUTION\n",
    "  return log_probs"
   ]
  },
  {
   "cell_type": "markdown",
   "metadata": {
    "editable": false,
    "id": "5eeKepgkNpNa",
    "tags": []
   },
   "source": [
    "Step 2: Compute the negative label condition:\n",
    "$P(L_{-}|\\phi_{0:|V|}) = P(\\phi_{0:|V|}|L_{-})P(L_{-}) / P(\\phi_{0:|V|})$"
   ]
  },
  {
   "cell_type": "code",
   "execution_count": 30,
   "metadata": {
    "editable": true,
    "id": "nWP9U3BuMess",
    "nbgrader": {
     "grade": false,
     "grade_id": "cell-996c909da2d8b8bd",
     "locked": false,
     "schema_version": 3,
     "solution": true,
     "task": false
    },
    "tags": [
     "raises-exception"
    ]
   },
   "outputs": [],
   "source": [
    "def prob_neg_given_features(x_train, y_train):\n",
    "  log_probs = np.array([0] * x_train.shape[1])\n",
    "  ### BEGIN SOLUTION\n",
    "  # This is all gonna be the same as above except with negs\n",
    "  # so firt we grab all the positives, well grab all the negatives for the next function\n",
    "  x_neg = grab_samples(x_train, y_train, False)\n",
    "\n",
    "  # we now need the word counts for each and total_words\n",
    "  # this jsut sums each of the words\n",
    "  w_ct = np.sum(x_neg, axis=0) + 1\n",
    "  # and now the total pos words for the denominator\n",
    "  w_tot = np.sum(x_neg, axis=0) + 2\n",
    "\n",
    "  # and now we just do the log of those guys for our return value\n",
    "  log_probs = np.log(w_ct / w_tot)\n",
    "  \n",
    "  ### END SOLUTION\n",
    "  return log_probs"
   ]
  },
  {
   "cell_type": "code",
   "execution_count": 32,
   "metadata": {
    "editable": false,
    "id": "ZXdgx0Ku9sYq",
    "tags": [
     "raises-exception"
    ]
   },
   "outputs": [
    {
     "name": "stdout",
     "output_type": "stream",
     "text": [
      "[-0.0008507  -0.00085653 -0.00085874 -0.00105541 -0.00117302 -0.00127146\n",
      " -0.00145455 -0.00152323 -0.001386   -0.00142755 -0.00126823 -0.00141343\n",
      " -0.00180018 -0.00177462 -0.0020141  -0.00180343 -0.00142959 -0.00203046\n",
      " -0.00184332 -0.00399202 -0.00203459 -0.0019861  -0.00207254 -0.0022805\n",
      " -0.00195886 -0.00148258 -0.00172563 -0.00198216 -0.00187441 -0.00179051\n",
      " -0.00165975 -0.00231214 -0.00215285 -0.0020555  -0.00218579 -0.00247832\n",
      " -0.00245399 -0.00211193 -0.00224972 -0.00270636 -0.00322061 -0.00276625\n",
      " -0.00228572 -0.00240674 -0.00209864 -0.00264901 -0.00202225 -0.00224972\n",
      " -0.00230681 -0.00239521 -0.00247219 -0.0025413  -0.00243605 -0.00347826\n",
      " -0.00241838 -0.0032949  -0.00302572 -0.00260756 -0.00238949 -0.00280505\n",
      " -0.00249066 -0.00332779 -0.00275862 -0.00407333 -0.00336135 -0.00383878\n",
      " -0.00392928 -0.00344234 -0.00351494 -0.00298063 -0.00332779 -0.0032\n",
      " -0.00508907 -0.00410678 -0.00373832 -0.00415801 -0.00270636 -0.00386848\n",
      " -0.00317965 -0.00583092 -0.0038835  -0.00312013 -0.00351494 -0.00368325\n",
      " -0.00340716 -0.00266312 -0.00408999 -0.00373832 -0.00328408 -0.00379507\n",
      " -0.00491401 -0.0038835  -0.00607905 -0.0038835  -0.00619197 -0.00389864\n",
      " -0.00386848 -0.00392928 -0.00417537 -0.00339559 -0.00424629 -0.00466201\n",
      " -0.00412372 -0.00484262 -0.00336135 -0.00437637 -0.00550966 -0.0040568\n",
      " -0.00350263 -0.00380953 -0.00404041 -0.0040568  -0.0038241  -0.00435731\n",
      " -0.00428266 -0.00481929 -0.00421053 -0.00386848 -0.00422834 -0.00503779\n",
      " -0.00439561 -0.00457667 -0.00664454 -0.00417537 -0.00431966 -0.00557105\n",
      " -0.00331675 -0.0054496  -0.00651468 -0.00394478 -0.00400802 -0.00414079\n",
      " -0.00481929 -0.0044346  -0.00422834 -0.00424629 -0.0035524  -0.00428266\n",
      " -0.00597017 -0.0044346  -0.00547947 -0.00501254 -0.00569802 -0.00437637\n",
      " -0.00554018 -0.00524936 -0.00554018 -0.00498754 -0.00554018 -0.00597017\n",
      " -0.00459771 -0.00579712 -0.00593474 -0.00560226 -0.00630917 -0.00643089\n",
      " -0.00615387 -0.00464038 -0.00481929 -0.00583092 -0.00542007 -0.00557105\n",
      " -0.00766287 -0.00464038 -0.00468385 -0.00527706 -0.00677969 -0.00431966\n",
      " -0.00597017 -0.00441502 -0.00589972 -0.00615387 -0.00579712 -0.00573067\n",
      " -0.0054496  -0.00539085 -0.00527706 -0.00527706 -0.00682597 -0.00457667\n",
      " -0.02597549 -0.00550966 -0.00566574 -0.00522194 -0.00481929 -0.00600602\n",
      " -0.0063898  -0.00586512 -0.00468385 -0.00600602 -0.01212136 -0.00445435\n",
      " -0.00428266 -0.00466201 -0.00626961 -0.00586512 -0.0044346  -0.00647251\n",
      " -0.00626961 -0.00542007 -0.00727276 -0.00597017 -0.00706717 -0.00904984\n",
      " -0.00533335 -0.00904984 -0.00701757 -0.00593474 -0.00611623 -0.00643089\n",
      " -0.00431966 -0.0065574  -0.0057637  -0.00732604 -0.00477328 -0.00611623\n",
      " -0.00732604 -0.00754721 -0.00677969 -0.00772205 -0.00530505 -0.04445176\n",
      " -0.0076046  -0.00836825 -0.00597017 -0.0051151  -0.00706717 -0.00743498\n",
      " -0.00437637 -0.00843887 -0.00623055 -0.01104984 -0.00530505 -0.00668899\n",
      " -0.00706717 -0.00597017 -0.00896867 -0.00865806 -0.00682597 -0.00778214\n",
      " -0.0076046  -0.00938974 -0.00772205 -0.0082305  -0.00701757 -0.00651468\n",
      " -0.00668899 -0.00809721 -0.00843887 -0.00766287 -0.00589972 -0.0102565\n",
      " -0.0063898  -0.00749067 -0.00778214 -0.00682597 -0.00749067 -0.00784318\n",
      " -0.00664454 -0.00716849 -0.00626961 -0.02597549 -0.0111733  -0.00947874\n",
      " -0.00784318 -0.00677969 -0.00600602 -0.01156082 -0.00706717 -0.00579712\n",
      " -0.00701757 -0.00692044 -0.02061929 -0.02531781 -0.0057637  -0.00913248\n",
      " -0.00843887 -0.00851069 -0.00569802 -0.00696867 -0.00626961 -0.00615387\n",
      " -0.00896867 -0.00772205 -0.0076046  -0.00749067 -0.0065574  -0.00743498\n",
      " -0.01600034 -0.00865806 -0.00539085 -0.00706717 -0.00873368 -0.00873368\n",
      " -0.00486619 -0.00888895 -0.00630917 -0.00938974 -0.0076046  -0.00803217\n",
      " -0.00851069 -0.01550419 -0.00947874 -0.0065574  -0.00858374 -0.00904984\n",
      " -0.01273903 -0.00930239 -0.0098523  -0.00816331 -0.0111733  -0.00921666\n",
      " -0.00803217 -0.00754721 -0.01342302 -0.0065574  -0.0114287  -0.00716849\n",
      " -0.01129956 -0.0082305  -0.00643089 -0.00696867 -0.01242252 -0.01129956\n",
      " -0.01069529 -0.01242252 -0.00816331 -0.01197619 -0.00809721 -0.00809721\n",
      " -0.01550419 -0.00956945 -0.00668899 -0.0098523  -0.00858374 -0.00803217\n",
      " -0.00796817 -0.00754721 -0.00706717 -0.01081092 -0.00888895 -0.00836825\n",
      " -0.0111733  -0.00858374 -0.00995033 -0.00995033 -0.01550419 -0.0076046\n",
      " -0.00607905 -0.01005034 -0.00809721 -0.00881063 -0.00913248 -0.01156082\n",
      " -0.00995033 -0.00692044 -0.00930239 -0.00803217 -0.00738011 -0.00692044\n",
      " -0.02597549 -0.00851069 -0.01104984 -0.00809721 -0.00913248 -0.00749067\n",
      " -0.00938974 -0.00966191 -0.00995033 -0.01156082 -0.00995033 -0.00956945\n",
      " -0.0102565  -0.00904984 -0.00790518 -0.01242252 -0.00896867 -0.01739174\n",
      " -0.01398624 -0.01197619 -0.01092907 -0.00873368 -0.01058211 -0.00816331\n",
      " -0.01104984 -0.00634923 -0.01503788 -0.01398624 -0.00749067 -0.00851069\n",
      " -0.00766287 -0.0102565  -0.00913248 -0.00784318 -0.01626052 -0.01036279\n",
      " -0.0145988  -0.0145988  -0.00816331 -0.02739897 -0.00778214 -0.00995033\n",
      " -0.00930239 -0.00816331 -0.00692044 -0.01307208 -0.01307208 -0.0165293\n",
      " -0.00921666 -0.00938974 -0.00913248 -0.00888895 -0.00921666 -0.01015237\n",
      " -0.01129956 -0.00995033 -0.0104713  -0.01005034 -0.01257878 -0.01005034\n",
      " -0.01015237 -0.0104713  -0.0111733  -0.00888895 -0.01156082 -0.0082305\n",
      " -0.01169604 -0.01503788 -0.01183446 -0.00956945 -0.00743498 -0.01526747\n",
      " -0.01015237 -0.00930239 -0.01600034 -0.00809721 -0.0165293  -0.01169604\n",
      " -0.01069529 -0.01242252 -0.01257878 -0.00851069 -0.01257878 -0.00896867\n",
      " -0.00995033 -0.00858374 -0.01242252 -0.01212136 -0.0111733  -0.01600034\n",
      " -0.00913248 -0.0111733  -0.00858374 -0.01183446 -0.01104984 -0.01398624\n",
      " -0.0145988  -0.00873368 -0.01156082 -0.01257878 -0.01104984 -0.02061929\n",
      " -0.01273903 -0.00784318 -0.00873368 -0.02469261 -0.01015237 -0.00975617\n",
      " -0.01398624 -0.01307208 -0.01481509 -0.02247286 -0.01169604 -0.00975617\n",
      " -0.01092907 -0.01242252 -0.01058211 -0.01438874 -0.04445176 -0.01307208\n",
      " -0.02020271 -0.02020271 -0.00913248 -0.01550419 -0.01092907 -0.01550419\n",
      " -0.00749067 -0.03077166 -0.01129956 -0.01197619 -0.0102565  -0.01156082\n",
      " -0.01197619 -0.01550419 -0.01212136 -0.0145988  -0.01169604 -0.01156082\n",
      " -0.00904984 -0.03077166 -0.00873368 -0.00938974 -0.0129034  -0.0114287\n",
      " -0.01005034 -0.01626052 -0.01197619 -0.0145988  -0.01183446 -0.01438874\n",
      " -0.00743498 -0.00904984 -0.01242252 -0.01904819 -0.01360565 -0.01104984\n",
      " -0.01941809 -0.01769958 -0.01398624 -0.04255961 -0.01242252 -0.01058211\n",
      " -0.01212136 -0.01503788 -0.01212136 -0.02247286 -0.01438874 -0.0145988\n",
      " -0.01398624 -0.0165293  -0.01129956 -0.01197619 -0.0129034  -0.01307208\n",
      " -0.01503788 -0.01069529 -0.01242252 -0.01273903 -0.01169604 -0.01904819\n",
      " -0.01418463 -0.01379332 -0.01212136 -0.01526747 -0.0111733  -0.01058211\n",
      " -0.01709443 -0.01324523 -0.01438874 -0.01379332 -0.01739174 -0.01481509\n",
      " -0.01212136 -0.01081092 -0.0104713  -0.01307208 -0.01342302 -0.01257878\n",
      " -0.01801851 -0.01005034 -0.01379332 -0.01438874 -0.01227009 -0.0129034\n",
      " -0.01227009 -0.01257878 -0.01342302 -0.01438874 -0.01834914 -0.01398624\n",
      " -0.01980263 -0.01324523 -0.01257878 -0.01081092 -0.02197891 -0.02597549\n",
      " -0.01324523 -0.01129956 -0.01600034 -0.01081092 -0.03077166 -0.0129034\n",
      " -0.01324523 -0.01438874 -0.0235305  -0.01156082 -0.01481509 -0.01739174\n",
      " -0.02247286 -0.01550419 -0.01869213 -0.01273903 -0.01739174 -0.02150621\n",
      " -0.01104984 -0.01227009 -0.01574836 -0.01600034 -0.01834914 -0.01360565\n",
      " -0.03390155 -0.01129956 -0.01129956 -0.01769958 -0.01242252 -0.01481509\n",
      " -0.01709443 -0.01092907 -0.01324523 -0.01481509 -0.02298952 -0.01869213\n",
      " -0.01156082 -0.01418463 -0.01092907 -0.01418463 -0.01769958 -0.01739174\n",
      " -0.01481509 -0.0129034  -0.03922071 -0.01212136 -0.01227009 -0.01438874\n",
      " -0.01709443 -0.01526747 -0.01324523 -0.01069529 -0.02247286 -0.00938974\n",
      " -0.01273903 -0.01709443 -0.0165293  -0.01834914 -0.01273903 -0.01242252\n",
      " -0.01834914 -0.01941809 -0.01769958 -0.0145988  -0.01257878 -0.01257878\n",
      " -0.01324523 -0.01379332 -0.01129956 -0.01169604 -0.01503788 -0.01379332\n",
      " -0.02739897 -0.01273903 -0.01227009 -0.01307208 -0.01379332 -0.01526747\n",
      " -0.02666825 -0.02061929 -0.01941809 -0.01503788 -0.0165293  -0.0165293\n",
      " -0.01438874 -0.02298952 -0.01680712 -0.04082199 -0.01197619 -0.01398624\n",
      " -0.01626052 -0.02298952 -0.0145988  -0.01438874 -0.0111733  -0.01834914\n",
      " -0.01197619 -0.01550419 -0.01801851 -0.01739174 -0.03922071 -0.04445176\n",
      " -0.01418463 -0.01398624 -0.0114287  -0.01550419 -0.02197891 -0.02061929\n",
      " -0.01980263 -0.01081092 -0.01739174 -0.01739174 -0.01600034 -0.01418463\n",
      " -0.0111733  -0.01257878 -0.01360565 -0.01503788 -0.02061929 -0.0145988\n",
      " -0.01418463 -0.01574836 -0.01481509 -0.01481509 -0.01739174 -0.01680712\n",
      " -0.01600034 -0.02197891 -0.0165293  -0.02105341 -0.01379332 -0.01869213\n",
      " -0.01769958 -0.02105341 -0.02739897 -0.01273903 -0.01197619 -0.00995033\n",
      " -0.0165293  -0.01550419 -0.06062462 -0.01574836 -0.01600034 -0.02531781\n",
      " -0.01324523 -0.01980263 -0.02020271 -0.01526747 -0.01197619 -0.01242252\n",
      " -0.02020271 -0.01503788 -0.01169604 -0.04652002 -0.01904819 -0.01273903\n",
      " -0.02105341 -0.01398624 -0.03922071 -0.01941809 -0.01418463 -0.01438874\n",
      " -0.01550419 -0.01398624 -0.04082199 -0.01869213 -0.01769958 -0.01342302\n",
      " -0.01574836 -0.0165293  -0.01626052 -0.02666825 -0.02150621 -0.03774033\n",
      " -0.02597549 -0.01869213 -0.01574836 -0.02739897 -0.02150621 -0.01526747\n",
      " -0.0145988  -0.01941809 -0.0317487  -0.04255961 -0.02020271 -0.02150621\n",
      " -0.01526747 -0.01834914 -0.01904819 -0.01257878 -0.08004271 -0.01709443\n",
      " -0.01600034 -0.01980263 -0.01574836 -0.02105341 -0.01550419 -0.01600034\n",
      " -0.01834914 -0.02105341 -0.01904819 -0.02150621 -0.02817088 -0.01307208\n",
      " -0.02985296 -0.01869213 -0.01481509 -0.02061929 -0.02817088 -0.02531781\n",
      " -0.01869213 -0.01801851 -0.01398624 -0.02531781 -0.0235305  -0.02247286\n",
      " -0.01801851 -0.01342302 -0.01769958 -0.01739174 -0.03278982 -0.01769958\n",
      " -0.01503788 -0.02409755 -0.0165293  -0.01709443 -0.02597549 -0.02531781\n",
      " -0.07410797 -0.02247286 -0.02597549 -0.02150621 -0.03278982 -0.01769958\n",
      " -0.01941809 -0.02409755 -0.01801851 -0.02020271 -0.01980263 -0.02531781\n",
      " -0.02197891 -0.03509132 -0.02597549 -0.01834914 -0.01680712 -0.03077166\n",
      " -0.02739897 -0.0235305  -0.02020271 -0.01739174 -0.02061929 -0.02197891\n",
      " -0.01709443 -0.02597549 -0.0235305  -0.02298952 -0.01980263 -0.02409755\n",
      " -0.02469261 -0.02150621 -0.01550419 -0.05129329 -0.01869213 -0.02061929\n",
      " -0.01834914 -0.04879016 -0.02531781 -0.01980263 -0.03509132 -0.04255961\n",
      " -0.01769958 -0.01324523 -0.04445176 -0.01680712 -0.02247286 -0.0165293\n",
      " -0.0165293  -0.02409755 -0.01869213 -0.06453852 -0.01769958 -0.0129034\n",
      " -0.01626052 -0.03509132 -0.03636764 -0.01709443 -0.02817088 -0.02298952\n",
      " -0.01769958 -0.01503788 -0.01801851 -0.01342302 -0.01574836 -0.04255961\n",
      " -0.04445176 -0.0235305  -0.01680712 -0.01626052 -0.01904819 -0.03774033\n",
      " -0.01769958 -0.03509132 -0.03390155 -0.02666825 -0.01769958 -0.03278982\n",
      " -0.0235305  -0.05129329 -0.0235305  -0.01626052 -0.01834914 -0.02531781\n",
      " -0.03077166 -0.03077166 -0.04652002 -0.02898754 -0.02666825 -0.02150621\n",
      " -0.02898754 -0.02666825 -0.04255961 -0.02298952 -0.01709443 -0.02105341\n",
      " -0.01739174 -0.02197891 -0.02247286 -0.02985296 -0.0235305  -0.02020271\n",
      " -0.02105341 -0.02105341 -0.02061929 -0.01739174 -0.02739897 -0.01980263\n",
      " -0.02105341 -0.04652002 -0.02197891 -0.01834914 -0.02409755 -0.02020271\n",
      " -0.02739897 -0.01709443 -0.02898754 -0.02298952 -0.02197891 -0.01769958\n",
      " -0.02150621 -0.02247286 -0.01904819 -0.02597549 -0.02898754 -0.01574836\n",
      " -0.01801851 -0.01869213 -0.04652002 -0.15415068 -0.01980263 -0.02247286\n",
      " -0.0317487  -0.02298952 -0.01980263 -0.01980263 -0.02247286 -0.02197891\n",
      " -0.01801851 -0.02197891 -0.02898754 -0.01834914 -0.04879016 -0.01980263\n",
      " -0.02061929 -0.02409755 -0.02197891 -0.08004271 -0.02061929 -0.02817088\n",
      " -0.02597549 -0.0165293  -0.02817088 -0.0235305  -0.05129329 -0.03636764\n",
      " -0.06062462 -0.02105341 -0.03390155 -0.02150621 -0.03509132 -0.02298952\n",
      " -0.01739174 -0.02197891 -0.02409755 -0.04879016 -0.01398624 -0.01574836\n",
      " -0.02150621 -0.02105341 -0.01709443 -0.02061929 -0.05715841 -0.02298952\n",
      " -0.03922071 -0.02247286 -0.69314718 -0.01904819 -0.02298952 -0.01980263\n",
      " -0.02105341 -0.02469261 -0.03774033 -0.02531781 -0.02469261 -0.02739897\n",
      " -0.03077166 -0.01980263 -0.02666825 -0.02597549 -0.03774033 -0.03390155\n",
      " -0.01980263 -0.02985296 -0.01680712 -0.02020271]\n",
      "[-0.00070299 -0.00086543 -0.00090703 -0.00094922 -0.00121729 -0.00127796\n",
      " -0.00123839 -0.00149813 -0.00139567 -0.00132714 -0.00142552 -0.0017138\n",
      " -0.00126342 -0.00133067 -0.00179695 -0.00163532 -0.00197044 -0.00160128\n",
      " -0.00157604 -0.00138793 -0.00267738 -0.00180996 -0.00209424 -0.00150489\n",
      " -0.00167926 -0.00289436 -0.00323102 -0.00177778 -0.00197044 -0.00207254\n",
      " -0.00262812 -0.00176211 -0.00249688 -0.00189215 -0.00220022 -0.00176835\n",
      " -0.0020555  -0.00281294 -0.00262812 -0.00216685 -0.00194364 -0.00233372\n",
      " -0.00269179 -0.00219058 -0.00277393 -0.00237812 -0.0038241  -0.00254777\n",
      " -0.00246609 -0.0032949  -0.00264901 -0.00267738 -0.00247219 -0.00227015\n",
      " -0.00273598 -0.00252207 -0.00379507 -0.00317965 -0.00368325 -0.00328408\n",
      " -0.00457667 -0.00315956 -0.00357782 -0.00282088 -0.00311042 -0.00281294\n",
      " -0.00272851 -0.00335009 -0.00300752 -0.00373832 -0.00298063 -0.00340716\n",
      " -0.00368325 -0.00326265 -0.00539085 -0.0028777  -0.00445435 -0.00315956\n",
      " -0.00352734 -0.00269906 -0.0035524  -0.0039604  -0.00441502 -0.00380953\n",
      " -0.00414079 -0.00461895 -0.0039139  -0.00402415 -0.00459771 -0.00378072\n",
      " -0.00344234 -0.00373832 -0.00296297 -0.00464038 -0.0051414  -0.00373832\n",
      " -0.00379507 -0.00373832 -0.00373832 -0.00466201 -0.00365631 -0.00439561\n",
      " -0.0039139  -0.0034904  -0.00573067 -0.0040568  -0.00496279 -0.0063898\n",
      " -0.00486619 -0.00428266 -0.00477328 -0.00430108 -0.00472814 -0.0039139\n",
      " -0.00410678 -0.00379507 -0.00501254 -0.00486619 -0.00424629 -0.0054496\n",
      " -0.00404041 -0.00772205 -0.00449439 -0.00402415 -0.0042644  -0.00328408\n",
      " -0.00947874 -0.00397615 -0.00437637 -0.00566574 -0.00498754 -0.00630917\n",
      " -0.00615387 -0.00677969 -0.00522194 -0.00451468 -0.00651468 -0.00481929\n",
      " -0.00369686 -0.00445435 -0.0040568  -0.00457667 -0.00441502 -0.0051151\n",
      " -0.00470589 -0.00424629 -0.0043384  -0.00441502 -0.00402415 -0.0040568\n",
      " -0.00459771 -0.00417537 -0.00408999 -0.00424629 -0.00468385 -0.00375235\n",
      " -0.00457667 -0.00547947 -0.00921666 -0.00459771 -0.00557105 -0.0051414\n",
      " -0.00375235 -0.0054496  -0.00484262 -0.0051414  -0.00668899 -0.00749067\n",
      " -0.00519482 -0.00643089 -0.00486619 -0.00623055 -0.00477328 -0.00508907\n",
      " -0.00539085 -0.00668899 -0.00501254 -0.00501254 -0.00630917 -0.00600602\n",
      " -0.0028777  -0.00865806 -0.00477328 -0.0063898  -0.00851069 -0.00524936\n",
      " -0.00461895 -0.00501254 -0.00706717 -0.00816331 -0.00368325 -0.00673403\n",
      " -0.00743498 -0.00851069 -0.00560226 -0.00530505 -0.00778214 -0.00516797\n",
      " -0.01092907 -0.00554018 -0.00630917 -0.00589972 -0.00623055 -0.00491401\n",
      " -0.00732604 -0.00501254 -0.00566574 -0.00716849 -0.00586512 -0.00604231\n",
      " -0.00743498 -0.00803217 -0.00732604 -0.00930239 -0.00732604 -0.00634923\n",
      " -0.00611623 -0.00701757 -0.00634923 -0.00422834 -0.00727276 -0.00327333\n",
      " -0.00611623 -0.0050633  -0.00626961 -0.00706717 -0.00673403 -0.00604231\n",
      " -0.0145988  -0.00569802 -0.00796817 -0.00479617 -0.00816331 -0.00619197\n",
      " -0.00626961 -0.00809721 -0.00701757 -0.0102565  -0.00754721 -0.00873368\n",
      " -0.00738011 -0.00522194 -0.0076046  -0.00522194 -0.00626961 -0.0076046\n",
      " -0.0082305  -0.00611623 -0.00634923 -0.00888895 -0.00956945 -0.00481929\n",
      " -0.00732604 -0.01058211 -0.00809721 -0.00896867 -0.0065574  -0.00563382\n",
      " -0.00772205 -0.0076046  -0.00873368 -0.00431966 -0.00597017 -0.00597017\n",
      " -0.0082305  -0.01005034 -0.00956945 -0.01438874 -0.00754721 -0.00873368\n",
      " -0.00716849 -0.01005034 -0.00457667 -0.00554018 -0.00896867 -0.00790518\n",
      " -0.00778214 -0.00643089 -0.0129034  -0.00772205 -0.00956945 -0.00881063\n",
      " -0.00611623 -0.00843887 -0.00732604 -0.0065574  -0.01081092 -0.00888895\n",
      " -0.00519482 -0.00722025 -0.01129956 -0.0076046  -0.00722025 -0.01360565\n",
      " -0.01869213 -0.00600602 -0.00956945 -0.00566574 -0.00687288 -0.00851069\n",
      " -0.00716849 -0.00533335 -0.00668899 -0.01169604 -0.00749067 -0.00569802\n",
      " -0.0054496  -0.01324523 -0.00615387 -0.00843887 -0.01015237 -0.00784318\n",
      " -0.00790518 -0.00784318 -0.00975617 -0.00896867 -0.00557105 -0.01227009\n",
      " -0.00597017 -0.00743498 -0.01197619 -0.00921666 -0.01324523 -0.00660068\n",
      " -0.00803217 -0.00738011 -0.00904984 -0.00593474 -0.00716849 -0.00956945\n",
      " -0.00554018 -0.0082988  -0.00790518 -0.00836825 -0.00921666 -0.01342302\n",
      " -0.00913248 -0.01183446 -0.00803217 -0.0082305  -0.00772205 -0.01307208\n",
      " -0.00643089 -0.00836825 -0.01081092 -0.00896867 -0.00615387 -0.01197619\n",
      " -0.01481509 -0.00677969 -0.00881063 -0.0114287  -0.00975617 -0.0111733\n",
      " -0.00816331 -0.01129956 -0.00873368 -0.00975617 -0.00938974 -0.01257878\n",
      " -0.00589972 -0.01242252 -0.01324523 -0.01129956 -0.0114287  -0.01227009\n",
      " -0.00790518 -0.00796817 -0.00938974 -0.00673403 -0.00896867 -0.00995033\n",
      " -0.00896867 -0.00966191 -0.01092907 -0.00921666 -0.01197619 -0.0082305\n",
      " -0.0114287  -0.0082305  -0.00956945 -0.0114287  -0.01324523 -0.01398624\n",
      " -0.01418463 -0.01869213 -0.00722025 -0.00784318 -0.01418463 -0.01092907\n",
      " -0.0104713  -0.00865806 -0.00956945 -0.01481509 -0.00682597 -0.00956945\n",
      " -0.01626052 -0.0114287  -0.0111733  -0.00579712 -0.01360565 -0.00930239\n",
      " -0.01398624 -0.02105341 -0.02666825 -0.00858374 -0.00790518 -0.00836825\n",
      " -0.01418463 -0.00956945 -0.01212136 -0.01104984 -0.01379332 -0.01069529\n",
      " -0.00966191 -0.01227009 -0.00904984 -0.01129956 -0.01257878 -0.01156082\n",
      " -0.01273903 -0.01183446 -0.01342302 -0.01418463 -0.01574836 -0.01342302\n",
      " -0.0111733  -0.01834914 -0.01212136 -0.01307208 -0.02150621 -0.01197619\n",
      " -0.01481509 -0.01769958 -0.00858374 -0.01398624 -0.01092907 -0.01092907\n",
      " -0.01212136 -0.01129956 -0.00921666 -0.0165293  -0.01129956 -0.01156082\n",
      " -0.0102565  -0.01242252 -0.00995033 -0.01526747 -0.01058211 -0.01058211\n",
      " -0.01156082 -0.01980263 -0.01574836 -0.00956945 -0.01709443 -0.00956945\n",
      " -0.00995033 -0.01526747 -0.01273903 -0.00836825 -0.01600034 -0.00843887\n",
      " -0.01834914 -0.02061929 -0.02985296 -0.00888895 -0.0145988  -0.01680712\n",
      " -0.01092907 -0.01169604 -0.01104984 -0.01156082 -0.01092907 -0.01257878\n",
      " -0.02531781 -0.01058211 -0.01503788 -0.0098523  -0.02150621 -0.01129956\n",
      " -0.00865806 -0.02061929 -0.01904819 -0.00809721 -0.01324523 -0.01680712\n",
      " -0.02597549 -0.01418463 -0.01550419 -0.0165293  -0.01739174 -0.01438874\n",
      " -0.01212136 -0.01058211 -0.01600034 -0.01418463 -0.01481509 -0.0114287\n",
      " -0.02739897 -0.00809721 -0.01941809 -0.01834914 -0.0129034  -0.0145988\n",
      " -0.01342302 -0.0098523  -0.01324523 -0.01015237 -0.0129034  -0.0111733\n",
      " -0.02531781 -0.01438874 -0.01360565 -0.0098523  -0.01360565 -0.01360565\n",
      " -0.01212136 -0.01227009 -0.01360565 -0.00722025 -0.0165293  -0.01801851\n",
      " -0.01379332 -0.00947874 -0.01600034 -0.01257878 -0.0235305  -0.01273903\n",
      " -0.01526747 -0.01481509 -0.01342302 -0.01680712 -0.01526747 -0.01227009\n",
      " -0.0129034  -0.01574836 -0.01379332 -0.01360565 -0.01481509 -0.01005034\n",
      " -0.01360565 -0.01418463 -0.01324523 -0.01739174 -0.01273903 -0.01904819\n",
      " -0.0102565  -0.0114287  -0.01005034 -0.01481509 -0.0145988  -0.01273903\n",
      " -0.01212136 -0.01379332 -0.0165293  -0.01739174 -0.01574836 -0.01941809\n",
      " -0.00938974 -0.01941809 -0.01769958 -0.01769958 -0.0165293  -0.01227009\n",
      " -0.02247286 -0.01242252 -0.01526747 -0.03390155 -0.02298952 -0.01600034\n",
      " -0.01169604 -0.0235305  -0.01503788 -0.01904819 -0.01183446 -0.00930239\n",
      " -0.0235305  -0.01769958 -0.01739174 -0.01574836 -0.02409755 -0.01574836\n",
      " -0.01307208 -0.01503788 -0.02020271 -0.02409755 -0.01242252 -0.01526747\n",
      " -0.0114287  -0.01680712 -0.0129034  -0.01481509 -0.02105341 -0.01273903\n",
      " -0.02597549 -0.01360565 -0.01904819 -0.01342302 -0.01869213 -0.01801851\n",
      " -0.01503788 -0.02298952 -0.02105341 -0.01342302 -0.01680712 -0.01680712\n",
      " -0.01550419 -0.01834914 -0.01307208 -0.01307208 -0.01058211 -0.01438874\n",
      " -0.01626052 -0.01600034 -0.01980263 -0.01550419 -0.02150621 -0.02105341\n",
      " -0.01869213 -0.01526747 -0.01081092 -0.01626052 -0.01398624 -0.0235305\n",
      " -0.01398624 -0.0165293  -0.02739897 -0.01626052 -0.0145988  -0.02666825\n",
      " -0.01438874 -0.01481509 -0.02197891 -0.0165293  -0.01769958 -0.01769958\n",
      " -0.01438874 -0.01626052 -0.0235305  -0.01980263 -0.01834914 -0.02061929\n",
      " -0.01941809 -0.02150621 -0.02985296 -0.02531781 -0.01834914 -0.01941809\n",
      " -0.02298952 -0.02298952 -0.02197891 -0.01680712 -0.01904819 -0.01769958\n",
      " -0.02469261 -0.01941809 -0.01980263 -0.01680712 -0.0145988  -0.01834914\n",
      " -0.01834914 -0.01081092 -0.02105341 -0.06899287 -0.02247286 -0.0235305\n",
      " -0.01739174 -0.03509132 -0.01941809 -0.01869213 -0.03077166 -0.0235305\n",
      " -0.03636764 -0.01626052 -0.04082199 -0.01360565 -0.02666825 -0.00930239\n",
      " -0.01574836 -0.01438874 -0.0317487  -0.01980263 -0.01360565 -0.03077166\n",
      " -0.02985296 -0.01980263 -0.01980263 -0.02247286 -0.01941809 -0.02469261\n",
      " -0.03636764 -0.0235305  -0.01980263 -0.01834914 -0.01438874 -0.02739897\n",
      " -0.02247286 -0.03077166 -0.02469261 -0.01481509 -0.01503788 -0.01600034\n",
      " -0.01801851 -0.0145988  -0.01574836 -0.02247286 -0.01980263 -0.01834914\n",
      " -0.01574836 -0.01626052 -0.01904819 -0.02061929 -0.03390155 -0.03390155\n",
      " -0.0165293  -0.0235305  -0.02597549 -0.01626052 -0.02247286 -0.01242252\n",
      " -0.02409755 -0.02817088 -0.01481509 -0.02061929 -0.02247286 -0.02597549\n",
      " -0.03077166 -0.02061929 -0.03390155 -0.01242252 -0.0317487  -0.02531781\n",
      " -0.02898754 -0.02197891 -0.04445176 -0.01834914 -0.02531781 -0.01980263\n",
      " -0.01550419 -0.0235305  -0.01169604 -0.02020271 -0.01550419 -0.02898754\n",
      " -0.01834914 -0.01980263 -0.02985296 -0.01503788 -0.01418463 -0.01834914\n",
      " -0.01324523 -0.01904819 -0.02020271 -0.01550419 -0.01481509 -0.01550419\n",
      " -0.02061929 -0.01574836 -0.01438874 -0.01081092 -0.01680712 -0.01626052\n",
      " -0.01834914 -0.01980263 -0.02298952 -0.02985296 -0.01058211 -0.02469261\n",
      " -0.02247286 -0.01680712 -0.0235305  -0.0165293  -0.02197891 -0.02817088\n",
      " -0.01769958 -0.02898754 -0.02197891 -0.02247286 -0.01398624 -0.09531018\n",
      " -0.01526747 -0.02020271 -0.02597549 -0.02061929 -0.01503788 -0.02105341\n",
      " -0.02150621 -0.02105341 -0.02105341 -0.0165293  -0.02150621 -0.02298952\n",
      " -0.02061929 -0.02739897 -0.0235305  -0.03077166 -0.11778304 -0.02898754\n",
      " -0.02666825 -0.0129034  -0.02150621 -0.01801851 -0.01801851 -0.01904819\n",
      " -0.01092907 -0.01941809 -0.02061929 -0.01941809 -0.0235305  -0.02817088\n",
      " -0.01904819 -0.0145988  -0.01769958 -0.02061929 -0.02817088 -0.01481509\n",
      " -0.02298952 -0.01834914 -0.02247286 -0.01941809 -0.03077166 -0.01869213\n",
      " -0.02817088 -0.01626052 -0.03774033 -0.02469261 -0.01980263 -0.03077166\n",
      " -0.02105341 -0.02061929 -0.0165293  -0.02247286 -0.01980263 -0.01398624\n",
      " -0.02150621 -0.01600034 -0.02409755 -0.01273903 -0.02409755 -0.02298952\n",
      " -0.02739897 -0.02197891 -0.01680712 -0.02985296 -0.01904819 -0.03509132\n",
      " -0.01941809 -0.02666825 -0.04445176 -0.04082199 -0.01600034 -0.02409755\n",
      " -0.02985296 -0.01739174 -0.02531781 -0.01739174 -0.02817088 -0.05715841\n",
      " -0.02985296 -0.01398624 -0.04255961 -0.02985296 -0.01834914 -0.0317487\n",
      " -0.02150621 -0.05129329 -0.02247286 -0.03922071 -0.02739897 -0.03509132\n",
      " -0.01503788 -0.02061929 -0.03278982 -0.02817088 -0.02898754 -0.01481509\n",
      " -0.02298952 -0.02666825 -0.02898754 -0.03509132 -0.02150621 -0.0165293\n",
      " -0.01941809 -0.01273903 -0.02298952 -0.03509132 -0.02739897 -0.02247286\n",
      " -0.03922071 -0.02298952 -0.01626052 -0.02409755 -0.01980263 -0.01869213\n",
      " -0.01941809 -0.03509132 -0.02061929 -0.01680712 -0.02531781 -0.02469261\n",
      " -0.01904819 -0.05129329 -0.02666825 -0.01342302 -0.03922071 -0.01739174\n",
      " -0.03390155 -0.02817088 -0.02298952 -0.03774033 -0.02150621 -0.01869213\n",
      " -0.01941809 -0.03077166 -0.02898754 -0.02817088 -0.01904819 -0.02409755\n",
      " -0.02197891 -0.02597549 -0.02817088 -0.01980263 -0.02531781 -0.03774033\n",
      " -0.02409755 -0.02150621 -0.02739897 -0.01769958 -0.01342302 -0.02898754\n",
      " -0.04445176 -0.02531781 -0.03509132 -0.03922071 -0.02898754 -0.02531781\n",
      " -0.02298952 -0.02597549 -0.02409755 -0.04652002 -0.02985296 -0.02739897\n",
      " -0.02666825 -0.02597549 -0.01941809 -0.0317487  -0.04652002 -0.02531781\n",
      " -0.02247286 -0.02020271 -0.02469261 -0.06453852 -0.03922071 -0.02597549\n",
      " -0.01941809 -0.06062462 -0.02739897 -0.02061929 -0.03636764 -0.01834914\n",
      " -0.01438874 -0.0235305  -0.02061929 -0.02817088 -0.04879016 -0.02247286\n",
      " -0.02666825 -0.02469261 -0.02298952 -0.01834914 -0.06899287 -0.03636764\n",
      " -0.02666825 -0.02247286 -0.02898754 -0.03390155 -0.0317487  -0.02666825\n",
      " -0.01801851 -0.02985296 -0.69314718 -0.03636764 -0.03636764 -0.0235305\n",
      " -0.02898754 -0.02197891 -0.02298952 -0.03636764 -0.02817088 -0.02817088\n",
      " -0.02247286 -0.03077166 -0.02985296 -0.03390155 -0.01526747 -0.03636764\n",
      " -0.02666825 -0.02531781 -0.03922071 -0.02469261]\n"
     ]
    }
   ],
   "source": [
    "pos_probs = prob_pos_given_features(X_TRAIN, Y_TRAIN)\n",
    "neg_probs = prob_neg_given_features(X_TRAIN, Y_TRAIN)\n",
    "print(pos_probs)\n",
    "print(neg_probs)"
   ]
  },
  {
   "cell_type": "markdown",
   "metadata": {
    "editable": false,
    "id": "q9wbtxDZNuj3",
    "tags": []
   },
   "source": [
    "Step 3: Make a label prediction. Subtract (in log scale) the positive from the negative. If the result is greater than zero then it is a prediction of `+` label. If the result is less thn zero then we make a prediction of `-` label."
   ]
  },
  {
   "cell_type": "code",
   "execution_count": 33,
   "metadata": {
    "editable": true,
    "id": "xaz7KBdd_CD1",
    "nbgrader": {
     "grade": false,
     "grade_id": "cell-7b4cde57fd68ac07",
     "locked": false,
     "schema_version": 3,
     "solution": true,
     "task": false
    },
    "tags": [
     "raises-exception"
    ]
   },
   "outputs": [],
   "source": [
    "def naive_bayes(x, pos_probs, neg_probs):\n",
    "  label = 0\n",
    "  ### BEGIN SOLUTION\n",
    "  # so we need to get the sum of all the pos and all the neg for sample x and \n",
    "  # just see which one is greater\n",
    "  # and that will be the label we choose\n",
    "\n",
    "  pos_total_logprob = np.sum(x * pos_probs)\n",
    "  neg_total_logprob = np.sum(x * neg_probs)\n",
    "  \n",
    "  # this should do it\n",
    "  if pos_total_logprob > neg_total_logprob:\n",
    "    label = 1\n",
    "  else:\n",
    "    label = 0\n",
    "\n",
    "  ### END SOLUTION\n",
    "  return label"
   ]
  },
  {
   "cell_type": "markdown",
   "metadata": {
    "editable": false,
    "id": "VUOFzFVU_is3",
    "tags": []
   },
   "source": [
    "# Naive Bayes Test (20 Points)"
   ]
  },
  {
   "cell_type": "code",
   "execution_count": 34,
   "metadata": {
    "editable": false,
    "id": "T1rcPgnWP_6V",
    "tags": [
     "raises-exception"
    ]
   },
   "outputs": [
    {
     "name": "stdout",
     "output_type": "stream",
     "text": [
      "Accuracy:  0.8155\n",
      "Test A: 20/20\n"
     ]
    }
   ],
   "source": [
    "# student check - accuracies >= 78% will receive full credit (no credit for less than 78%)\n",
    "ag.test_naive_bayes(X_TRAIN, Y_TRAIN, X_TEST, Y_TEST)"
   ]
  },
  {
   "cell_type": "markdown",
   "metadata": {
    "editable": false,
    "id": "hUTymITZIKT5",
    "tags": []
   },
   "source": [
    "# Logistic Regression - Part 1\n",
    "\n",
    "We will be using a neural network to perform logistic regression. We will use word counts as the input feature vector.\n"
   ]
  },
  {
   "cell_type": "markdown",
   "metadata": {
    "editable": false,
    "id": "DWKJNb2CXhe5",
    "tags": []
   },
   "source": [
    "Reload the data, but use word counts instead of word presence."
   ]
  },
  {
   "cell_type": "code",
   "execution_count": 35,
   "metadata": {
    "editable": false,
    "id": "sBjsMbDSIKT6",
    "tags": [
     "raises-exception"
    ]
   },
   "outputs": [],
   "source": [
    "# Randomize the data\n",
    "TRAIN = TRAIN.sample(frac=1).reset_index(drop=True)\n",
    "TEST = TEST.sample(frac=1).reset_index(drop=True)\n",
    "\n",
    "# Vectorize text reviews to numbers\n",
    "X_TRAIN = np.zeros((len(TRAIN), VOCAB_SIZE))\n",
    "X_TEST = np.zeros((len(TEST), VOCAB_SIZE))\n",
    "\n",
    "for i, row in TRAIN.iterrows():\n",
    "  X_TRAIN[i] = np.array(make_bow(row['review']))\n",
    "\n",
    "for i, row in TEST.iterrows():\n",
    "  X_TEST[i] = np.array(make_bow(row['review']))\n",
    "\n",
    "Y_TRAIN = np.array(TRAIN['label'])\n",
    "Y_TEST = np.array(TEST['label'])"
   ]
  },
  {
   "cell_type": "markdown",
   "metadata": {
    "editable": false,
    "id": "mSBC93Ge6F1e",
    "tags": []
   },
   "source": [
    "Make a logistic classifier torch neural network.\n",
    "\n",
    "Complete the constructor and forward function. The net will take an arbitrary number of outputs, but for binary logistic regression, only one is needed because the single output neuron can take a value that is between 0 and 1, with 0 meaning negative sentiment and 1 meaning positive sentiment. There should only be as many parameters as ```num_features x (num_labels-1)``` in binary logistic regression and ```num_features x num_labels``` for multinomial logistic regression.\n",
    "\n",
    "The input will be a one-hot vector of size `vocab_size`."
   ]
  },
  {
   "cell_type": "code",
   "execution_count": 37,
   "metadata": {
    "editable": true,
    "id": "yeJnVl7NIKT8",
    "nbgrader": {
     "grade": false,
     "grade_id": "cell-c6124df74ac9d8f1",
     "locked": false,
     "schema_version": 3,
     "solution": true,
     "task": false
    },
    "tags": [
     "raises-exception"
    ]
   },
   "outputs": [],
   "source": [
    "# Defining neural network structure\n",
    "class BoWClassifier(nn.Module):  # inheriting from nn.Module!\n",
    "\n",
    "  def __init__(self, num_labels, vocab_size):\n",
    "    super(BoWClassifier, self).__init__()\n",
    "\n",
    "    # BEGIN SOLUTION\n",
    "    # so lets make the linear layer\n",
    "    # these parameter sizes should be good as mentioned in the comments above\n",
    "    # binary classification so num_lables should be 2? maybe 1? might have to check later\n",
    "    self.lin1 = nn.Linear(vocab_size, num_labels)\n",
    "    # END SOLUTION\n",
    "\n",
    "  def forward(self, bow_vec):\n",
    "    # BEGIN SOLUTION\n",
    "    #  I think this is right, seems simple but its only one layer so all we need \n",
    "    # is activation function and we said wed use sigmoid in the notes\n",
    "    out = torch.sigmoid(self.lin1(bow_vec))\n",
    "    # END SOLUTION\n",
    "    return out"
   ]
  },
  {
   "cell_type": "code",
   "execution_count": 38,
   "metadata": {
    "editable": false,
    "id": "mgPYvkocIKT8",
    "tags": [
     "raises-exception"
    ]
   },
   "outputs": [],
   "source": [
    "# Initialize the model\n",
    "# Use one label because the head can signify a 1 or 0 because of the sigmoid.\n",
    "bow_nn_model = BoWClassifier(NUM_LABELS-1, VOCAB_SIZE)"
   ]
  },
  {
   "cell_type": "markdown",
   "metadata": {
    "editable": false,
    "id": "xaBdfHfDQ5oI",
    "tags": []
   },
   "source": [
    "This function should return two tensors. The first, containing training data, shoud be of size ```batch_size x vocab_size``` for the ```i```th batch. The second should be a list of labels of size ```batch_size```. Both tensors should be of type ```dtype=torch.float```."
   ]
  },
  {
   "cell_type": "code",
   "execution_count": 41,
   "metadata": {
    "editable": true,
    "id": "RPxjUwUTPZTq",
    "nbgrader": {
     "grade": false,
     "grade_id": "cell-abf634c3a00755c7",
     "locked": false,
     "schema_version": 3,
     "solution": true,
     "task": false
    },
    "tags": [
     "raises-exception"
    ]
   },
   "outputs": [],
   "source": [
    "def get_batch(i, batch_size, x_data, y_data):\n",
    "  # Make some empty tensors\n",
    "  x = None\n",
    "  y = None\n",
    "  ### BEGIN SOLUTION\n",
    "  # copy nad paste this guy from HW1\n",
    "  idx_st = i * batch_size\n",
    "  idx_ed = idx_st + batch_size\n",
    "\n",
    "  x_ind_tuples = x_data[idx_st: idx_ed]\n",
    "  y_ind_tuples = y_data[idx_st: idx_ed]\n",
    "\n",
    "  # separate the x from the y and convert to torch\n",
    "  x_feats = torch.tensor(x_ind_tuples, dtype=torch.float32)\n",
    "  y_feats = torch.tensor(y_ind_tuples, dtype=torch.float32)\n",
    "\n",
    "  # had an error, needed to keep these return vals\n",
    "  x = x_feats\n",
    "  y = y_feats\n",
    "  ### END SOLUTION\n",
    "  return x, y"
   ]
  },
  {
   "cell_type": "markdown",
   "metadata": {
    "editable": false,
    "id": "2eMh98LwOwv_",
    "tags": []
   },
   "source": [
    "# Logistic Regression - Part 1 Test (20 Points)"
   ]
  },
  {
   "cell_type": "code",
   "execution_count": 42,
   "metadata": {
    "editable": false,
    "id": "tp-B0qeXNnyo",
    "tags": [
     "raises-exception"
    ]
   },
   "outputs": [
    {
     "name": "stdout",
     "output_type": "stream",
     "text": [
      "Output shape looks good!\n",
      "Test B: 5/5\n"
     ]
    }
   ],
   "source": [
    "# student check\n",
    "ag.test_batch_output_shape(get_batch, X_TRAIN, Y_TRAIN, VOCAB_SIZE)"
   ]
  },
  {
   "cell_type": "code",
   "execution_count": 43,
   "metadata": {
    "editable": false,
    "id": "FdPVSLtrN_2k",
    "tags": [
     "raises-exception"
    ]
   },
   "outputs": [
    {
     "name": "stdout",
     "output_type": "stream",
     "text": [
      "Model has the expected number of layers.\n",
      "Test C: 5/5\n",
      "First layer is a Linear layer.\n",
      "Test D: 5/5\n"
     ]
    }
   ],
   "source": [
    "# student check - your model must have the expected number of layers to receive full credit, no credit otherwise\n",
    "ag.check_bow_architecture(bow_nn_model)"
   ]
  },
  {
   "cell_type": "code",
   "execution_count": 44,
   "metadata": {
    "editable": false,
    "id": "FOYrmRVUj7g7",
    "tags": [
     "raises-exception"
    ]
   },
   "outputs": [
    {
     "name": "stdout",
     "output_type": "stream",
     "text": [
      "Forward pass output shape looks good!\n",
      "Test E: 5/5\n"
     ]
    }
   ],
   "source": [
    "# student check\n",
    "ag.test_forward_pass_shape(X_TRAIN, Y_TRAIN, bow_nn_model)"
   ]
  },
  {
   "cell_type": "markdown",
   "metadata": {
    "editable": false,
    "id": "rN5v9cjKif_H",
    "tags": []
   },
   "source": [
    "# Logistic Regression - Part 2\n",
    "\n",
    "Create a dataset as an array of (X_train, label).\n",
    "\n",
    "Complete ```get_batch(i)``` and set ```batch_size``` and ```num_epochs```.\n",
    "\n",
    "Training loop will call ```get_batch()``` with the iteration number and do everything else.\n"
   ]
  },
  {
   "cell_type": "code",
   "execution_count": 45,
   "metadata": {
    "editable": false,
    "id": "paJEFuigIKT-",
    "tags": [
     "raises-exception"
    ]
   },
   "outputs": [],
   "source": [
    "# Train the model\n",
    "def train(model, train_data, test_data, epochs, batch_size):\n",
    "  n_iter = len(train_data) // batch_size\n",
    "  print(n_iter, 'batches per epoch')\n",
    "  # Loss Function\n",
    "  loss_function = nn.BCELoss()\n",
    "  # Optimizer initlialization\n",
    "  optimizer = optim.SGD(bow_nn_model.parameters(), lr=0.1)\n",
    "\n",
    "  for epoch in range(epochs):\n",
    "    # Make BOW vector for input features and target label\n",
    "    for i in range(n_iter):\n",
    "      x, y = get_batch(i, batch_size, train_data, test_data)\n",
    "\n",
    "      # Step 3. Run the forward pass.\n",
    "      y_hat = model(x)\n",
    "      y_hat = y_hat.reshape(-1)\n",
    "\n",
    "      # Step 4. Compute the loss, gradients, and update the parameters by\n",
    "      loss = loss_function(y_hat,y)\n",
    "      optimizer.zero_grad()\n",
    "      loss.backward()\n",
    "      optimizer.step()\n",
    "\n",
    "      if (epoch+1)%10 == 0 and (i+1) == n_iter:\n",
    "        print('epoch:', epoch+1,',loss =',loss.item(), ', training accuracy =',(torch.round(y_hat)==y).float().mean())\n",
    "  return model"
   ]
  },
  {
   "cell_type": "code",
   "execution_count": 46,
   "metadata": {
    "editable": true,
    "id": "gzD90s3KQgJd",
    "tags": [
     "raises-exception"
    ]
   },
   "outputs": [],
   "source": [
    "# It's ok to modify this cell.\n",
    "BATCH_SIZE = 100\n",
    "N_EPOCHS = 1000"
   ]
  },
  {
   "cell_type": "code",
   "execution_count": 47,
   "metadata": {
    "editable": false,
    "id": "Tv8Lqg8T949T",
    "scrolled": true,
    "tags": [
     "raises-exception"
    ]
   },
   "outputs": [
    {
     "name": "stdout",
     "output_type": "stream",
     "text": [
      "40 batches per epoch\n",
      "epoch: 10 ,loss = 0.2961275279521942 , training accuracy = tensor(0.9200)\n",
      "epoch: 20 ,loss = 0.2470795065164566 , training accuracy = tensor(0.9300)\n",
      "epoch: 30 ,loss = 0.22138631343841553 , training accuracy = tensor(0.9300)\n",
      "epoch: 40 ,loss = 0.20494748651981354 , training accuracy = tensor(0.9300)\n",
      "epoch: 50 ,loss = 0.19324444234371185 , training accuracy = tensor(0.9400)\n",
      "epoch: 60 ,loss = 0.1843004673719406 , training accuracy = tensor(0.9400)\n",
      "epoch: 70 ,loss = 0.17712117731571198 , training accuracy = tensor(0.9400)\n",
      "epoch: 80 ,loss = 0.17115424573421478 , training accuracy = tensor(0.9500)\n",
      "epoch: 90 ,loss = 0.16606755554676056 , training accuracy = tensor(0.9600)\n",
      "epoch: 100 ,loss = 0.16164778172969818 , training accuracy = tensor(0.9600)\n",
      "epoch: 110 ,loss = 0.15775053203105927 , training accuracy = tensor(0.9600)\n",
      "epoch: 120 ,loss = 0.1542736291885376 , training accuracy = tensor(0.9600)\n",
      "epoch: 130 ,loss = 0.15114210546016693 , training accuracy = tensor(0.9600)\n",
      "epoch: 140 ,loss = 0.14829930663108826 , training accuracy = tensor(0.9600)\n",
      "epoch: 150 ,loss = 0.14570119976997375 , training accuracy = tensor(0.9500)\n",
      "epoch: 160 ,loss = 0.14331288635730743 , training accuracy = tensor(0.9500)\n",
      "epoch: 170 ,loss = 0.14110621809959412 , training accuracy = tensor(0.9500)\n",
      "epoch: 180 ,loss = 0.1390581578016281 , training accuracy = tensor(0.9500)\n",
      "epoch: 190 ,loss = 0.1371496468782425 , training accuracy = tensor(0.9500)\n",
      "epoch: 200 ,loss = 0.13536468148231506 , training accuracy = tensor(0.9500)\n",
      "epoch: 210 ,loss = 0.13368991017341614 , training accuracy = tensor(0.9500)\n",
      "epoch: 220 ,loss = 0.13211387395858765 , training accuracy = tensor(0.9500)\n",
      "epoch: 230 ,loss = 0.1306268274784088 , training accuracy = tensor(0.9500)\n",
      "epoch: 240 ,loss = 0.12922042608261108 , training accuracy = tensor(0.9500)\n",
      "epoch: 250 ,loss = 0.12788720428943634 , training accuracy = tensor(0.9500)\n",
      "epoch: 260 ,loss = 0.12662093341350555 , training accuracy = tensor(0.9500)\n",
      "epoch: 270 ,loss = 0.1254158765077591 , training accuracy = tensor(0.9500)\n",
      "epoch: 280 ,loss = 0.12426730990409851 , training accuracy = tensor(0.9500)\n",
      "epoch: 290 ,loss = 0.12317071855068207 , training accuracy = tensor(0.9500)\n",
      "epoch: 300 ,loss = 0.1221221536397934 , training accuracy = tensor(0.9500)\n",
      "epoch: 310 ,loss = 0.12111804634332657 , training accuracy = tensor(0.9500)\n",
      "epoch: 320 ,loss = 0.12015536427497864 , training accuracy = tensor(0.9500)\n",
      "epoch: 330 ,loss = 0.11923116445541382 , training accuracy = tensor(0.9500)\n",
      "epoch: 340 ,loss = 0.11834286898374557 , training accuracy = tensor(0.9500)\n",
      "epoch: 350 ,loss = 0.11748804152011871 , training accuracy = tensor(0.9500)\n",
      "epoch: 360 ,loss = 0.11666450649499893 , training accuracy = tensor(0.9500)\n",
      "epoch: 370 ,loss = 0.11587025970220566 , training accuracy = tensor(0.9500)\n",
      "epoch: 380 ,loss = 0.11510350555181503 , training accuracy = tensor(0.9500)\n",
      "epoch: 390 ,loss = 0.11436264961957932 , training accuracy = tensor(0.9500)\n",
      "epoch: 400 ,loss = 0.11364605277776718 , training accuracy = tensor(0.9500)\n",
      "epoch: 410 ,loss = 0.11295235902070999 , training accuracy = tensor(0.9500)\n",
      "epoch: 420 ,loss = 0.11228018999099731 , training accuracy = tensor(0.9500)\n",
      "epoch: 430 ,loss = 0.11162840574979782 , training accuracy = tensor(0.9500)\n",
      "epoch: 440 ,loss = 0.11099587380886078 , training accuracy = tensor(0.9500)\n",
      "epoch: 450 ,loss = 0.11038157343864441 , training accuracy = tensor(0.9500)\n",
      "epoch: 460 ,loss = 0.1097845584154129 , training accuracy = tensor(0.9500)\n",
      "epoch: 470 ,loss = 0.10920392721891403 , training accuracy = tensor(0.9500)\n",
      "epoch: 480 ,loss = 0.10863889753818512 , training accuracy = tensor(0.9500)\n",
      "epoch: 490 ,loss = 0.10808859765529633 , training accuracy = tensor(0.9500)\n",
      "epoch: 500 ,loss = 0.10755255818367004 , training accuracy = tensor(0.9500)\n",
      "epoch: 510 ,loss = 0.10702995210886002 , training accuracy = tensor(0.9500)\n",
      "epoch: 520 ,loss = 0.10652023553848267 , training accuracy = tensor(0.9500)\n",
      "epoch: 530 ,loss = 0.10602282732725143 , training accuracy = tensor(0.9500)\n",
      "epoch: 540 ,loss = 0.10553710162639618 , training accuracy = tensor(0.9500)\n",
      "epoch: 550 ,loss = 0.1050625890493393 , training accuracy = tensor(0.9500)\n",
      "epoch: 560 ,loss = 0.10459893941879272 , training accuracy = tensor(0.9500)\n",
      "epoch: 570 ,loss = 0.10414557158946991 , training accuracy = tensor(0.9500)\n",
      "epoch: 580 ,loss = 0.10370220243930817 , training accuracy = tensor(0.9500)\n",
      "epoch: 590 ,loss = 0.10326823592185974 , training accuracy = tensor(0.9500)\n",
      "epoch: 600 ,loss = 0.10284344851970673 , training accuracy = tensor(0.9500)\n",
      "epoch: 610 ,loss = 0.10242757201194763 , training accuracy = tensor(0.9500)\n",
      "epoch: 620 ,loss = 0.10202006995677948 , training accuracy = tensor(0.9500)\n",
      "epoch: 630 ,loss = 0.10162077099084854 , training accuracy = tensor(0.9500)\n",
      "epoch: 640 ,loss = 0.10122929513454437 , training accuracy = tensor(0.9500)\n",
      "epoch: 650 ,loss = 0.10084538161754608 , training accuracy = tensor(0.9500)\n",
      "epoch: 660 ,loss = 0.10046874731779099 , training accuracy = tensor(0.9500)\n",
      "epoch: 670 ,loss = 0.10009928047657013 , training accuracy = tensor(0.9500)\n",
      "epoch: 680 ,loss = 0.0997365266084671 , training accuracy = tensor(0.9500)\n",
      "epoch: 690 ,loss = 0.09938035160303116 , training accuracy = tensor(0.9500)\n",
      "epoch: 700 ,loss = 0.09903056919574738 , training accuracy = tensor(0.9500)\n",
      "epoch: 710 ,loss = 0.09868692606687546 , training accuracy = tensor(0.9500)\n",
      "epoch: 720 ,loss = 0.09834916889667511 , training accuracy = tensor(0.9500)\n",
      "epoch: 730 ,loss = 0.09801717102527618 , training accuracy = tensor(0.9500)\n",
      "epoch: 740 ,loss = 0.09769078344106674 , training accuracy = tensor(0.9500)\n",
      "epoch: 750 ,loss = 0.09736979752779007 , training accuracy = tensor(0.9500)\n",
      "epoch: 760 ,loss = 0.09705398231744766 , training accuracy = tensor(0.9500)\n",
      "epoch: 770 ,loss = 0.09674330800771713 , training accuracy = tensor(0.9500)\n",
      "epoch: 780 ,loss = 0.09643746167421341 , training accuracy = tensor(0.9500)\n",
      "epoch: 790 ,loss = 0.09613633900880814 , training accuracy = tensor(0.9500)\n",
      "epoch: 800 ,loss = 0.09583993256092072 , training accuracy = tensor(0.9500)\n",
      "epoch: 810 ,loss = 0.09554797410964966 , training accuracy = tensor(0.9500)\n",
      "epoch: 820 ,loss = 0.09526035934686661 , training accuracy = tensor(0.9500)\n",
      "epoch: 830 ,loss = 0.0949770137667656 , training accuracy = tensor(0.9500)\n",
      "epoch: 840 ,loss = 0.09469778090715408 , training accuracy = tensor(0.9500)\n",
      "epoch: 850 ,loss = 0.09442255645990372 , training accuracy = tensor(0.9500)\n",
      "epoch: 860 ,loss = 0.09415122866630554 , training accuracy = tensor(0.9500)\n",
      "epoch: 870 ,loss = 0.0938837081193924 , training accuracy = tensor(0.9500)\n",
      "epoch: 880 ,loss = 0.09361989796161652 , training accuracy = tensor(0.9500)\n",
      "epoch: 890 ,loss = 0.09335961937904358 , training accuracy = tensor(0.9500)\n",
      "epoch: 900 ,loss = 0.09310285747051239 , training accuracy = tensor(0.9500)\n",
      "epoch: 910 ,loss = 0.09284951537847519 , training accuracy = tensor(0.9500)\n",
      "epoch: 920 ,loss = 0.09259950369596481 , training accuracy = tensor(0.9500)\n",
      "epoch: 930 ,loss = 0.09235276281833649 , training accuracy = tensor(0.9500)\n",
      "epoch: 940 ,loss = 0.09210910648107529 , training accuracy = tensor(0.9500)\n",
      "epoch: 950 ,loss = 0.0918685644865036 , training accuracy = tensor(0.9500)\n",
      "epoch: 960 ,loss = 0.09163094311952591 , training accuracy = tensor(0.9500)\n",
      "epoch: 970 ,loss = 0.0913962870836258 , training accuracy = tensor(0.9500)\n",
      "epoch: 980 ,loss = 0.0911644995212555 , training accuracy = tensor(0.9500)\n",
      "epoch: 990 ,loss = 0.09093550592660904 , training accuracy = tensor(0.9500)\n",
      "epoch: 1000 ,loss = 0.09070925414562225 , training accuracy = tensor(0.9500)\n"
     ]
    }
   ],
   "source": [
    "try:\n",
    "    bow_nn_model = train(bow_nn_model, X_TRAIN, Y_TRAIN, N_EPOCHS, BATCH_SIZE)\n",
    "except:\n",
    "    print(\"Training failed. Please check your code.\")"
   ]
  },
  {
   "cell_type": "markdown",
   "metadata": {
    "editable": false,
    "id": "G4D7NpQlkBGf",
    "tags": []
   },
   "source": [
    "# Logistic Regression - Part 2 Test (20 Points)"
   ]
  },
  {
   "cell_type": "code",
   "execution_count": 48,
   "metadata": {
    "editable": false,
    "id": "qW0uESVguCuL",
    "tags": [
     "raises-exception"
    ]
   },
   "outputs": [
    {
     "name": "stdout",
     "output_type": "stream",
     "text": [
      "              precision    recall  f1-score   support\n",
      "\n",
      "           0       0.82      0.83      0.82      2000\n",
      "           1       0.82      0.82      0.82      2000\n",
      "\n",
      "    accuracy                           0.82      4000\n",
      "   macro avg       0.82      0.82      0.82      4000\n",
      "weighted avg       0.82      0.82      0.82      4000\n",
      "\n",
      "Accuracy:  0.8\n",
      "Test F: 20/20\n"
     ]
    }
   ],
   "source": [
    "# student check - accuracies >= 78% will receive full credit (no credit for less than 78%)\n",
    "ag.test_model_accuracy_lr(TEST, bow_nn_model)"
   ]
  },
  {
   "cell_type": "markdown",
   "metadata": {
    "editable": false,
    "id": "DphmlDCk5sr5",
    "tags": []
   },
   "source": [
    "# Multinomial Regression\n",
    "\n",
    "Load data."
   ]
  },
  {
   "cell_type": "code",
   "execution_count": 49,
   "metadata": {
    "editable": false,
    "id": "SIiy4PBJVh7h",
    "scrolled": true,
    "tags": [
     "raises-exception"
    ]
   },
   "outputs": [
    {
     "name": "stdout",
     "output_type": "stream",
     "text": [
      "Defaulting to user installation because normal site-packages is not writeable\n",
      "Requirement already satisfied: datasets in c:\\users\\mccar\\appdata\\local\\packages\\pythonsoftwarefoundation.python.3.12_qbz5n2kfra8p0\\localcache\\local-packages\\python312\\site-packages (4.0.0)\n",
      "Requirement already satisfied: filelock in c:\\users\\mccar\\appdata\\local\\packages\\pythonsoftwarefoundation.python.3.12_qbz5n2kfra8p0\\localcache\\local-packages\\python312\\site-packages (from datasets) (3.16.1)\n",
      "Requirement already satisfied: numpy>=1.17 in c:\\users\\mccar\\appdata\\local\\packages\\pythonsoftwarefoundation.python.3.12_qbz5n2kfra8p0\\localcache\\local-packages\\python312\\site-packages (from datasets) (1.26.4)\n",
      "Requirement already satisfied: pyarrow>=15.0.0 in c:\\users\\mccar\\appdata\\local\\packages\\pythonsoftwarefoundation.python.3.12_qbz5n2kfra8p0\\localcache\\local-packages\\python312\\site-packages (from datasets) (17.0.0)\n",
      "Requirement already satisfied: dill<0.3.9,>=0.3.0 in c:\\users\\mccar\\appdata\\local\\packages\\pythonsoftwarefoundation.python.3.12_qbz5n2kfra8p0\\localcache\\local-packages\\python312\\site-packages (from datasets) (0.3.8)\n",
      "Requirement already satisfied: pandas in c:\\users\\mccar\\appdata\\local\\packages\\pythonsoftwarefoundation.python.3.12_qbz5n2kfra8p0\\localcache\\local-packages\\python312\\site-packages (from datasets) (2.2.2)\n",
      "Requirement already satisfied: requests>=2.32.2 in c:\\users\\mccar\\appdata\\local\\packages\\pythonsoftwarefoundation.python.3.12_qbz5n2kfra8p0\\localcache\\local-packages\\python312\\site-packages (from datasets) (2.32.3)\n",
      "Requirement already satisfied: tqdm>=4.66.3 in c:\\users\\mccar\\appdata\\local\\packages\\pythonsoftwarefoundation.python.3.12_qbz5n2kfra8p0\\localcache\\local-packages\\python312\\site-packages (from datasets) (4.66.5)\n",
      "Requirement already satisfied: xxhash in c:\\users\\mccar\\appdata\\local\\packages\\pythonsoftwarefoundation.python.3.12_qbz5n2kfra8p0\\localcache\\local-packages\\python312\\site-packages (from datasets) (3.5.0)\n",
      "Requirement already satisfied: multiprocess<0.70.17 in c:\\users\\mccar\\appdata\\local\\packages\\pythonsoftwarefoundation.python.3.12_qbz5n2kfra8p0\\localcache\\local-packages\\python312\\site-packages (from datasets) (0.70.16)\n",
      "Requirement already satisfied: fsspec<=2025.3.0,>=2023.1.0 in c:\\users\\mccar\\appdata\\local\\packages\\pythonsoftwarefoundation.python.3.12_qbz5n2kfra8p0\\localcache\\local-packages\\python312\\site-packages (from fsspec[http]<=2025.3.0,>=2023.1.0->datasets) (2024.9.0)\n",
      "Requirement already satisfied: huggingface-hub>=0.24.0 in c:\\users\\mccar\\appdata\\local\\packages\\pythonsoftwarefoundation.python.3.12_qbz5n2kfra8p0\\localcache\\local-packages\\python312\\site-packages (from datasets) (0.25.0)\n",
      "Requirement already satisfied: packaging in c:\\users\\mccar\\appdata\\local\\packages\\pythonsoftwarefoundation.python.3.12_qbz5n2kfra8p0\\localcache\\local-packages\\python312\\site-packages (from datasets) (24.1)\n",
      "Requirement already satisfied: pyyaml>=5.1 in c:\\users\\mccar\\appdata\\local\\packages\\pythonsoftwarefoundation.python.3.12_qbz5n2kfra8p0\\localcache\\local-packages\\python312\\site-packages (from datasets) (6.0.2)\n",
      "Requirement already satisfied: aiohttp!=4.0.0a0,!=4.0.0a1 in c:\\users\\mccar\\appdata\\local\\packages\\pythonsoftwarefoundation.python.3.12_qbz5n2kfra8p0\\localcache\\local-packages\\python312\\site-packages (from fsspec[http]<=2025.3.0,>=2023.1.0->datasets) (3.10.10)\n",
      "Requirement already satisfied: aiohappyeyeballs>=2.3.0 in c:\\users\\mccar\\appdata\\local\\packages\\pythonsoftwarefoundation.python.3.12_qbz5n2kfra8p0\\localcache\\local-packages\\python312\\site-packages (from aiohttp!=4.0.0a0,!=4.0.0a1->fsspec[http]<=2025.3.0,>=2023.1.0->datasets) (2.4.3)\n",
      "Requirement already satisfied: aiosignal>=1.1.2 in c:\\users\\mccar\\appdata\\local\\packages\\pythonsoftwarefoundation.python.3.12_qbz5n2kfra8p0\\localcache\\local-packages\\python312\\site-packages (from aiohttp!=4.0.0a0,!=4.0.0a1->fsspec[http]<=2025.3.0,>=2023.1.0->datasets) (1.3.1)\n",
      "Requirement already satisfied: attrs>=17.3.0 in c:\\users\\mccar\\appdata\\local\\packages\\pythonsoftwarefoundation.python.3.12_qbz5n2kfra8p0\\localcache\\local-packages\\python312\\site-packages (from aiohttp!=4.0.0a0,!=4.0.0a1->fsspec[http]<=2025.3.0,>=2023.1.0->datasets) (24.2.0)\n",
      "Requirement already satisfied: frozenlist>=1.1.1 in c:\\users\\mccar\\appdata\\local\\packages\\pythonsoftwarefoundation.python.3.12_qbz5n2kfra8p0\\localcache\\local-packages\\python312\\site-packages (from aiohttp!=4.0.0a0,!=4.0.0a1->fsspec[http]<=2025.3.0,>=2023.1.0->datasets) (1.4.1)\n",
      "Requirement already satisfied: multidict<7.0,>=4.5 in c:\\users\\mccar\\appdata\\local\\packages\\pythonsoftwarefoundation.python.3.12_qbz5n2kfra8p0\\localcache\\local-packages\\python312\\site-packages (from aiohttp!=4.0.0a0,!=4.0.0a1->fsspec[http]<=2025.3.0,>=2023.1.0->datasets) (6.1.0)\n",
      "Requirement already satisfied: yarl<2.0,>=1.12.0 in c:\\users\\mccar\\appdata\\local\\packages\\pythonsoftwarefoundation.python.3.12_qbz5n2kfra8p0\\localcache\\local-packages\\python312\\site-packages (from aiohttp!=4.0.0a0,!=4.0.0a1->fsspec[http]<=2025.3.0,>=2023.1.0->datasets) (1.15.4)\n",
      "Requirement already satisfied: idna>=2.0 in c:\\users\\mccar\\appdata\\local\\packages\\pythonsoftwarefoundation.python.3.12_qbz5n2kfra8p0\\localcache\\local-packages\\python312\\site-packages (from yarl<2.0,>=1.12.0->aiohttp!=4.0.0a0,!=4.0.0a1->fsspec[http]<=2025.3.0,>=2023.1.0->datasets) (3.10)\n",
      "Requirement already satisfied: propcache>=0.2.0 in c:\\users\\mccar\\appdata\\local\\packages\\pythonsoftwarefoundation.python.3.12_qbz5n2kfra8p0\\localcache\\local-packages\\python312\\site-packages (from yarl<2.0,>=1.12.0->aiohttp!=4.0.0a0,!=4.0.0a1->fsspec[http]<=2025.3.0,>=2023.1.0->datasets) (0.2.0)\n",
      "Requirement already satisfied: typing-extensions>=3.7.4.3 in c:\\users\\mccar\\appdata\\local\\packages\\pythonsoftwarefoundation.python.3.12_qbz5n2kfra8p0\\localcache\\local-packages\\python312\\site-packages (from huggingface-hub>=0.24.0->datasets) (4.12.2)\n",
      "Requirement already satisfied: charset-normalizer<4,>=2 in c:\\users\\mccar\\appdata\\local\\packages\\pythonsoftwarefoundation.python.3.12_qbz5n2kfra8p0\\localcache\\local-packages\\python312\\site-packages (from requests>=2.32.2->datasets) (3.3.2)\n",
      "Requirement already satisfied: urllib3<3,>=1.21.1 in c:\\users\\mccar\\appdata\\local\\packages\\pythonsoftwarefoundation.python.3.12_qbz5n2kfra8p0\\localcache\\local-packages\\python312\\site-packages (from requests>=2.32.2->datasets) (2.2.3)\n",
      "Requirement already satisfied: certifi>=2017.4.17 in c:\\users\\mccar\\appdata\\local\\packages\\pythonsoftwarefoundation.python.3.12_qbz5n2kfra8p0\\localcache\\local-packages\\python312\\site-packages (from requests>=2.32.2->datasets) (2024.8.30)\n",
      "Requirement already satisfied: colorama in c:\\users\\mccar\\appdata\\local\\packages\\pythonsoftwarefoundation.python.3.12_qbz5n2kfra8p0\\localcache\\local-packages\\python312\\site-packages (from tqdm>=4.66.3->datasets) (0.4.6)\n",
      "Requirement already satisfied: python-dateutil>=2.8.2 in c:\\users\\mccar\\appdata\\local\\packages\\pythonsoftwarefoundation.python.3.12_qbz5n2kfra8p0\\localcache\\local-packages\\python312\\site-packages (from pandas->datasets) (2.9.0.post0)\n",
      "Requirement already satisfied: pytz>=2020.1 in c:\\users\\mccar\\appdata\\local\\packages\\pythonsoftwarefoundation.python.3.12_qbz5n2kfra8p0\\localcache\\local-packages\\python312\\site-packages (from pandas->datasets) (2024.2)\n",
      "Requirement already satisfied: tzdata>=2022.7 in c:\\users\\mccar\\appdata\\local\\packages\\pythonsoftwarefoundation.python.3.12_qbz5n2kfra8p0\\localcache\\local-packages\\python312\\site-packages (from pandas->datasets) (2025.2)\n",
      "Requirement already satisfied: six>=1.5 in c:\\users\\mccar\\appdata\\local\\packages\\pythonsoftwarefoundation.python.3.12_qbz5n2kfra8p0\\localcache\\local-packages\\python312\\site-packages (from python-dateutil>=2.8.2->pandas->datasets) (1.16.0)\n"
     ]
    },
    {
     "name": "stderr",
     "output_type": "stream",
     "text": [
      "\n",
      "[notice] A new release of pip is available: 25.1.1 -> 25.2\n",
      "[notice] To update, run: C:\\Users\\mccar\\AppData\\Local\\Microsoft\\WindowsApps\\PythonSoftwareFoundation.Python.3.12_qbz5n2kfra8p0\\python.exe -m pip install --upgrade pip\n"
     ]
    }
   ],
   "source": [
    "!pip install datasets"
   ]
  },
  {
   "cell_type": "code",
   "execution_count": 50,
   "metadata": {
    "editable": false,
    "id": "GrcwUiN-VfSf",
    "tags": [
     "raises-exception"
    ]
   },
   "outputs": [],
   "source": [
    "from datasets import load_dataset"
   ]
  },
  {
   "cell_type": "markdown",
   "metadata": {
    "editable": true,
    "id": "gqcveFex52Fy",
    "tags": []
   },
   "source": [
    "Unlike earlier, we will use a pre-defined set of embeddings, called [GLoVe](https://nlp.stanford.edu/projects/glove/). GLoVe replaces every word with a 100-dimensional vector of floating point values. The advantage of this is that words with similar semantic meanings will have similar vectors. This is important because the vocabulary size of the corpus we will use is 400,000.\n",
    "\n",
    "For the assigment, instead of getting a one-hot vector for each word, the neural network will get a `batch_size x num_words x 100` tensor containing floating point values.\n",
    "\n",
    "Download the GLoVe embedding vectors."
   ]
  },
  {
   "cell_type": "code",
   "execution_count": 51,
   "metadata": {
    "editable": false,
    "id": "7zIXPea4pZCi",
    "tags": [
     "raises-exception"
    ]
   },
   "outputs": [],
   "source": [
    "import gensim.downloader"
   ]
  },
  {
   "cell_type": "code",
   "execution_count": 52,
   "metadata": {
    "editable": false,
    "id": "-_CNat0Qpf_b",
    "tags": [
     "raises-exception"
    ]
   },
   "outputs": [],
   "source": [
    "glove_vectors = gensim.downloader.load('glove-wiki-gigaword-100')\n",
    "VOCAB_SIZE = len(glove_vectors.vectors)\n",
    "EMBEDDING_DIM = 100"
   ]
  },
  {
   "cell_type": "markdown",
   "metadata": {
    "editable": false,
    "id": "jRcY0APp-9YI",
    "tags": []
   },
   "source": [
    "This function will embed the dataset into sequences of 100-dimension vectors."
   ]
  },
  {
   "cell_type": "code",
   "execution_count": 53,
   "metadata": {
    "editable": false,
    "id": "Yo6wUdb9s97G",
    "tags": [
     "raises-exception"
    ]
   },
   "outputs": [],
   "source": [
    "# pad dataset to a maximum review length in words\n",
    "MAX_LEN = 50\n",
    "\n",
    "def get_glove_seq(review, max_len):\n",
    "  seq = np.zeros((max_len, 100))\n",
    "  for i, word in enumerate(review):\n",
    "    if i < max_len and word in glove_vectors:\n",
    "      seq[i] = glove_vectors[word]\n",
    "  return seq"
   ]
  },
  {
   "cell_type": "code",
   "execution_count": 54,
   "metadata": {
    "editable": false,
    "id": "ZtpvG4mJnwMf",
    "tags": [
     "raises-exception"
    ]
   },
   "outputs": [],
   "source": [
    "news_data_train = load_dataset(\"ag_news\", split=\"train\").shuffle()\n",
    "news_data_test = load_dataset(\"ag_news\", split=\"test\").shuffle()\n",
    "NEWS_TRAIN = pd.DataFrame(news_data_train)[:5000]\n",
    "NEWS_TEST = pd.DataFrame(news_data_test)[:5000]\n",
    "NUM_LABELS = 4"
   ]
  },
  {
   "cell_type": "code",
   "execution_count": 55,
   "metadata": {
    "editable": false,
    "id": "pmx1OElZaAki",
    "tags": [
     "raises-exception"
    ]
   },
   "outputs": [
    {
     "data": {
      "text/html": [
       "<div>\n",
       "<style scoped>\n",
       "    .dataframe tbody tr th:only-of-type {\n",
       "        vertical-align: middle;\n",
       "    }\n",
       "\n",
       "    .dataframe tbody tr th {\n",
       "        vertical-align: top;\n",
       "    }\n",
       "\n",
       "    .dataframe thead th {\n",
       "        text-align: right;\n",
       "    }\n",
       "</style>\n",
       "<table border=\"1\" class=\"dataframe\">\n",
       "  <thead>\n",
       "    <tr style=\"text-align: right;\">\n",
       "      <th></th>\n",
       "      <th>text</th>\n",
       "      <th>label</th>\n",
       "    </tr>\n",
       "  </thead>\n",
       "  <tbody>\n",
       "    <tr>\n",
       "      <th>0</th>\n",
       "      <td>US rates seen headed up despite soft-spot worr...</td>\n",
       "      <td>2</td>\n",
       "    </tr>\n",
       "    <tr>\n",
       "      <th>1</th>\n",
       "      <td>Nortel Cuts Fewer Jobs, Exits Real Estate  OTT...</td>\n",
       "      <td>2</td>\n",
       "    </tr>\n",
       "    <tr>\n",
       "      <th>2</th>\n",
       "      <td>Movie Studios to Sue Illegal Film-File Traders...</td>\n",
       "      <td>3</td>\n",
       "    </tr>\n",
       "    <tr>\n",
       "      <th>3</th>\n",
       "      <td>UPDATE 2-Manchester United calls off bid talks...</td>\n",
       "      <td>1</td>\n",
       "    </tr>\n",
       "    <tr>\n",
       "      <th>4</th>\n",
       "      <td>Wholesale prices post biggest gain since 1990 ...</td>\n",
       "      <td>2</td>\n",
       "    </tr>\n",
       "  </tbody>\n",
       "</table>\n",
       "</div>"
      ],
      "text/plain": [
       "                                                text  label\n",
       "0  US rates seen headed up despite soft-spot worr...      2\n",
       "1  Nortel Cuts Fewer Jobs, Exits Real Estate  OTT...      2\n",
       "2  Movie Studios to Sue Illegal Film-File Traders...      3\n",
       "3  UPDATE 2-Manchester United calls off bid talks...      1\n",
       "4  Wholesale prices post biggest gain since 1990 ...      2"
      ]
     },
     "execution_count": 55,
     "metadata": {},
     "output_type": "execute_result"
    }
   ],
   "source": [
    "NEWS_TEST.head()"
   ]
  },
  {
   "cell_type": "markdown",
   "metadata": {
    "editable": false,
    "id": "e5IzjEK0Ixxl",
    "tags": []
   },
   "source": [
    "Train/Test Sets using GloVe embeddings."
   ]
  },
  {
   "cell_type": "code",
   "execution_count": 56,
   "metadata": {
    "editable": false,
    "id": "-I8PSBk-I6qM",
    "tags": [
     "raises-exception"
    ]
   },
   "outputs": [],
   "source": [
    "# Vectorize text reviews to numbers\n",
    "X_NEWS_TRAIN = np.zeros((len(NEWS_TRAIN), MAX_LEN, 100))\n",
    "X_NEWS_TEST = np.zeros((len(NEWS_TEST), MAX_LEN, 100))\n",
    "\n",
    "for i, row in NEWS_TRAIN.iterrows():\n",
    "  X_NEWS_TRAIN[i] = get_glove_seq(tokenize_and_clean(row['text'], stem_and_remove_stop_words=False), MAX_LEN)\n",
    "\n",
    "for i, row in NEWS_TEST.iterrows():\n",
    "  X_NEWS_TEST[i] = get_glove_seq(tokenize_and_clean(row['text'], stem_and_remove_stop_words=False), MAX_LEN)\n",
    "\n",
    "Y_NEWS_TRAIN = np.array(NEWS_TRAIN['label'])\n",
    "Y_NEWS_TEST = np.array(NEWS_TEST['label'])\n",
    "NUM_LABELS = 4"
   ]
  },
  {
   "cell_type": "code",
   "execution_count": 58,
   "metadata": {
    "editable": true,
    "id": "i1-mK1-EPbQL",
    "nbgrader": {
     "grade": false,
     "grade_id": "cell-64776db849e2cffa",
     "locked": false,
     "schema_version": 3,
     "solution": true,
     "task": false
    },
    "tags": [
     "raises-exception"
    ]
   },
   "outputs": [],
   "source": [
    "# Defining neural network structure\n",
    "class MultinomialBoWClassifier(nn.Module):  # inheriting from nn.Module!\n",
    "  def __init__(self, max_word_len, embedding_dim, num_labels):\n",
    "    super(MultinomialBoWClassifier, self).__init__()\n",
    "    self.max_word_len = max_word_len\n",
    "    self.embedding_dim = embedding_dim\n",
    "    self.num_labels = num_labels\n",
    "    ### BEGIN SOLUTION\n",
    "    # ok so should be somewhat similar to above\n",
    "    # first we gotta flatten embeddings\n",
    "    self.flat_layer = nn.Flatten()\n",
    "    # first layer\n",
    "    # made up 256, not sure here, might have to revisit\n",
    "    self.lin1 = nn.Linear(max_word_len * embedding_dim, 256)\n",
    "    # sigmoid for activation per usual\n",
    "    self.sigmoid = nn.Sigmoid()\n",
    "    # notes said try dropout before the way out so well give it a shot, 0.35 is a guess\n",
    "    self.dropout = nn.Dropout(0.35)\n",
    "    # out, 256 to connect everything with above\n",
    "    self.lin2 = nn.Linear(256, num_labels)\n",
    "    ### END SOLUTION\n",
    "\n",
    "  def forward(self, x):\n",
    "    out = None\n",
    "    ### BEGIN SOLUTION\n",
    "    # just connecting all the above really\n",
    "    x = self.flat_layer(x)\n",
    "    # with activation\n",
    "    x = self.sigmoid(self.lin1(x))\n",
    "    x = self.dropout(x)\n",
    "    out = self.lin2(x)\n",
    "\n",
    "    ### END SOLUTION\n",
    "    return out"
   ]
  },
  {
   "cell_type": "code",
   "execution_count": 59,
   "metadata": {
    "editable": false,
    "id": "_eVavHp7TOxv",
    "tags": [
     "raises-exception"
    ]
   },
   "outputs": [],
   "source": [
    "multibow_model = MultinomialBoWClassifier(max_word_len=MAX_LEN, embedding_dim=EMBEDDING_DIM, num_labels=NUM_LABELS)"
   ]
  },
  {
   "cell_type": "code",
   "execution_count": 60,
   "metadata": {
    "editable": false,
    "id": "wc0JD91dP9-a",
    "tags": [
     "raises-exception"
    ]
   },
   "outputs": [],
   "source": [
    "# Train the model\n",
    "def train(model, x_train_data, y_train_data, epochs, batch_size, lr, weight_decay):\n",
    "  print('Training Started!')\n",
    "  optimizer = optim.Adam(model.parameters(), lr=lr, weight_decay=weight_decay)\n",
    "  criterion = nn.CrossEntropyLoss()\n",
    "  n_iter = len(x_train_data) // batch_size\n",
    "  print(n_iter, 'batches per epoch')\n",
    "\n",
    "  for epoch in range(epochs):\n",
    "    num_correct = 0\n",
    "    total_loss = 0.0\n",
    "    model.train()\n",
    "\n",
    "    for i in range(n_iter):\n",
    "      x, y = get_batch(i, batch_size, x_train_data, y_train_data)\n",
    "      x = x\n",
    "      y = y.long()\n",
    "\n",
    "      y_hat = model(x)\n",
    "      loss = criterion(y_hat, y)\n",
    "      total_loss += loss\n",
    "      optimizer.zero_grad()\n",
    "      loss.backward()\n",
    "      optimizer.step()\n",
    "\n",
    "      if (epoch+1)%10 == 0 and (i+1) == n_iter:\n",
    "        print('epoch:', epoch+1,',loss =',loss.item(), ', training accuracy =',(y_hat.argmax(dim=1)==y).float().mean().item())"
   ]
  },
  {
   "cell_type": "code",
   "execution_count": null,
   "metadata": {
    "editable": true,
    "id": "POVLJlC0_mEl",
    "tags": [
     "raises-exception"
    ]
   },
   "outputs": [],
   "source": [
    "# It's ok to modify this cell.\n",
    "BATCH_SIZE = 50\n",
    "N_EPOCHS = 100\n",
    "LEARNING_RATE = 2e-3\n",
    "WEIGHT_DECAY = 1e-2"
   ]
  },
  {
   "cell_type": "code",
   "execution_count": null,
   "metadata": {
    "editable": false,
    "id": "uhVQB2RCbPj7",
    "scrolled": true,
    "tags": [
     "raises-exception"
    ]
   },
   "outputs": [],
   "source": [
    "try:\n",
    "    train(multibow_model, X_NEWS_TRAIN, Y_NEWS_TRAIN, N_EPOCHS, BATCH_SIZE, lr=LEARNING_RATE, weight_decay=WEIGHT_DECAY)\n",
    "except:\n",
    "    print(\"Training failed. Please check your code.\")"
   ]
  },
  {
   "cell_type": "markdown",
   "metadata": {
    "editable": false,
    "id": "50_KqANXCtbs",
    "tags": []
   },
   "source": [
    "# Multinomial Regression - Test (40 Points)"
   ]
  },
  {
   "cell_type": "code",
   "execution_count": null,
   "metadata": {
    "editable": false,
    "id": "Ltz2NZ_4u9Cr",
    "tags": [
     "raises-exception"
    ]
   },
   "outputs": [],
   "source": [
    "# student check - accuracies >= 80% will receive full credit (no credit for less than 80%)\n",
    "ag.test_model_accuracy_mr(X_NEWS_TEST, Y_NEWS_TEST, multibow_model)"
   ]
  },
  {
   "cell_type": "markdown",
   "metadata": {
    "editable": false,
    "id": "hKEYvlbhS7n9",
    "tags": []
   },
   "source": [
    "# Grading\n",
    "\n",
    "Please submit this .ipynb file to Gradescope for grading."
   ]
  },
  {
   "cell_type": "markdown",
   "metadata": {
    "collapsed": false,
    "editable": false,
    "id": "yGJoiI-m681a",
    "tags": []
   },
   "source": [
    "## Final Grade"
   ]
  },
  {
   "cell_type": "code",
   "execution_count": null,
   "metadata": {
    "editable": false,
    "id": "r5xdXQJy681a",
    "tags": [
     "raises-exception"
    ]
   },
   "outputs": [],
   "source": [
    "# student check\n",
    "ag.FINAL_GRADE()"
   ]
  },
  {
   "cell_type": "markdown",
   "metadata": {
    "collapsed": false,
    "editable": false,
    "id": "3QabthAf681b",
    "tags": []
   },
   "source": [
    "## Notebook Runtime"
   ]
  },
  {
   "cell_type": "code",
   "execution_count": null,
   "metadata": {
    "editable": false,
    "id": "lZGz8usd681b",
    "tags": [
     "raises-exception"
    ]
   },
   "outputs": [],
   "source": [
    "# end time - notebook execution\n",
    "end_nb = time.time()\n",
    "# print notebook execution time in minutes\n",
    "print(\"Notebook execution time in minutes =\", (end_nb - start_nb)/60)\n",
    "# warn student if notebook execution time is greater than 30 minutes\n",
    "if (end_nb - start_nb)/60 > 30:\n",
    "  print(\"WARNING: Notebook execution time is greater than 30 minutes. Your submission may not complete auto-grading on Gradescope. Please optimize your code to reduce the notebook execution time.\")"
   ]
  }
 ],
 "metadata": {
  "accelerator": "GPU",
  "bento_stylesheets": {
   "bento/extensions/flow/main.css": true,
   "bento/extensions/kernel_selector/main.css": true,
   "bento/extensions/kernel_ui/main.css": true,
   "bento/extensions/new_kernel/main.css": true,
   "bento/extensions/system_usage/main.css": true,
   "bento/extensions/theme/main.css": true
  },
  "captumWidgetMessage": {},
  "colab": {
   "gpuType": "T4",
   "private_outputs": true,
   "provenance": [
    {
     "file_id": "1TsKPn8cwghhFR-TwD0la25YRRzhw4XF9",
     "timestamp": 1685998969758
    }
   ]
  },
  "dataExplorerConfig": {},
  "kernelspec": {
   "display_name": "Python 3",
   "language": "python",
   "name": "python3"
  },
  "language_info": {
   "codemirror_mode": {
    "name": "ipython",
    "version": 3
   },
   "file_extension": ".py",
   "mimetype": "text/x-python",
   "name": "python",
   "nbconvert_exporter": "python",
   "pygments_lexer": "ipython3",
   "version": "3.12.10"
  },
  "last_base_url": "https://11238.od.fbinfra.net/",
  "last_kernel_id": "8832c409-9272-44ac-a889-c233991c3bb0",
  "last_msg_id": "354bb3e2-f350a4bd64779ec7f6ce4382_4332",
  "last_server_session_id": "5625d4d2-18a1-473d-bf89-0f1a5ecc7c7b",
  "outputWidgetContext": {}
 },
 "nbformat": 4,
 "nbformat_minor": 0
}
