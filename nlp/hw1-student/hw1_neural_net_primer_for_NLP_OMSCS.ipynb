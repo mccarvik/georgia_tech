{
 "cells": [
  {
   "cell_type": "markdown",
   "metadata": {
    "editable": true,
    "id": "6Q1AhoIB-pkp",
    "slideshow": {
     "slide_type": ""
    },
    "tags": []
   },
   "source": [
    "# Introduction to Neural Networks with Pytorch\n",
    "\n",
    "This primer assumes familiarity with the concept and theory behind neural networks and are ready to start exploring how Pytorch facilitates their implementation."
   ]
  },
  {
   "cell_type": "code",
   "execution_count": 44,
   "metadata": {
    "collapsed": false,
    "editable": false,
    "slideshow": {
     "slide_type": ""
    },
    "tags": []
   },
   "outputs": [],
   "source": [
    "# start time - notebook execution\n",
    "import time\n",
    "start_nb = time.time()"
   ]
  },
  {
   "cell_type": "markdown",
   "metadata": {
    "id": "yJZkGE3oR_zQ"
   },
   "source": [
    "# Getting Pytorch Going\n",
    "\n",
    "Let's get started by importing pytorch and some of the more important sub-modules."
   ]
  },
  {
   "cell_type": "code",
   "execution_count": 45,
   "metadata": {
    "editable": false,
    "id": "VtmzMDQopqXA",
    "slideshow": {
     "slide_type": ""
    },
    "tags": []
   },
   "outputs": [
    {
     "name": "stdout",
     "output_type": "stream",
     "text": [
      "Defaulting to user installation because normal site-packages is not writeable\n",
      "Collecting git+https://github.com/szagoruyko/pytorchviz.git@master\n",
      "  Cloning https://github.com/szagoruyko/pytorchviz.git (to revision master) to c:\\users\\mccar\\appdata\\local\\temp\\pip-req-build-_8ed5xi4\n",
      "  Resolved https://github.com/szagoruyko/pytorchviz.git to commit 5cf04c13e601366f6b9cf5939b5af5144d55b887\n",
      "  Preparing metadata (setup.py): started\n",
      "  Preparing metadata (setup.py): finished with status 'done'\n",
      "Requirement already satisfied: torch in c:\\users\\mccar\\appdata\\local\\packages\\pythonsoftwarefoundation.python.3.12_qbz5n2kfra8p0\\localcache\\local-packages\\python312\\site-packages (from torchviz==0.0.2) (2.5.0+cu118)\n",
      "Requirement already satisfied: graphviz in c:\\users\\mccar\\appdata\\local\\packages\\pythonsoftwarefoundation.python.3.12_qbz5n2kfra8p0\\localcache\\local-packages\\python312\\site-packages (from torchviz==0.0.2) (0.21)\n",
      "Requirement already satisfied: filelock in c:\\users\\mccar\\appdata\\local\\packages\\pythonsoftwarefoundation.python.3.12_qbz5n2kfra8p0\\localcache\\local-packages\\python312\\site-packages (from torch->torchviz==0.0.2) (3.16.1)\n",
      "Requirement already satisfied: typing-extensions>=4.8.0 in c:\\users\\mccar\\appdata\\local\\packages\\pythonsoftwarefoundation.python.3.12_qbz5n2kfra8p0\\localcache\\local-packages\\python312\\site-packages (from torch->torchviz==0.0.2) (4.12.2)\n",
      "Requirement already satisfied: networkx in c:\\users\\mccar\\appdata\\local\\packages\\pythonsoftwarefoundation.python.3.12_qbz5n2kfra8p0\\localcache\\local-packages\\python312\\site-packages (from torch->torchviz==0.0.2) (3.3)\n",
      "Requirement already satisfied: jinja2 in c:\\users\\mccar\\appdata\\local\\packages\\pythonsoftwarefoundation.python.3.12_qbz5n2kfra8p0\\localcache\\local-packages\\python312\\site-packages (from torch->torchviz==0.0.2) (3.1.4)\n",
      "Requirement already satisfied: fsspec in c:\\users\\mccar\\appdata\\local\\packages\\pythonsoftwarefoundation.python.3.12_qbz5n2kfra8p0\\localcache\\local-packages\\python312\\site-packages (from torch->torchviz==0.0.2) (2024.9.0)\n",
      "Requirement already satisfied: setuptools in c:\\users\\mccar\\appdata\\local\\packages\\pythonsoftwarefoundation.python.3.12_qbz5n2kfra8p0\\localcache\\local-packages\\python312\\site-packages (from torch->torchviz==0.0.2) (75.1.0)\n",
      "Requirement already satisfied: sympy==1.13.1 in c:\\users\\mccar\\appdata\\local\\packages\\pythonsoftwarefoundation.python.3.12_qbz5n2kfra8p0\\localcache\\local-packages\\python312\\site-packages (from torch->torchviz==0.0.2) (1.13.1)\n",
      "Requirement already satisfied: mpmath<1.4,>=1.1.0 in c:\\users\\mccar\\appdata\\local\\packages\\pythonsoftwarefoundation.python.3.12_qbz5n2kfra8p0\\localcache\\local-packages\\python312\\site-packages (from sympy==1.13.1->torch->torchviz==0.0.2) (1.3.0)\n",
      "Requirement already satisfied: MarkupSafe>=2.0 in c:\\users\\mccar\\appdata\\local\\packages\\pythonsoftwarefoundation.python.3.12_qbz5n2kfra8p0\\localcache\\local-packages\\python312\\site-packages (from jinja2->torch->torchviz==0.0.2) (2.1.5)\n"
     ]
    },
    {
     "name": "stderr",
     "output_type": "stream",
     "text": [
      "  Running command git clone --filter=blob:none --quiet https://github.com/szagoruyko/pytorchviz.git 'C:\\Users\\mccar\\AppData\\Local\\Temp\\pip-req-build-_8ed5xi4'\n",
      "\n",
      "[notice] A new release of pip is available: 25.1.1 -> 25.2\n",
      "[notice] To update, run: C:\\Users\\mccar\\AppData\\Local\\Microsoft\\WindowsApps\\PythonSoftwareFoundation.Python.3.12_qbz5n2kfra8p0\\python.exe -m pip install --upgrade pip\n"
     ]
    }
   ],
   "source": [
    "import torch                     # pytorch\n",
    "import torch.nn as nn            # pytorch neural network sub-library\n",
    "import torch.optim as optim      # pytorch optimizers\n",
    "import matplotlib.pyplot as plt  # plotting\n",
    "import numpy  \n",
    "import random                    # random number generators\n",
    "\n",
    "# This will allow visualization of the neural network structure\n",
    "!pip install -U git+https://github.com/szagoruyko/pytorchviz.git@master\n",
    "from torchviz import make_dot"
   ]
  },
  {
   "cell_type": "markdown",
   "metadata": {
    "collapsed": false
   },
   "source": [
    "# Initialize the Autograder"
   ]
  },
  {
   "cell_type": "code",
   "execution_count": 46,
   "metadata": {
    "editable": false,
    "id": "7gdwx5ZMit-b",
    "slideshow": {
     "slide_type": ""
    },
    "tags": []
   },
   "outputs": [],
   "source": [
    "''' placeholder function to satisfy auto-grader dependency '''\n",
    "def make_data(x):\n",
    "    pass\n",
    "\n",
    "# import the autograder tests\n",
    "import hw1_tests as ag"
   ]
  },
  {
   "cell_type": "markdown",
   "metadata": {
    "id": "xzQHX38CcOC_",
    "tags": []
   },
   "source": [
    "# Generate a data set\n",
    "\n",
    "Before we start, we need a dataset. We could grab a dataset off the internet but we might not understand the nuances of the data very well. Instead, we will generate some data and then train on it.\n",
    "\n",
    "Let's pretend we are building a self-driving car. The car has proximity sensor and can act on that sensor information: it can accelerate or break, and it can turn the steering wheel left or right. Based on values from the proximity sensors, we want to infer how much energy to apply to the accelerator or breaks and how much to turn the steering wheel.\n",
    "\n",
    "Let's further assume that we have also put sensors on human driver's cars and we have been recording the data from the proximity sensors and also recording how much the human drivers press the accelerator or breaks and turn the wheel. This is called a *supervised learning* task. For every set of recorded sensor data, we know what a human has really done in response. Now all we need to do is train a neural network to produce the known-correct response when given a set of sensor data. If our model is good enough, we will trust it to make decisions on the car in situations that it has never seen before.\n",
    "\n",
    "What we are going to do here is synthetically generate the data set. Let's assume the car has 4 sensor:\n",
    "* proximity to car in front (0...1)\n",
    "* proximity to car in back (0...1)\n",
    "* proximity to car to the left (0...1)\n",
    "* proximity to car in on the right (0...1)\n",
    "\n",
    "We will randomly generate this data.\n",
    "\n",
    "We also need a supervisions signal: what the car should do under different circumstances. I have provided some simple rules for how the car should behave. This is a bit artificial--why do we need a neural network to drive the car if I know what the rules are and can write the code for those rules? In reality we wouldn't have these rules, but for learning pytorch we need a ground-truth of non-random supervision. So we will pretend that we acquired behavioral data for the car.\n",
    "\n",
    "There are 2 controls for the car:\n",
    "* accelerate: how much should we accelerate (-1...1)? Negative values means braking\n",
    "* turn: how much should we turn the steering wheel (-1...1)? Negative means left, positive means right.\n",
    "\n",
    "**Read through the code so that you understand how the data will be generated.**\n",
    "\n",
    "Normally we will not have a known function that generates data for us. Instead we will inspect the data and get to know it so we can make design decisions. However, since this is a warm-up activity, we will be able to see the normally impossible-to-know source of the data.\n"
   ]
  },
  {
   "cell_type": "code",
   "execution_count": 47,
   "metadata": {
    "editable": false,
    "id": "_59yqkXObt_n",
    "slideshow": {
     "slide_type": ""
    },
    "tags": []
   },
   "outputs": [],
   "source": [
    "def make_data(num_data):\n",
    "  data = [] # aggregate the data here\n",
    "\n",
    "  for n in range(num_data):\n",
    "    # Generate a random state\n",
    "    # the distance to the nearest car in front/back/left/right is normalized from 0.0 (closest) to 1.0 (farthest)\n",
    "    carInFrontDist = random.random()\n",
    "    carInBackDist = random.random()\n",
    "    carLeftDist = random.random()\n",
    "    carRightDist = random.random()\n",
    "\n",
    "    # Response to the state. 1 =  brakes/accelerator/steer-left/steer-right is activated. 0=not activated\n",
    "    # Though binary, we will be using numbers\n",
    "    accel = 1.0\n",
    "    turn = 0.0\n",
    "\n",
    "    # Should I accelerate or brake?\n",
    "    if carInFrontDist < 0.50:\n",
    "      # Car is close, brake\n",
    "      # Unless there is another car close behind\n",
    "      if carInBackDist > 0.50:\n",
    "        # Okay to brake\n",
    "        accel = -carInFrontDist/0.50\n",
    "      else:\n",
    "        # Not okay to brake, but at least stop accelerating\n",
    "        accel = 0\n",
    "    else:\n",
    "      # Car in front is not close, continue to accelerate\n",
    "      accel = (carInFrontDist - 0.50)/0.50\n",
    "\n",
    "    # Should I turn left or right? (can't do both)\n",
    "    if carLeftDist < 0.5 or carRightDist < 0.5:\n",
    "      turn = (1.0 - (carLeftDist)) - (1.0 - carRightDist)\n",
    "\n",
    "    # Store the data\n",
    "    x = (carInFrontDist, carInBackDist, carLeftDist, carRightDist)\n",
    "    y = (accel, turn)\n",
    "    data.append((x, y))\n",
    "  return data"
   ]
  },
  {
   "cell_type": "code",
   "execution_count": 48,
   "metadata": {
    "editable": false,
    "id": "Acgr6TPP_MZc",
    "slideshow": {
     "slide_type": ""
    },
    "tags": []
   },
   "outputs": [],
   "source": [
    "train_data = make_data(10000)"
   ]
  },
  {
   "cell_type": "markdown",
   "metadata": {
    "id": "i2fMI5zzkK6B"
   },
   "source": [
    "Let's take a look at the data. There is a lot, so let's just look at one data element.\n",
    "\n"
   ]
  },
  {
   "cell_type": "code",
   "execution_count": 49,
   "metadata": {
    "editable": false,
    "id": "MY7yZfRTdjHA",
    "slideshow": {
     "slide_type": ""
    },
    "tags": []
   },
   "outputs": [
    {
     "data": {
      "text/plain": [
       "((0.21630668880406712,\n",
       "  0.23342551593176797,\n",
       "  0.17445188451830718,\n",
       "  0.4969396239950853),\n",
       " (0, 0.3224877394767781))"
      ]
     },
     "execution_count": 49,
     "metadata": {},
     "output_type": "execute_result"
    }
   ],
   "source": [
    "train_data[0]"
   ]
  },
  {
   "cell_type": "markdown",
   "metadata": {
    "id": "H6yR1G17kTJv"
   },
   "source": [
    "The data is an array. Each element is a tuple. The first element in the tuple is the input data (*x*), which contains the four sensor inputs. The second element in the tuple is the output data (*y*), the correct behavior of the car in response to the sensor inputs."
   ]
  },
  {
   "cell_type": "markdown",
   "metadata": {
    "id": "VquL4SCW_ue0"
   },
   "source": [
    "# Data Preparation\n",
    "\n",
    "We need to do two things. First, we need to convert our data into tensors, which are the array-like data structures that Pytorch uses. Fortunately, it is easy to create tensors from arrays and tuples. Use ```torch.tensor()```, which can accept any array, tuple, or array-like data structure from ```numpy```.\n",
    "\n",
    "Second, we need to group chunks of data into batches. A batch is a chunk of data that can be run through the neural network in parallel. This greatly speeds up the training of the neural network and has some other advantages as well.\n",
    "\n",
    "**Complete the following function**.\n",
    "\n",
    "The function will get a chunk of data and convert it into tensors. The input parameters to the function are:\n",
    "* ```data```: the entire dataset in the form of a list of tuples where each tuple is ```((input_feature_1, ... input_feature_n), (output_feature1, ..., output_feature_m))```.\n",
    "* ```batch_size```: number of input/output pairs to collect together.\n",
    "* ```index```: the $n$th batch. That is, the 0th batch will be elements from ```data``` with indexes ```[0 ... batch_size)```. The 1st batch will be elements from ```data``` with indexes ```[batch_size ... batch_size*2)```. The 2nd batch will be the elements with indexes ```[batch_size*2 ... batch_size*3)``` and so on.\n",
    "\n",
    "It will return two values:\n",
    "* a tensor containing ```batch_size``` input examples (*x*). The tensor should be a 2D tensor of shape ```batch_size x input_features```.\n",
    "* a tensor containing ```batch_size``` output examples (*y*). The tensor should be a 2D tensor or shape ```batch_size x output_features```.\n",
    "\n",
    "In doing so we are splitting out the inputs from the outputs.\n",
    "\n",
    "\n"
   ]
  },
  {
   "cell_type": "markdown",
   "metadata": {
    "id": "Iaqw4NXXbNj5"
   },
   "source": [
    "![Assignment 1 Images.png](data:image/png;base64,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)"
   ]
  },
  {
   "cell_type": "markdown",
   "metadata": {
    "id": "Fazj8hX9Jil-"
   },
   "source": [
    "## Part A\n",
    "\n",
    "Write the ```get_batch()``` function below. This function takes a dataset and a batch size and returns a batch of data from the dataset. The batch should be a tuple of tensors.\n",
    "\n",
    "**Hints**\n",
    "- The first tensor should be the inputs and the second tensor should be the outputs.\n",
    "- The inputs should be a tensor of size ```batch_size x 4``` and the outputs should be a tensor of size ```batch_size x 2```.\n",
    "- The inputs should be the first four values in each tuple in the dataset and the outputs should be the last two values in each tuple in the dataset."
   ]
  },
  {
   "cell_type": "code",
   "execution_count": 50,
   "metadata": {},
   "outputs": [],
   "source": [
    "def get_batch(data, batch_size, index):\n",
    "  x = None\n",
    "  y = None\n",
    "  ### BEGIN SOLUTION\n",
    "  # get the starting index and ending index\n",
    "  # this book ends the index\n",
    "  idx_st = index * batch_size\n",
    "  idx_ed = idx_st + batch_size\n",
    "\n",
    "  # grab tuples\n",
    "  ind_tuples = data[idx_st: idx_ed]\n",
    "\n",
    "  # separate the x from the y and convert to torch\n",
    "  x_feats = torch.tensor([feat[0] for feat in ind_tuples], dtype=torch.float32)\n",
    "  y_feats = torch.tensor([feat[1] for feat in ind_tuples], dtype=torch.float32)\n",
    "\n",
    "  # had an error, needed to keep these return vals\n",
    "  x = x_feats\n",
    "  y = y_feats\n",
    "  ### END SOLUTION\n",
    "  return x, y"
   ]
  },
  {
   "cell_type": "markdown",
   "metadata": {
    "editable": true,
    "id": "Zw7EQITCtwWl",
    "slideshow": {
     "slide_type": ""
    },
    "tags": []
   },
   "source": [
    "Let's look a bit more closely at a batch."
   ]
  },
  {
   "cell_type": "code",
   "execution_count": 51,
   "metadata": {
    "editable": false,
    "id": "Y8YHvOtnoGD5",
    "slideshow": {
     "slide_type": ""
    },
    "tags": [
     "raises-exception"
    ]
   },
   "outputs": [
    {
     "name": "stdout",
     "output_type": "stream",
     "text": [
      "x:\n",
      "tensor([[0.2163, 0.2334, 0.1745, 0.4969],\n",
      "        [0.2729, 0.1637, 0.4197, 0.1425],\n",
      "        [0.1097, 0.8973, 0.3575, 0.2358],\n",
      "        [0.2841, 0.2222, 0.4322, 0.4925],\n",
      "        [0.3194, 0.0131, 0.6560, 0.6786],\n",
      "        [0.3663, 0.4869, 0.5225, 0.6404],\n",
      "        [0.6429, 0.2465, 0.0849, 0.9488],\n",
      "        [0.6786, 0.8941, 0.3330, 0.1244]])\n",
      "shape of x: torch.Size([8, 4]) \n",
      "\n",
      "y:\n",
      "tensor([[ 0.0000,  0.3225],\n",
      "        [ 0.0000, -0.2772],\n",
      "        [-0.2193, -0.1217],\n",
      "        [ 0.0000,  0.0604],\n",
      "        [ 0.0000,  0.0000],\n",
      "        [ 0.0000,  0.0000],\n",
      "        [ 0.2858,  0.8639],\n",
      "        [ 0.3573, -0.2086]])\n",
      "shape of y: torch.Size([8, 2])\n"
     ]
    }
   ],
   "source": [
    "x, y = get_batch(train_data, 8, 0)\n",
    "\n",
    "print('x:')\n",
    "print(x)\n",
    "print('shape of x:', x.size(),'\\n')\n",
    "print('y:')\n",
    "print(y)\n",
    "print('shape of y:', y.size())"
   ]
  },
  {
   "cell_type": "markdown",
   "metadata": {
    "id": "BZlGx9Jec7kY"
   },
   "source": [
    "The first row of the *x* tensor should look like the first part of the training data tuple at index 0 above. Each row in the tensor is the input portion of a different line of data. It has been merged into what looks like a multi-dimensional array.\n",
    "\n",
    "The array has a particular *shape*. In particular it is an 8 x 4 array. The first dimension is for batching (there are 8 data points in the batch). The second dimension reveals that each data point has four values making it up.\n",
    "\n",
    "The first row of the *y* tensor matches the second part of the training data tuple at index 0 above. The *y* tensor is an 8 x 2 array because there are eight data points, each consisting of two controls for the car."
   ]
  },
  {
   "cell_type": "markdown",
   "metadata": {
    "id": "CxK7AC1gEPdC",
    "tags": []
   },
   "source": [
    "## Part A (40 Points)\n",
    "Unit test for the ```get_batch()``` function"
   ]
  },
  {
   "cell_type": "code",
   "execution_count": 52,
   "metadata": {
    "editable": false,
    "id": "wGYazbKivVW_",
    "slideshow": {
     "slide_type": ""
    },
    "tags": []
   },
   "outputs": [
    {
     "name": "stdout",
     "output_type": "stream",
     "text": [
      "Part A: 40.0/40.0\n"
     ]
    }
   ],
   "source": [
    "# student check\n",
    "ag.PART_A()"
   ]
  },
  {
   "cell_type": "markdown",
   "metadata": {
    "id": "jhs9H3z8eS8s"
   },
   "source": [
    "# The Neural Network\n",
    "\n",
    "Next we need to define the neural network. In pytorch we do this by creating a new class that sub-classes from ```nn.Module```. In this class we will define the different layers and indicate how the layers go together so that inputs flow through the layers to create outputs.\n",
    "\n",
    "There are two functions that are essential in creating a pytorch neural network. The **constructor** creates the layers of the network as modules. What is strange at first is that there are no specifications in the constructor as to how the layers are connected. That is done below...\n",
    "\n",
    "The **forward function** determines how the inputs are fed into the first layer and how the outputs of each each layer feed into the subsequent layers. The forward function returns the predicted output. In doing so, the tensors that get created and passed around will remember which modules computed them.\n",
    "\n",
    "**Complete the constructor and forward function below**\n",
    "\n",
    "The neural network you create should contain three `tanh` layers. The input layer has 4 neurons (one for each input feature in the data). The second layer should have 16 neurons and a `tanh` activation function. The third layer should have 8 neurons and a `tanh` activation function. The output layer should have two neurons (one for each output feature in the data) and `tanh` activation function to ensure the results are between -1.0 and 1.0.\n",
    "\n",
    "Conventional layers in neural networks are created with alternating ```nn.Linear()``` and ```nn.Tanh()``` modules. A ```nn.Linear()``` module creates an affine transformation of a number of inputs from one layer to a different number of outputs at the next layer, implementing the function ```Ax + b``` where ```A``` is a set of weights applied to the input ```x``` and ```b``` is the bias. That is, if we have one layer that has 100 elements and we want to perform an affine transformation on those elements into a set of 200 elements, we would use ```nn.Linear(100, 200)```. The weights in ```A``` and ```b``` are held inside the module so we never have to directly involve ourselves with the weights."
   ]
  },
  {
   "cell_type": "markdown",
   "metadata": {
    "id": "uinotBu5ITbx"
   },
   "source": [
    "## Part B\n",
    "\n",
    "Write the ```CarNet``` class below. This class should sub-class from ```nn.Module```.\n",
    "\n",
    "**Hints**\n",
    "- The constructor should create the layers of the network as modules.\n",
    "- The forward function should determine how the inputs are fed into the first layer and how the outputs of each each layer feed into the subsequent layers.\n",
    "- The forward function should return the predicted output. In doing so, the tensors that get created and passed around will remember which modules computed them."
   ]
  },
  {
   "cell_type": "code",
   "execution_count": 53,
   "metadata": {
    "editable": true,
    "id": "YxRJRov_oIcx",
    "nbgrader": {
     "grade": false,
     "grade_id": "cell-2921cb671bac186b",
     "locked": false,
     "schema_version": 3,
     "solution": true,
     "task": false
    },
    "slideshow": {
     "slide_type": ""
    },
    "tags": []
   },
   "outputs": [],
   "source": [
    "class CarNet(nn.Module):\n",
    "\n",
    "  def __init__(self):\n",
    "    # Call the parent class constructor\n",
    "    super(CarNet, self).__init__()\n",
    "    ### BEGIN SOLUTION\n",
    "    # creating layers here\n",
    "    # need 4 neuron input to match data\n",
    "    self.lin1 = nn.Linear(4, 16)\n",
    "    # activation\n",
    "    self.tan1 = nn.Tanh()\n",
    "    # layer 2\n",
    "    self.lin2 = nn.Linear(16,8)\n",
    "    self.tan2 = nn.Tanh()\n",
    "    # layer 3\n",
    "    # need 2 for the outpur to match data\n",
    "    self.lin3 = nn.Linear(8,2)\n",
    "    self.tan3 = nn.Tanh()\n",
    "    ### END SOLUTION\n",
    "\n",
    "  def forward(self, x):\n",
    "    # x is the input tensor. Produce the predicted output y_hat\n",
    "    y_hat = None\n",
    "    ### BEGIN SOLUTION\n",
    "    # feed forward\n",
    "    # just connecting layers here\n",
    "    # input\n",
    "    x = self.lin1(x)\n",
    "    x = self.tan1(x)\n",
    "    # first connects to second\n",
    "    x = self.lin2(x)\n",
    "    x = self.tan2(x)\n",
    "    # second connects to third (output)\n",
    "    x = self.lin3(x)\n",
    "    x = self.tan3(x)\n",
    "\n",
    "    y_hat = x\n",
    "    ### END SOLUTION\n",
    "    return y_hat"
   ]
  },
  {
   "cell_type": "markdown",
   "metadata": {
    "id": "T3dhDuIL794t"
   },
   "source": [
    "Let's now make a ```CarNet``` object:"
   ]
  },
  {
   "cell_type": "code",
   "execution_count": 54,
   "metadata": {
    "editable": false,
    "id": "LhWszFOBpzwN",
    "slideshow": {
     "slide_type": ""
    },
    "tags": []
   },
   "outputs": [
    {
     "name": "stdout",
     "output_type": "stream",
     "text": [
      "CarNet(\n",
      "  (lin1): Linear(in_features=4, out_features=16, bias=True)\n",
      "  (tan1): Tanh()\n",
      "  (lin2): Linear(in_features=16, out_features=8, bias=True)\n",
      "  (tan2): Tanh()\n",
      "  (lin3): Linear(in_features=8, out_features=2, bias=True)\n",
      "  (tan3): Tanh()\n",
      ")\n"
     ]
    }
   ],
   "source": [
    "net = CarNet()\n",
    "print(net)"
   ]
  },
  {
   "cell_type": "markdown",
   "metadata": {
    "id": "V1nek4lrtAzj"
   },
   "source": [
    "You can go to the BOTTOM and run tests (**Part B Autograder**) on your network to make sure it is correct before proceeding."
   ]
  },
  {
   "cell_type": "markdown",
   "metadata": {
    "id": "-wpkGmp3tN0W"
   },
   "source": [
    "Now that you have a neural network with all the correctly configured components inside, let's see how to run your neural network."
   ]
  },
  {
   "cell_type": "code",
   "execution_count": 55,
   "metadata": {
    "editable": false,
    "id": "POWoBWeKuQAI",
    "slideshow": {
     "slide_type": ""
    },
    "tags": [
     "raises-exception"
    ]
   },
   "outputs": [],
   "source": [
    "# Get a batch\n",
    "x, y = get_batch(train_data, 8, 0)\n",
    "y_hat = net(x)"
   ]
  },
  {
   "cell_type": "markdown",
   "metadata": {
    "id": "hhtSw4UDvzju"
   },
   "source": [
    "When we call the net object as if it were a function, pytorch knows to call the `forward()` function. As tensors are passed through the various layers, the tensors keep track of the modules that changed them and how they were changed. This creates a computation graph behind the scenes. Here is what the computation graph should look like for your network. These are the function names, and any python module may invoke more than one function that transforms a tensor. Can you identify which functions come from your activation function and which ones come from your linear layer? Weight matrices are also present in the graph, can you find them?\n",
    "\n",
    "![Correct Computation Graph.png](data:image/png;base64,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)\n",
    "\n",
    "\n",
    "Now, let's look at your computation graph. They should be the **same**."
   ]
  },
  {
   "cell_type": "code",
   "execution_count": 56,
   "metadata": {
    "editable": false,
    "id": "DrpRrI8wwmUu",
    "slideshow": {
     "slide_type": ""
    },
    "tags": [
     "raises-exception"
    ]
   },
   "outputs": [
    {
     "ename": "ExecutableNotFound",
     "evalue": "failed to execute WindowsPath('dot'), make sure the Graphviz executables are on your systems' PATH",
     "output_type": "error",
     "traceback": [
      "\u001b[1;31m---------------------------------------------------------------------------\u001b[0m",
      "\u001b[1;31mFileNotFoundError\u001b[0m                         Traceback (most recent call last)",
      "File \u001b[1;32m~\\AppData\\Local\\Packages\\PythonSoftwareFoundation.Python.3.12_qbz5n2kfra8p0\\LocalCache\\local-packages\\Python312\\site-packages\\graphviz\\backend\\execute.py:76\u001b[0m, in \u001b[0;36mrun_check\u001b[1;34m(cmd, input_lines, encoding, quiet, **kwargs)\u001b[0m\n\u001b[0;32m     75\u001b[0m         kwargs[\u001b[38;5;124m'\u001b[39m\u001b[38;5;124mstdout\u001b[39m\u001b[38;5;124m'\u001b[39m] \u001b[38;5;241m=\u001b[39m kwargs[\u001b[38;5;124m'\u001b[39m\u001b[38;5;124mstderr\u001b[39m\u001b[38;5;124m'\u001b[39m] \u001b[38;5;241m=\u001b[39m subprocess\u001b[38;5;241m.\u001b[39mPIPE\n\u001b[1;32m---> 76\u001b[0m     proc \u001b[38;5;241m=\u001b[39m \u001b[43m_run_input_lines\u001b[49m\u001b[43m(\u001b[49m\u001b[43mcmd\u001b[49m\u001b[43m,\u001b[49m\u001b[43m \u001b[49m\u001b[43minput_lines\u001b[49m\u001b[43m,\u001b[49m\u001b[43m \u001b[49m\u001b[43mkwargs\u001b[49m\u001b[38;5;241;43m=\u001b[39;49m\u001b[43mkwargs\u001b[49m\u001b[43m)\u001b[49m\n\u001b[0;32m     77\u001b[0m \u001b[38;5;28;01melse\u001b[39;00m:\n",
      "File \u001b[1;32m~\\AppData\\Local\\Packages\\PythonSoftwareFoundation.Python.3.12_qbz5n2kfra8p0\\LocalCache\\local-packages\\Python312\\site-packages\\graphviz\\backend\\execute.py:96\u001b[0m, in \u001b[0;36m_run_input_lines\u001b[1;34m(cmd, input_lines, kwargs)\u001b[0m\n\u001b[0;32m     95\u001b[0m \u001b[38;5;28;01mdef\u001b[39;00m \u001b[38;5;21m_run_input_lines\u001b[39m(cmd, input_lines, \u001b[38;5;241m*\u001b[39m, kwargs):\n\u001b[1;32m---> 96\u001b[0m     popen \u001b[38;5;241m=\u001b[39m \u001b[43msubprocess\u001b[49m\u001b[38;5;241;43m.\u001b[39;49m\u001b[43mPopen\u001b[49m\u001b[43m(\u001b[49m\u001b[43mcmd\u001b[49m\u001b[43m,\u001b[49m\u001b[43m \u001b[49m\u001b[43mstdin\u001b[49m\u001b[38;5;241;43m=\u001b[39;49m\u001b[43msubprocess\u001b[49m\u001b[38;5;241;43m.\u001b[39;49m\u001b[43mPIPE\u001b[49m\u001b[43m,\u001b[49m\u001b[43m \u001b[49m\u001b[38;5;241;43m*\u001b[39;49m\u001b[38;5;241;43m*\u001b[39;49m\u001b[43mkwargs\u001b[49m\u001b[43m)\u001b[49m\n\u001b[0;32m     98\u001b[0m     stdin_write \u001b[38;5;241m=\u001b[39m popen\u001b[38;5;241m.\u001b[39mstdin\u001b[38;5;241m.\u001b[39mwrite\n",
      "File \u001b[1;32mC:\\Program Files\\WindowsApps\\PythonSoftwareFoundation.Python.3.12_3.12.2800.0_x64__qbz5n2kfra8p0\\Lib\\subprocess.py:1026\u001b[0m, in \u001b[0;36mPopen.__init__\u001b[1;34m(self, args, bufsize, executable, stdin, stdout, stderr, preexec_fn, close_fds, shell, cwd, env, universal_newlines, startupinfo, creationflags, restore_signals, start_new_session, pass_fds, user, group, extra_groups, encoding, errors, text, umask, pipesize, process_group)\u001b[0m\n\u001b[0;32m   1023\u001b[0m             \u001b[38;5;28mself\u001b[39m\u001b[38;5;241m.\u001b[39mstderr \u001b[38;5;241m=\u001b[39m io\u001b[38;5;241m.\u001b[39mTextIOWrapper(\u001b[38;5;28mself\u001b[39m\u001b[38;5;241m.\u001b[39mstderr,\n\u001b[0;32m   1024\u001b[0m                     encoding\u001b[38;5;241m=\u001b[39mencoding, errors\u001b[38;5;241m=\u001b[39merrors)\n\u001b[1;32m-> 1026\u001b[0m     \u001b[38;5;28;43mself\u001b[39;49m\u001b[38;5;241;43m.\u001b[39;49m\u001b[43m_execute_child\u001b[49m\u001b[43m(\u001b[49m\u001b[43margs\u001b[49m\u001b[43m,\u001b[49m\u001b[43m \u001b[49m\u001b[43mexecutable\u001b[49m\u001b[43m,\u001b[49m\u001b[43m \u001b[49m\u001b[43mpreexec_fn\u001b[49m\u001b[43m,\u001b[49m\u001b[43m \u001b[49m\u001b[43mclose_fds\u001b[49m\u001b[43m,\u001b[49m\n\u001b[0;32m   1027\u001b[0m \u001b[43m                        \u001b[49m\u001b[43mpass_fds\u001b[49m\u001b[43m,\u001b[49m\u001b[43m \u001b[49m\u001b[43mcwd\u001b[49m\u001b[43m,\u001b[49m\u001b[43m \u001b[49m\u001b[43menv\u001b[49m\u001b[43m,\u001b[49m\n\u001b[0;32m   1028\u001b[0m \u001b[43m                        \u001b[49m\u001b[43mstartupinfo\u001b[49m\u001b[43m,\u001b[49m\u001b[43m \u001b[49m\u001b[43mcreationflags\u001b[49m\u001b[43m,\u001b[49m\u001b[43m \u001b[49m\u001b[43mshell\u001b[49m\u001b[43m,\u001b[49m\n\u001b[0;32m   1029\u001b[0m \u001b[43m                        \u001b[49m\u001b[43mp2cread\u001b[49m\u001b[43m,\u001b[49m\u001b[43m \u001b[49m\u001b[43mp2cwrite\u001b[49m\u001b[43m,\u001b[49m\n\u001b[0;32m   1030\u001b[0m \u001b[43m                        \u001b[49m\u001b[43mc2pread\u001b[49m\u001b[43m,\u001b[49m\u001b[43m \u001b[49m\u001b[43mc2pwrite\u001b[49m\u001b[43m,\u001b[49m\n\u001b[0;32m   1031\u001b[0m \u001b[43m                        \u001b[49m\u001b[43merrread\u001b[49m\u001b[43m,\u001b[49m\u001b[43m \u001b[49m\u001b[43merrwrite\u001b[49m\u001b[43m,\u001b[49m\n\u001b[0;32m   1032\u001b[0m \u001b[43m                        \u001b[49m\u001b[43mrestore_signals\u001b[49m\u001b[43m,\u001b[49m\n\u001b[0;32m   1033\u001b[0m \u001b[43m                        \u001b[49m\u001b[43mgid\u001b[49m\u001b[43m,\u001b[49m\u001b[43m \u001b[49m\u001b[43mgids\u001b[49m\u001b[43m,\u001b[49m\u001b[43m \u001b[49m\u001b[43muid\u001b[49m\u001b[43m,\u001b[49m\u001b[43m \u001b[49m\u001b[43mumask\u001b[49m\u001b[43m,\u001b[49m\n\u001b[0;32m   1034\u001b[0m \u001b[43m                        \u001b[49m\u001b[43mstart_new_session\u001b[49m\u001b[43m,\u001b[49m\u001b[43m \u001b[49m\u001b[43mprocess_group\u001b[49m\u001b[43m)\u001b[49m\n\u001b[0;32m   1035\u001b[0m \u001b[38;5;28;01mexcept\u001b[39;00m:\n\u001b[0;32m   1036\u001b[0m     \u001b[38;5;66;03m# Cleanup if the child failed starting.\u001b[39;00m\n",
      "File \u001b[1;32mC:\\Program Files\\WindowsApps\\PythonSoftwareFoundation.Python.3.12_3.12.2800.0_x64__qbz5n2kfra8p0\\Lib\\subprocess.py:1538\u001b[0m, in \u001b[0;36mPopen._execute_child\u001b[1;34m(self, args, executable, preexec_fn, close_fds, pass_fds, cwd, env, startupinfo, creationflags, shell, p2cread, p2cwrite, c2pread, c2pwrite, errread, errwrite, unused_restore_signals, unused_gid, unused_gids, unused_uid, unused_umask, unused_start_new_session, unused_process_group)\u001b[0m\n\u001b[0;32m   1537\u001b[0m \u001b[38;5;28;01mtry\u001b[39;00m:\n\u001b[1;32m-> 1538\u001b[0m     hp, ht, pid, tid \u001b[38;5;241m=\u001b[39m \u001b[43m_winapi\u001b[49m\u001b[38;5;241;43m.\u001b[39;49m\u001b[43mCreateProcess\u001b[49m\u001b[43m(\u001b[49m\u001b[43mexecutable\u001b[49m\u001b[43m,\u001b[49m\u001b[43m \u001b[49m\u001b[43margs\u001b[49m\u001b[43m,\u001b[49m\n\u001b[0;32m   1539\u001b[0m \u001b[43m                             \u001b[49m\u001b[38;5;66;43;03m# no special security\u001b[39;49;00m\n\u001b[0;32m   1540\u001b[0m \u001b[43m                             \u001b[49m\u001b[38;5;28;43;01mNone\u001b[39;49;00m\u001b[43m,\u001b[49m\u001b[43m \u001b[49m\u001b[38;5;28;43;01mNone\u001b[39;49;00m\u001b[43m,\u001b[49m\n\u001b[0;32m   1541\u001b[0m \u001b[43m                             \u001b[49m\u001b[38;5;28;43mint\u001b[39;49m\u001b[43m(\u001b[49m\u001b[38;5;129;43;01mnot\u001b[39;49;00m\u001b[43m \u001b[49m\u001b[43mclose_fds\u001b[49m\u001b[43m)\u001b[49m\u001b[43m,\u001b[49m\n\u001b[0;32m   1542\u001b[0m \u001b[43m                             \u001b[49m\u001b[43mcreationflags\u001b[49m\u001b[43m,\u001b[49m\n\u001b[0;32m   1543\u001b[0m \u001b[43m                             \u001b[49m\u001b[43menv\u001b[49m\u001b[43m,\u001b[49m\n\u001b[0;32m   1544\u001b[0m \u001b[43m                             \u001b[49m\u001b[43mcwd\u001b[49m\u001b[43m,\u001b[49m\n\u001b[0;32m   1545\u001b[0m \u001b[43m                             \u001b[49m\u001b[43mstartupinfo\u001b[49m\u001b[43m)\u001b[49m\n\u001b[0;32m   1546\u001b[0m \u001b[38;5;28;01mfinally\u001b[39;00m:\n\u001b[0;32m   1547\u001b[0m     \u001b[38;5;66;03m# Child is launched. Close the parent's copy of those pipe\u001b[39;00m\n\u001b[0;32m   1548\u001b[0m     \u001b[38;5;66;03m# handles that only the child should have open.  You need\u001b[39;00m\n\u001b[1;32m   (...)\u001b[0m\n\u001b[0;32m   1551\u001b[0m     \u001b[38;5;66;03m# pipe will not close when the child process exits and the\u001b[39;00m\n\u001b[0;32m   1552\u001b[0m     \u001b[38;5;66;03m# ReadFile will hang.\u001b[39;00m\n",
      "\u001b[1;31mFileNotFoundError\u001b[0m: [WinError 2] The system cannot find the file specified",
      "\nThe above exception was the direct cause of the following exception:\n",
      "\u001b[1;31mExecutableNotFound\u001b[0m                        Traceback (most recent call last)",
      "File \u001b[1;32m~\\AppData\\Local\\Packages\\PythonSoftwareFoundation.Python.3.12_qbz5n2kfra8p0\\LocalCache\\local-packages\\Python312\\site-packages\\IPython\\core\\formatters.py:977\u001b[0m, in \u001b[0;36mMimeBundleFormatter.__call__\u001b[1;34m(self, obj, include, exclude)\u001b[0m\n\u001b[0;32m    974\u001b[0m     method \u001b[38;5;241m=\u001b[39m get_real_method(obj, \u001b[38;5;28mself\u001b[39m\u001b[38;5;241m.\u001b[39mprint_method)\n\u001b[0;32m    976\u001b[0m     \u001b[38;5;28;01mif\u001b[39;00m method \u001b[38;5;129;01mis\u001b[39;00m \u001b[38;5;129;01mnot\u001b[39;00m \u001b[38;5;28;01mNone\u001b[39;00m:\n\u001b[1;32m--> 977\u001b[0m         \u001b[38;5;28;01mreturn\u001b[39;00m \u001b[43mmethod\u001b[49m\u001b[43m(\u001b[49m\u001b[43minclude\u001b[49m\u001b[38;5;241;43m=\u001b[39;49m\u001b[43minclude\u001b[49m\u001b[43m,\u001b[49m\u001b[43m \u001b[49m\u001b[43mexclude\u001b[49m\u001b[38;5;241;43m=\u001b[39;49m\u001b[43mexclude\u001b[49m\u001b[43m)\u001b[49m\n\u001b[0;32m    978\u001b[0m     \u001b[38;5;28;01mreturn\u001b[39;00m \u001b[38;5;28;01mNone\u001b[39;00m\n\u001b[0;32m    979\u001b[0m \u001b[38;5;28;01melse\u001b[39;00m:\n",
      "File \u001b[1;32m~\\AppData\\Local\\Packages\\PythonSoftwareFoundation.Python.3.12_qbz5n2kfra8p0\\LocalCache\\local-packages\\Python312\\site-packages\\graphviz\\jupyter_integration.py:98\u001b[0m, in \u001b[0;36mJupyterIntegration._repr_mimebundle_\u001b[1;34m(self, include, exclude, **_)\u001b[0m\n\u001b[0;32m     96\u001b[0m include \u001b[38;5;241m=\u001b[39m \u001b[38;5;28mset\u001b[39m(include) \u001b[38;5;28;01mif\u001b[39;00m include \u001b[38;5;129;01mis\u001b[39;00m \u001b[38;5;129;01mnot\u001b[39;00m \u001b[38;5;28;01mNone\u001b[39;00m \u001b[38;5;28;01melse\u001b[39;00m {\u001b[38;5;28mself\u001b[39m\u001b[38;5;241m.\u001b[39m_jupyter_mimetype}\n\u001b[0;32m     97\u001b[0m include \u001b[38;5;241m-\u001b[39m\u001b[38;5;241m=\u001b[39m \u001b[38;5;28mset\u001b[39m(exclude \u001b[38;5;129;01mor\u001b[39;00m [])\n\u001b[1;32m---> 98\u001b[0m \u001b[38;5;28;01mreturn\u001b[39;00m {mimetype: \u001b[38;5;28;43mgetattr\u001b[39;49m\u001b[43m(\u001b[49m\u001b[38;5;28;43mself\u001b[39;49m\u001b[43m,\u001b[49m\u001b[43m \u001b[49m\u001b[43mmethod_name\u001b[49m\u001b[43m)\u001b[49m\u001b[43m(\u001b[49m\u001b[43m)\u001b[49m\n\u001b[0;32m     99\u001b[0m         \u001b[38;5;28;01mfor\u001b[39;00m mimetype, method_name \u001b[38;5;129;01min\u001b[39;00m MIME_TYPES\u001b[38;5;241m.\u001b[39mitems()\n\u001b[0;32m    100\u001b[0m         \u001b[38;5;28;01mif\u001b[39;00m mimetype \u001b[38;5;129;01min\u001b[39;00m include}\n",
      "File \u001b[1;32m~\\AppData\\Local\\Packages\\PythonSoftwareFoundation.Python.3.12_qbz5n2kfra8p0\\LocalCache\\local-packages\\Python312\\site-packages\\graphviz\\jupyter_integration.py:112\u001b[0m, in \u001b[0;36mJupyterIntegration._repr_image_svg_xml\u001b[1;34m(self)\u001b[0m\n\u001b[0;32m    110\u001b[0m \u001b[38;5;28;01mdef\u001b[39;00m \u001b[38;5;21m_repr_image_svg_xml\u001b[39m(\u001b[38;5;28mself\u001b[39m) \u001b[38;5;241m-\u001b[39m\u001b[38;5;241m>\u001b[39m \u001b[38;5;28mstr\u001b[39m:\n\u001b[0;32m    111\u001b[0m \u001b[38;5;250m    \u001b[39m\u001b[38;5;124;03m\"\"\"Return the rendered graph as SVG string.\"\"\"\u001b[39;00m\n\u001b[1;32m--> 112\u001b[0m     \u001b[38;5;28;01mreturn\u001b[39;00m \u001b[38;5;28;43mself\u001b[39;49m\u001b[38;5;241;43m.\u001b[39;49m\u001b[43mpipe\u001b[49m\u001b[43m(\u001b[49m\u001b[38;5;28;43mformat\u001b[39;49m\u001b[38;5;241;43m=\u001b[39;49m\u001b[38;5;124;43m'\u001b[39;49m\u001b[38;5;124;43msvg\u001b[39;49m\u001b[38;5;124;43m'\u001b[39;49m\u001b[43m,\u001b[49m\u001b[43m \u001b[49m\u001b[43mencoding\u001b[49m\u001b[38;5;241;43m=\u001b[39;49m\u001b[43mSVG_ENCODING\u001b[49m\u001b[43m)\u001b[49m\n",
      "File \u001b[1;32m~\\AppData\\Local\\Packages\\PythonSoftwareFoundation.Python.3.12_qbz5n2kfra8p0\\LocalCache\\local-packages\\Python312\\site-packages\\graphviz\\piping.py:104\u001b[0m, in \u001b[0;36mPipe.pipe\u001b[1;34m(self, format, renderer, formatter, neato_no_op, quiet, engine, encoding)\u001b[0m\n\u001b[0;32m     55\u001b[0m \u001b[38;5;28;01mdef\u001b[39;00m \u001b[38;5;21mpipe\u001b[39m(\u001b[38;5;28mself\u001b[39m,\n\u001b[0;32m     56\u001b[0m          \u001b[38;5;28mformat\u001b[39m: typing\u001b[38;5;241m.\u001b[39mOptional[\u001b[38;5;28mstr\u001b[39m] \u001b[38;5;241m=\u001b[39m \u001b[38;5;28;01mNone\u001b[39;00m,\n\u001b[0;32m     57\u001b[0m          renderer: typing\u001b[38;5;241m.\u001b[39mOptional[\u001b[38;5;28mstr\u001b[39m] \u001b[38;5;241m=\u001b[39m \u001b[38;5;28;01mNone\u001b[39;00m,\n\u001b[1;32m   (...)\u001b[0m\n\u001b[0;32m     61\u001b[0m          engine: typing\u001b[38;5;241m.\u001b[39mOptional[\u001b[38;5;28mstr\u001b[39m] \u001b[38;5;241m=\u001b[39m \u001b[38;5;28;01mNone\u001b[39;00m,\n\u001b[0;32m     62\u001b[0m          encoding: typing\u001b[38;5;241m.\u001b[39mOptional[\u001b[38;5;28mstr\u001b[39m] \u001b[38;5;241m=\u001b[39m \u001b[38;5;28;01mNone\u001b[39;00m) \u001b[38;5;241m-\u001b[39m\u001b[38;5;241m>\u001b[39m typing\u001b[38;5;241m.\u001b[39mUnion[\u001b[38;5;28mbytes\u001b[39m, \u001b[38;5;28mstr\u001b[39m]:\n\u001b[0;32m     63\u001b[0m \u001b[38;5;250m    \u001b[39m\u001b[38;5;124;03m\"\"\"Return the source piped through the Graphviz layout command.\u001b[39;00m\n\u001b[0;32m     64\u001b[0m \n\u001b[0;32m     65\u001b[0m \u001b[38;5;124;03m    Args:\u001b[39;00m\n\u001b[1;32m   (...)\u001b[0m\n\u001b[0;32m    102\u001b[0m \u001b[38;5;124;03m        '<?xml version='\u001b[39;00m\n\u001b[0;32m    103\u001b[0m \u001b[38;5;124;03m    \"\"\"\u001b[39;00m\n\u001b[1;32m--> 104\u001b[0m     \u001b[38;5;28;01mreturn\u001b[39;00m \u001b[38;5;28;43mself\u001b[39;49m\u001b[38;5;241;43m.\u001b[39;49m\u001b[43m_pipe_legacy\u001b[49m\u001b[43m(\u001b[49m\u001b[38;5;28;43mformat\u001b[39;49m\u001b[43m,\u001b[49m\n\u001b[0;32m    105\u001b[0m \u001b[43m                             \u001b[49m\u001b[43mrenderer\u001b[49m\u001b[38;5;241;43m=\u001b[39;49m\u001b[43mrenderer\u001b[49m\u001b[43m,\u001b[49m\n\u001b[0;32m    106\u001b[0m \u001b[43m                             \u001b[49m\u001b[43mformatter\u001b[49m\u001b[38;5;241;43m=\u001b[39;49m\u001b[43mformatter\u001b[49m\u001b[43m,\u001b[49m\n\u001b[0;32m    107\u001b[0m \u001b[43m                             \u001b[49m\u001b[43mneato_no_op\u001b[49m\u001b[38;5;241;43m=\u001b[39;49m\u001b[43mneato_no_op\u001b[49m\u001b[43m,\u001b[49m\n\u001b[0;32m    108\u001b[0m \u001b[43m                             \u001b[49m\u001b[43mquiet\u001b[49m\u001b[38;5;241;43m=\u001b[39;49m\u001b[43mquiet\u001b[49m\u001b[43m,\u001b[49m\n\u001b[0;32m    109\u001b[0m \u001b[43m                             \u001b[49m\u001b[43mengine\u001b[49m\u001b[38;5;241;43m=\u001b[39;49m\u001b[43mengine\u001b[49m\u001b[43m,\u001b[49m\n\u001b[0;32m    110\u001b[0m \u001b[43m                             \u001b[49m\u001b[43mencoding\u001b[49m\u001b[38;5;241;43m=\u001b[39;49m\u001b[43mencoding\u001b[49m\u001b[43m)\u001b[49m\n",
      "File \u001b[1;32m~\\AppData\\Local\\Packages\\PythonSoftwareFoundation.Python.3.12_qbz5n2kfra8p0\\LocalCache\\local-packages\\Python312\\site-packages\\graphviz\\_tools.py:185\u001b[0m, in \u001b[0;36mdeprecate_positional_args.<locals>.decorator.<locals>.wrapper\u001b[1;34m(*args, **kwargs)\u001b[0m\n\u001b[0;32m    177\u001b[0m     wanted \u001b[38;5;241m=\u001b[39m \u001b[38;5;124m'\u001b[39m\u001b[38;5;124m, \u001b[39m\u001b[38;5;124m'\u001b[39m\u001b[38;5;241m.\u001b[39mjoin(\u001b[38;5;124mf\u001b[39m\u001b[38;5;124m'\u001b[39m\u001b[38;5;132;01m{\u001b[39;00mname\u001b[38;5;132;01m}\u001b[39;00m\u001b[38;5;124m=\u001b[39m\u001b[38;5;132;01m{\u001b[39;00mvalue\u001b[38;5;132;01m!r}\u001b[39;00m\u001b[38;5;124m'\u001b[39m\n\u001b[0;32m    178\u001b[0m                        \u001b[38;5;28;01mfor\u001b[39;00m name, value \u001b[38;5;129;01min\u001b[39;00m deprecated\u001b[38;5;241m.\u001b[39mitems())\n\u001b[0;32m    179\u001b[0m     warnings\u001b[38;5;241m.\u001b[39mwarn(\u001b[38;5;124mf\u001b[39m\u001b[38;5;124m'\u001b[39m\u001b[38;5;124mThe signature of \u001b[39m\u001b[38;5;132;01m{\u001b[39;00mfunc_name\u001b[38;5;132;01m}\u001b[39;00m\u001b[38;5;124m will be reduced\u001b[39m\u001b[38;5;124m'\u001b[39m\n\u001b[0;32m    180\u001b[0m                   \u001b[38;5;124mf\u001b[39m\u001b[38;5;124m'\u001b[39m\u001b[38;5;124m to \u001b[39m\u001b[38;5;132;01m{\u001b[39;00msupported_number\u001b[38;5;132;01m}\u001b[39;00m\u001b[38;5;124m positional arg\u001b[39m\u001b[38;5;132;01m{\u001b[39;00ms_\u001b[38;5;132;01m}\u001b[39;00m\u001b[38;5;132;01m{\u001b[39;00mqualification\u001b[38;5;132;01m}\u001b[39;00m\u001b[38;5;124m'\u001b[39m\n\u001b[0;32m    181\u001b[0m                   \u001b[38;5;124mf\u001b[39m\u001b[38;5;124m'\u001b[39m\u001b[38;5;124m \u001b[39m\u001b[38;5;132;01m{\u001b[39;00m\u001b[38;5;28mlist\u001b[39m(supported)\u001b[38;5;132;01m}\u001b[39;00m\u001b[38;5;124m: pass \u001b[39m\u001b[38;5;132;01m{\u001b[39;00mwanted\u001b[38;5;132;01m}\u001b[39;00m\u001b[38;5;124m as keyword arg\u001b[39m\u001b[38;5;132;01m{\u001b[39;00ms_\u001b[38;5;132;01m}\u001b[39;00m\u001b[38;5;124m'\u001b[39m,\n\u001b[0;32m    182\u001b[0m                   stacklevel\u001b[38;5;241m=\u001b[39mstacklevel,\n\u001b[0;32m    183\u001b[0m                   category\u001b[38;5;241m=\u001b[39mcategory)\n\u001b[1;32m--> 185\u001b[0m \u001b[38;5;28;01mreturn\u001b[39;00m \u001b[43mfunc\u001b[49m\u001b[43m(\u001b[49m\u001b[38;5;241;43m*\u001b[39;49m\u001b[43margs\u001b[49m\u001b[43m,\u001b[49m\u001b[43m \u001b[49m\u001b[38;5;241;43m*\u001b[39;49m\u001b[38;5;241;43m*\u001b[39;49m\u001b[43mkwargs\u001b[49m\u001b[43m)\u001b[49m\n",
      "File \u001b[1;32m~\\AppData\\Local\\Packages\\PythonSoftwareFoundation.Python.3.12_qbz5n2kfra8p0\\LocalCache\\local-packages\\Python312\\site-packages\\graphviz\\piping.py:121\u001b[0m, in \u001b[0;36mPipe._pipe_legacy\u001b[1;34m(self, format, renderer, formatter, neato_no_op, quiet, engine, encoding)\u001b[0m\n\u001b[0;32m    112\u001b[0m \u001b[38;5;129m@_tools\u001b[39m\u001b[38;5;241m.\u001b[39mdeprecate_positional_args(supported_number\u001b[38;5;241m=\u001b[39m\u001b[38;5;241m1\u001b[39m, ignore_arg\u001b[38;5;241m=\u001b[39m\u001b[38;5;124m'\u001b[39m\u001b[38;5;124mself\u001b[39m\u001b[38;5;124m'\u001b[39m)\n\u001b[0;32m    113\u001b[0m \u001b[38;5;28;01mdef\u001b[39;00m \u001b[38;5;21m_pipe_legacy\u001b[39m(\u001b[38;5;28mself\u001b[39m,\n\u001b[0;32m    114\u001b[0m                  \u001b[38;5;28mformat\u001b[39m: typing\u001b[38;5;241m.\u001b[39mOptional[\u001b[38;5;28mstr\u001b[39m] \u001b[38;5;241m=\u001b[39m \u001b[38;5;28;01mNone\u001b[39;00m,\n\u001b[1;32m   (...)\u001b[0m\n\u001b[0;32m    119\u001b[0m                  engine: typing\u001b[38;5;241m.\u001b[39mOptional[\u001b[38;5;28mstr\u001b[39m] \u001b[38;5;241m=\u001b[39m \u001b[38;5;28;01mNone\u001b[39;00m,\n\u001b[0;32m    120\u001b[0m                  encoding: typing\u001b[38;5;241m.\u001b[39mOptional[\u001b[38;5;28mstr\u001b[39m] \u001b[38;5;241m=\u001b[39m \u001b[38;5;28;01mNone\u001b[39;00m) \u001b[38;5;241m-\u001b[39m\u001b[38;5;241m>\u001b[39m typing\u001b[38;5;241m.\u001b[39mUnion[\u001b[38;5;28mbytes\u001b[39m, \u001b[38;5;28mstr\u001b[39m]:\n\u001b[1;32m--> 121\u001b[0m     \u001b[38;5;28;01mreturn\u001b[39;00m \u001b[38;5;28;43mself\u001b[39;49m\u001b[38;5;241;43m.\u001b[39;49m\u001b[43m_pipe_future\u001b[49m\u001b[43m(\u001b[49m\u001b[38;5;28;43mformat\u001b[39;49m\u001b[43m,\u001b[49m\n\u001b[0;32m    122\u001b[0m \u001b[43m                             \u001b[49m\u001b[43mrenderer\u001b[49m\u001b[38;5;241;43m=\u001b[39;49m\u001b[43mrenderer\u001b[49m\u001b[43m,\u001b[49m\n\u001b[0;32m    123\u001b[0m \u001b[43m                             \u001b[49m\u001b[43mformatter\u001b[49m\u001b[38;5;241;43m=\u001b[39;49m\u001b[43mformatter\u001b[49m\u001b[43m,\u001b[49m\n\u001b[0;32m    124\u001b[0m \u001b[43m                             \u001b[49m\u001b[43mneato_no_op\u001b[49m\u001b[38;5;241;43m=\u001b[39;49m\u001b[43mneato_no_op\u001b[49m\u001b[43m,\u001b[49m\n\u001b[0;32m    125\u001b[0m \u001b[43m                             \u001b[49m\u001b[43mquiet\u001b[49m\u001b[38;5;241;43m=\u001b[39;49m\u001b[43mquiet\u001b[49m\u001b[43m,\u001b[49m\n\u001b[0;32m    126\u001b[0m \u001b[43m                             \u001b[49m\u001b[43mengine\u001b[49m\u001b[38;5;241;43m=\u001b[39;49m\u001b[43mengine\u001b[49m\u001b[43m,\u001b[49m\n\u001b[0;32m    127\u001b[0m \u001b[43m                             \u001b[49m\u001b[43mencoding\u001b[49m\u001b[38;5;241;43m=\u001b[39;49m\u001b[43mencoding\u001b[49m\u001b[43m)\u001b[49m\n",
      "File \u001b[1;32m~\\AppData\\Local\\Packages\\PythonSoftwareFoundation.Python.3.12_qbz5n2kfra8p0\\LocalCache\\local-packages\\Python312\\site-packages\\graphviz\\piping.py:149\u001b[0m, in \u001b[0;36mPipe._pipe_future\u001b[1;34m(self, format, renderer, formatter, neato_no_op, quiet, engine, encoding)\u001b[0m\n\u001b[0;32m    146\u001b[0m \u001b[38;5;28;01mif\u001b[39;00m encoding \u001b[38;5;129;01mis\u001b[39;00m \u001b[38;5;129;01mnot\u001b[39;00m \u001b[38;5;28;01mNone\u001b[39;00m:\n\u001b[0;32m    147\u001b[0m     \u001b[38;5;28;01mif\u001b[39;00m codecs\u001b[38;5;241m.\u001b[39mlookup(encoding) \u001b[38;5;129;01mis\u001b[39;00m codecs\u001b[38;5;241m.\u001b[39mlookup(\u001b[38;5;28mself\u001b[39m\u001b[38;5;241m.\u001b[39mencoding):\n\u001b[0;32m    148\u001b[0m         \u001b[38;5;66;03m# common case: both stdin and stdout need the same encoding\u001b[39;00m\n\u001b[1;32m--> 149\u001b[0m         \u001b[38;5;28;01mreturn\u001b[39;00m \u001b[38;5;28;43mself\u001b[39;49m\u001b[38;5;241;43m.\u001b[39;49m\u001b[43m_pipe_lines_string\u001b[49m\u001b[43m(\u001b[49m\u001b[38;5;241;43m*\u001b[39;49m\u001b[43margs\u001b[49m\u001b[43m,\u001b[49m\u001b[43m \u001b[49m\u001b[43mencoding\u001b[49m\u001b[38;5;241;43m=\u001b[39;49m\u001b[43mencoding\u001b[49m\u001b[43m,\u001b[49m\u001b[43m \u001b[49m\u001b[38;5;241;43m*\u001b[39;49m\u001b[38;5;241;43m*\u001b[39;49m\u001b[43mkwargs\u001b[49m\u001b[43m)\u001b[49m\n\u001b[0;32m    150\u001b[0m     \u001b[38;5;28;01mtry\u001b[39;00m:\n\u001b[0;32m    151\u001b[0m         raw \u001b[38;5;241m=\u001b[39m \u001b[38;5;28mself\u001b[39m\u001b[38;5;241m.\u001b[39m_pipe_lines(\u001b[38;5;241m*\u001b[39margs, input_encoding\u001b[38;5;241m=\u001b[39m\u001b[38;5;28mself\u001b[39m\u001b[38;5;241m.\u001b[39mencoding, \u001b[38;5;241m*\u001b[39m\u001b[38;5;241m*\u001b[39mkwargs)\n",
      "File \u001b[1;32m~\\AppData\\Local\\Packages\\PythonSoftwareFoundation.Python.3.12_qbz5n2kfra8p0\\LocalCache\\local-packages\\Python312\\site-packages\\graphviz\\backend\\piping.py:212\u001b[0m, in \u001b[0;36mpipe_lines_string\u001b[1;34m(engine, format, input_lines, encoding, renderer, formatter, neato_no_op, quiet)\u001b[0m\n\u001b[0;32m    206\u001b[0m cmd \u001b[38;5;241m=\u001b[39m dot_command\u001b[38;5;241m.\u001b[39mcommand(engine, \u001b[38;5;28mformat\u001b[39m,\n\u001b[0;32m    207\u001b[0m                           renderer\u001b[38;5;241m=\u001b[39mrenderer,\n\u001b[0;32m    208\u001b[0m                           formatter\u001b[38;5;241m=\u001b[39mformatter,\n\u001b[0;32m    209\u001b[0m                           neato_no_op\u001b[38;5;241m=\u001b[39mneato_no_op)\n\u001b[0;32m    210\u001b[0m kwargs \u001b[38;5;241m=\u001b[39m {\u001b[38;5;124m'\u001b[39m\u001b[38;5;124minput_lines\u001b[39m\u001b[38;5;124m'\u001b[39m: input_lines, \u001b[38;5;124m'\u001b[39m\u001b[38;5;124mencoding\u001b[39m\u001b[38;5;124m'\u001b[39m: encoding}\n\u001b[1;32m--> 212\u001b[0m proc \u001b[38;5;241m=\u001b[39m \u001b[43mexecute\u001b[49m\u001b[38;5;241;43m.\u001b[39;49m\u001b[43mrun_check\u001b[49m\u001b[43m(\u001b[49m\u001b[43mcmd\u001b[49m\u001b[43m,\u001b[49m\u001b[43m \u001b[49m\u001b[43mcapture_output\u001b[49m\u001b[38;5;241;43m=\u001b[39;49m\u001b[38;5;28;43;01mTrue\u001b[39;49;00m\u001b[43m,\u001b[49m\u001b[43m \u001b[49m\u001b[43mquiet\u001b[49m\u001b[38;5;241;43m=\u001b[39;49m\u001b[43mquiet\u001b[49m\u001b[43m,\u001b[49m\u001b[43m \u001b[49m\u001b[38;5;241;43m*\u001b[39;49m\u001b[38;5;241;43m*\u001b[39;49m\u001b[43mkwargs\u001b[49m\u001b[43m)\u001b[49m\n\u001b[0;32m    213\u001b[0m \u001b[38;5;28;01mreturn\u001b[39;00m proc\u001b[38;5;241m.\u001b[39mstdout\n",
      "File \u001b[1;32m~\\AppData\\Local\\Packages\\PythonSoftwareFoundation.Python.3.12_qbz5n2kfra8p0\\LocalCache\\local-packages\\Python312\\site-packages\\graphviz\\backend\\execute.py:81\u001b[0m, in \u001b[0;36mrun_check\u001b[1;34m(cmd, input_lines, encoding, quiet, **kwargs)\u001b[0m\n\u001b[0;32m     79\u001b[0m \u001b[38;5;28;01mexcept\u001b[39;00m \u001b[38;5;167;01mOSError\u001b[39;00m \u001b[38;5;28;01mas\u001b[39;00m e:\n\u001b[0;32m     80\u001b[0m     \u001b[38;5;28;01mif\u001b[39;00m e\u001b[38;5;241m.\u001b[39merrno \u001b[38;5;241m==\u001b[39m errno\u001b[38;5;241m.\u001b[39mENOENT:\n\u001b[1;32m---> 81\u001b[0m         \u001b[38;5;28;01mraise\u001b[39;00m ExecutableNotFound(cmd) \u001b[38;5;28;01mfrom\u001b[39;00m \u001b[38;5;21;01me\u001b[39;00m\n\u001b[0;32m     82\u001b[0m     \u001b[38;5;28;01mraise\u001b[39;00m\n\u001b[0;32m     84\u001b[0m \u001b[38;5;28;01mif\u001b[39;00m \u001b[38;5;129;01mnot\u001b[39;00m quiet \u001b[38;5;129;01mand\u001b[39;00m proc\u001b[38;5;241m.\u001b[39mstderr:\n",
      "\u001b[1;31mExecutableNotFound\u001b[0m: failed to execute WindowsPath('dot'), make sure the Graphviz executables are on your systems' PATH"
     ]
    },
    {
     "data": {
      "text/plain": [
       "<graphviz.graphs.Digraph at 0x1ce4a8db860>"
      ]
     },
     "execution_count": 56,
     "metadata": {},
     "output_type": "execute_result"
    }
   ],
   "source": [
    "make_dot(y_hat, params=dict(net.named_parameters()))"
   ]
  },
  {
   "cell_type": "markdown",
   "metadata": {
    "collapsed": false
   },
   "source": [
    "Let's look at the weights and gradients."
   ]
  },
  {
   "cell_type": "code",
   "execution_count": 57,
   "metadata": {
    "editable": false,
    "id": "NArz4xdLgSZn",
    "slideshow": {
     "slide_type": ""
    },
    "tags": [
     "raises-exception"
    ]
   },
   "outputs": [
    {
     "name": "stdout",
     "output_type": "stream",
     "text": [
      "Parameter 0\n",
      "Parameter containing:\n",
      "tensor([[-0.3164, -0.3296,  0.2909,  0.0860],\n",
      "        [ 0.4242, -0.4182,  0.3900,  0.0992],\n",
      "        [-0.0916,  0.2723,  0.3348,  0.0453],\n",
      "        [-0.1404,  0.2803,  0.3108, -0.2477],\n",
      "        [ 0.3927, -0.2876,  0.0244,  0.1596],\n",
      "        [ 0.2375,  0.3001, -0.3305,  0.2989],\n",
      "        [-0.3506,  0.3537,  0.4324, -0.3394],\n",
      "        [-0.0261, -0.4271,  0.3081, -0.1699],\n",
      "        [ 0.0798, -0.3309, -0.3864, -0.4130],\n",
      "        [-0.0591,  0.3412,  0.1317, -0.0991],\n",
      "        [ 0.2845, -0.4801, -0.2645,  0.3818],\n",
      "        [-0.4545, -0.4228,  0.2202,  0.3844],\n",
      "        [ 0.1730, -0.1898, -0.4976, -0.4197],\n",
      "        [-0.3150, -0.4777,  0.3703,  0.4377],\n",
      "        [-0.3361, -0.4588,  0.0928, -0.0239],\n",
      "        [ 0.1739,  0.2033, -0.1283,  0.2871]], requires_grad=True)\n",
      "shape: torch.Size([16, 4]) \n",
      "\n",
      "Parameter 1\n",
      "Parameter containing:\n",
      "tensor([ 0.0244,  0.1931,  0.2298, -0.0720, -0.3140,  0.1833,  0.4213,  0.3285,\n",
      "         0.0541,  0.4022, -0.3203,  0.2408,  0.3831, -0.0250,  0.4815,  0.0488],\n",
      "       requires_grad=True)\n",
      "shape: torch.Size([16]) \n",
      "\n",
      "Parameter 2\n",
      "Parameter containing:\n",
      "tensor([[ 0.0115, -0.1986, -0.1251, -0.0295,  0.1280, -0.0431, -0.0310, -0.1202,\n",
      "          0.0726, -0.2349, -0.1441, -0.0913, -0.2370, -0.1571,  0.0767, -0.2482],\n",
      "        [-0.0291,  0.1484,  0.1458,  0.1390, -0.0346, -0.2207, -0.0740,  0.0650,\n",
      "          0.0738, -0.0910, -0.0137, -0.1528,  0.1388, -0.1668, -0.1075,  0.2084],\n",
      "        [-0.0276, -0.2097, -0.1841,  0.0809,  0.0564,  0.1018, -0.2025,  0.1324,\n",
      "          0.0153, -0.0201, -0.1052,  0.0289,  0.1260, -0.0510,  0.1191, -0.1575],\n",
      "        [ 0.0601,  0.0498, -0.1166,  0.1703, -0.1528, -0.0090, -0.1733, -0.1419,\n",
      "          0.0507, -0.1271,  0.2487,  0.1533,  0.1296,  0.2343, -0.1738,  0.2387],\n",
      "        [ 0.0428,  0.0428,  0.2282,  0.2450,  0.1490,  0.1807,  0.1674,  0.2002,\n",
      "         -0.0010, -0.1771, -0.2096,  0.2485, -0.1352,  0.0226,  0.1498, -0.1859],\n",
      "        [-0.0851,  0.2225, -0.1105, -0.2429,  0.2058,  0.1420,  0.1299, -0.2414,\n",
      "         -0.1980,  0.0147,  0.1792, -0.1525, -0.0335,  0.0751,  0.1999,  0.1728],\n",
      "        [-0.1119, -0.0212,  0.1928, -0.2375,  0.0097,  0.1172, -0.2368,  0.0811,\n",
      "          0.0063,  0.2365,  0.0408, -0.2428, -0.0662, -0.0860, -0.1919, -0.0115],\n",
      "        [-0.1603,  0.1900, -0.1584,  0.0162,  0.0386,  0.0273, -0.1024, -0.0968,\n",
      "          0.2023, -0.2075,  0.2137, -0.1310,  0.0053,  0.2098, -0.1332,  0.1565]],\n",
      "       requires_grad=True)\n",
      "shape: torch.Size([8, 16]) \n",
      "\n",
      "Parameter 3\n",
      "Parameter containing:\n",
      "tensor([-0.1222,  0.1709, -0.0454,  0.1586, -0.0758,  0.1489,  0.2094, -0.2361],\n",
      "       requires_grad=True)\n",
      "shape: torch.Size([8]) \n",
      "\n",
      "Parameter 4\n",
      "Parameter containing:\n",
      "tensor([[-0.2962, -0.2639, -0.3462,  0.1811, -0.3511, -0.3354,  0.1049, -0.0285],\n",
      "        [ 0.2511, -0.0238, -0.3108,  0.2434, -0.2517,  0.2256,  0.1319,  0.2553]],\n",
      "       requires_grad=True)\n",
      "shape: torch.Size([2, 8]) \n",
      "\n",
      "Parameter 5\n",
      "Parameter containing:\n",
      "tensor([-0.2160,  0.0311], requires_grad=True)\n",
      "shape: torch.Size([2]) \n",
      "\n"
     ]
    }
   ],
   "source": [
    "for i, param in enumerate(net.parameters()):\n",
    "  print('Parameter', i)\n",
    "  print(param)\n",
    "  print('shape:', param.size(), '\\n')"
   ]
  },
  {
   "cell_type": "markdown",
   "metadata": {
    "id": "EwE2gvGih8Aa"
   },
   "source": [
    "The first tensor has a 16 x 4 shape because it stores the weights inside ```linear1```, which is fully connecting the 4 input values to 16 hidden nodes. A fully-connected layer going from 4 inputs to 16 hidden nodes would have 64 weights, and that is what we see.\n",
    "\n",
    "The second tensor is 16 x 1. These are the bias weights inside ```linear1``` that are applied after the 4 inputs are multiplied by the weights in the prior tensor (Remember an affine transformation is $Ax + b$ where $A$ is a matrix of weights and $b$ is another matrix of weights for the bias).\n",
    "\n",
    "The third tensor is 8 x 16 because these are the weights connecting the layer of 16 hidden notes to the layer of 8 hidden nodes. The fourth tensor is the 8 bias weights.\n",
    "\n",
    "The fifth and sixth tensors fully connect the eight hidden nodes to the two outputs values and apply bias weights.\n",
    "\n",
    "The activation functions don't have weights. They just apply their non-linear function to whatever inputs are passed in, regardless of size or shape."
   ]
  },
  {
   "cell_type": "markdown",
   "metadata": {
    "id": "JJ2l1gfD8Wt0"
   },
   "source": [
    "# The Optimizer\n",
    "\n",
    "Now we have a neural network. Running the network's forward pass will construct the network. Then we will want to backpropagate a loss signal. There are a lot of different optimization functions. We have to pick one and instantiate it.\n",
    "\n",
    "We will use an optimization function called ```Adam``` and tell it about the parameters of our neural network. Since the CarNet class is just a wrapper, we must pass in parameters themselves---the weights."
   ]
  },
  {
   "cell_type": "code",
   "execution_count": 58,
   "metadata": {
    "editable": false,
    "id": "Mw7zwDRVqsoo",
    "slideshow": {
     "slide_type": ""
    },
    "tags": [
     "raises-exception"
    ]
   },
   "outputs": [],
   "source": [
    "optimizer = optim.Adam(net.parameters())"
   ]
  },
  {
   "cell_type": "markdown",
   "metadata": {
    "id": "J-vYKyrpLU9E"
   },
   "source": [
    "To optimize, we also need to be able to calculate the network's loss. In this case we will use Mean Square Error."
   ]
  },
  {
   "cell_type": "code",
   "execution_count": 59,
   "metadata": {
    "editable": false,
    "id": "ls2oL2doEXdb",
    "slideshow": {
     "slide_type": ""
    },
    "tags": []
   },
   "outputs": [],
   "source": [
    "loss_fn = nn.MSELoss()"
   ]
  },
  {
   "cell_type": "markdown",
   "metadata": {
    "id": "uSuCLAX_LlSR"
   },
   "source": [
    "# Forward Pass\n",
    "\n",
    "To run the neural net, you call the network class object (CarNet) as if it were a function and pass in the inputs. This automatically calls the ```forward()``` function.\n",
    "\n",
    "Calling the neural network's forward function produces the predicted output, which we will save in ```y_hat``` to denote that it is a prediction and may not be accurate. (Indeed it won't be accurate because we haven't done any training yet.)"
   ]
  },
  {
   "cell_type": "code",
   "execution_count": 60,
   "metadata": {
    "editable": false,
    "id": "2VDFngOosSu1",
    "slideshow": {
     "slide_type": ""
    },
    "tags": [
     "raises-exception"
    ]
   },
   "outputs": [],
   "source": [
    "# Get a batch\n",
    "x, y = get_batch(train_data, 8, 0)\n",
    "\n",
    "# Call the forward pass\n",
    "y_hat = net(x)"
   ]
  },
  {
   "cell_type": "markdown",
   "metadata": {
    "id": "iQPzQKOuMXWu"
   },
   "source": [
    "Let's take a look at what the output looks like:"
   ]
  },
  {
   "cell_type": "code",
   "execution_count": 61,
   "metadata": {
    "editable": false,
    "id": "0GmGS3-lMYaG",
    "slideshow": {
     "slide_type": ""
    },
    "tags": [
     "raises-exception"
    ]
   },
   "outputs": [
    {
     "name": "stdout",
     "output_type": "stream",
     "text": [
      "tensor([[-0.1555, -0.0834],\n",
      "        [-0.1986, -0.1769],\n",
      "        [-0.1673, -0.1795],\n",
      "        [-0.1722, -0.1148],\n",
      "        [-0.1758, -0.1061],\n",
      "        [-0.1593, -0.0902],\n",
      "        [-0.0990,  0.1182],\n",
      "        [-0.1658, -0.0764]], grad_fn=<TanhBackward0>)\n",
      "Shape of y_hat: torch.Size([8, 2])\n"
     ]
    }
   ],
   "source": [
    "print(y_hat)\n",
    "print('Shape of y_hat:', y_hat.size())"
   ]
  },
  {
   "cell_type": "markdown",
   "metadata": {
    "id": "_9QIoFbsMy_Z"
   },
   "source": [
    "The output tensor is the same shape as the *y* tensor in the data. This is important because next we are going to compare `y_hat` to `y` to see how much we missed the correct answer by. That happens next."
   ]
  },
  {
   "cell_type": "markdown",
   "metadata": {
    "id": "3vyT77PAM6W4"
   },
   "source": [
    "# Compute Loss\n",
    "\n",
    "Now we can compute the network's loss by passing `y_hat` and `y` into our loss function."
   ]
  },
  {
   "cell_type": "code",
   "execution_count": 62,
   "metadata": {
    "editable": false,
    "id": "BBjw8FrWsX0K",
    "slideshow": {
     "slide_type": ""
    },
    "tags": [
     "raises-exception"
    ]
   },
   "outputs": [
    {
     "name": "stdout",
     "output_type": "stream",
     "text": [
      "tensor(0.0860, grad_fn=<MseLossBackward0>)\n"
     ]
    }
   ],
   "source": [
    "loss = loss_fn(y_hat, y)\n",
    "print(loss)"
   ]
  },
  {
   "cell_type": "markdown",
   "metadata": {
    "id": "pWkjoMW3x-cQ"
   },
   "source": [
    "The loss is a tensor that contains a single scalar value, which is how much `y_hat` missed the true answer in `y`. You can also see that the loss remembers that it was created by computations within the `MSELoss` module. This is important for what happens next."
   ]
  },
  {
   "cell_type": "markdown",
   "metadata": {
    "id": "Kfa5KjzDNSvf"
   },
   "source": [
    "# Backward Pass\n",
    "\n",
    "Now that we have the loss computed, we can backpropagate the loss through our network and the optimizer will adjust the weights for us.\n",
    "\n",
    "This is kind of weird, but to do this you call ```loss.backward()```."
   ]
  },
  {
   "cell_type": "code",
   "execution_count": 63,
   "metadata": {
    "editable": false,
    "id": "ZmdAJp1ItoRY",
    "slideshow": {
     "slide_type": ""
    },
    "tags": [
     "raises-exception"
    ]
   },
   "outputs": [],
   "source": [
    "optimizer.zero_grad()\n",
    "loss.backward()\n",
    "optimizer.step()"
   ]
  },
  {
   "cell_type": "markdown",
   "metadata": {
    "id": "Td1r2Z76j7hi"
   },
   "source": [
    "What is going on here? When we called ```forward()``` each element remembers how it was created. For example inside ```forward()```, `y_hat` remembered that it was created by ```activation3``` which was a tanh. The inputs to ```activation3``` remembered that it was created by ```linear2``` which was a ```Linear``` layer. Similarly, the `loss` variable remembered that it was created by the ```MSELoss``` function. You can see this remembering when you print tensors (the ```grad_fn``` part of each tensor).\n",
    "\n",
    "When you call ```backward()``` on the *loss* variable, you are telling it to pass it's value back up this chain (this chain is called a computation graph and is technically a directed acyclic graph). As the loss moves up the computation graph, it will encounter weights, such as those stored inside the ```Linear``` layers. The weights have gradients attached to them and the gradients are updated. This all happens because modules in Pytorch have ```backward()``` functions that know how to compute gradients and you never have to worry about it."
   ]
  },
  {
   "cell_type": "markdown",
   "metadata": {
    "id": "ZFH1RccYPlEi"
   },
   "source": [
    "Let's look at the network's weights again. This time the weights are different---the optimizer adjusted them for us. We can also see the gradients that were computed (```.grad.data```) for each weight."
   ]
  },
  {
   "cell_type": "code",
   "execution_count": 64,
   "metadata": {
    "editable": false,
    "id": "2pI_wR2APo8S",
    "slideshow": {
     "slide_type": ""
    },
    "tags": [
     "raises-exception"
    ]
   },
   "outputs": [
    {
     "name": "stdout",
     "output_type": "stream",
     "text": [
      "Parameter 0\n",
      "Parameter containing:\n",
      "tensor([[-0.3174, -0.3286,  0.2919,  0.0850],\n",
      "        [ 0.4252, -0.4172,  0.3910,  0.1002],\n",
      "        [-0.0926,  0.2713,  0.3338,  0.0443],\n",
      "        [-0.1414,  0.2793,  0.3098, -0.2487],\n",
      "        [ 0.3917, -0.2886,  0.0234,  0.1586],\n",
      "        [ 0.2365,  0.2991, -0.3315,  0.2979],\n",
      "        [-0.3516,  0.3527,  0.4314, -0.3404],\n",
      "        [-0.0271, -0.4281,  0.3071, -0.1709],\n",
      "        [ 0.0808, -0.3299, -0.3854, -0.4120],\n",
      "        [-0.0581,  0.3422,  0.1327, -0.0981],\n",
      "        [ 0.2855, -0.4791, -0.2635,  0.3828],\n",
      "        [-0.4555, -0.4238,  0.2192,  0.3834],\n",
      "        [ 0.1740, -0.1888, -0.4966, -0.4187],\n",
      "        [-0.3140, -0.4767,  0.3713,  0.4387],\n",
      "        [-0.3371, -0.4598,  0.0918, -0.0249],\n",
      "        [ 0.1749,  0.2043, -0.1273,  0.2881]], requires_grad=True)\n",
      "\n",
      "gradients:\n",
      "tensor([[ 0.0008, -0.0005, -0.0003,  0.0040],\n",
      "        [-0.0058, -0.0029, -0.0025, -0.0115],\n",
      "        [ 0.0052,  0.0021,  0.0018,  0.0105],\n",
      "        [ 0.0137,  0.0086,  0.0077,  0.0218],\n",
      "        [ 0.0191,  0.0155,  0.0125,  0.0198],\n",
      "        [ 0.0068,  0.0052,  0.0044,  0.0081],\n",
      "        [ 0.0085,  0.0055,  0.0046,  0.0118],\n",
      "        [ 0.0185,  0.0104,  0.0088,  0.0319],\n",
      "        [-0.0041, -0.0027, -0.0022, -0.0053],\n",
      "        [-0.0088, -0.0077, -0.0067, -0.0075],\n",
      "        [-0.0265, -0.0163, -0.0142, -0.0398],\n",
      "        [ 0.0071,  0.0030,  0.0025,  0.0154],\n",
      "        [-0.0031, -0.0035, -0.0024, -0.0002],\n",
      "        [-0.0154, -0.0102, -0.0087, -0.0214],\n",
      "        [ 0.0263,  0.0194,  0.0153,  0.0322],\n",
      "        [-0.0195, -0.0131, -0.0114, -0.0284]]) \n",
      "\n",
      "Parameter 1\n",
      "Parameter containing:\n",
      "tensor([ 0.0234,  0.1941,  0.2288, -0.0730, -0.3150,  0.1823,  0.4203,  0.3275,\n",
      "         0.0551,  0.4032, -0.3193,  0.2398,  0.3841, -0.0240,  0.4805,  0.0498],\n",
      "       requires_grad=True)\n",
      "\n",
      "gradients:\n",
      "tensor([ 0.0026, -0.0140,  0.0118,  0.0312,  0.0390,  0.0147,  0.0180,  0.0418,\n",
      "        -0.0084, -0.0180, -0.0576,  0.0171, -0.0049, -0.0331,  0.0544, -0.0435]) \n",
      "\n",
      "Parameter 2\n",
      "Parameter containing:\n",
      "tensor([[ 1.2458e-02, -1.9962e-01, -1.2606e-01, -3.0451e-02,  1.2903e-01,\n",
      "         -4.4054e-02, -3.1995e-02, -1.2123e-01,  7.3562e-02, -2.3591e-01,\n",
      "         -1.4309e-01, -9.0306e-02, -2.3799e-01, -1.5607e-01,  7.7658e-02,\n",
      "         -2.4920e-01],\n",
      "        [-2.8100e-02,  1.4742e-01,  1.4476e-01,  1.4005e-01, -3.3573e-02,\n",
      "         -2.2166e-01, -7.4992e-02,  6.3954e-02,  7.4847e-02, -9.1994e-02,\n",
      "         -1.2672e-02, -1.5385e-01,  1.3780e-01, -1.6579e-01, -1.0853e-01,\n",
      "          2.0743e-01],\n",
      "        [-2.6631e-02, -2.1073e-01, -1.8513e-01,  8.1881e-02,  5.7391e-02,\n",
      "          1.0081e-01, -2.0346e-01,  1.3137e-01,  1.6333e-02, -2.1071e-02,\n",
      "         -1.0420e-01,  2.7862e-02,  1.2505e-01, -5.2025e-02,  1.1815e-01,\n",
      "         -1.5851e-01],\n",
      "        [ 5.9056e-02,  5.0798e-02, -1.1559e-01,  1.6931e-01, -1.5378e-01,\n",
      "         -7.9714e-03, -1.7232e-01, -1.4095e-01,  4.9698e-02, -1.2608e-01,\n",
      "          2.4769e-01,  1.5431e-01,  1.2862e-01,  2.3532e-01, -1.7282e-01,\n",
      "          2.3971e-01],\n",
      "        [ 4.3848e-02,  4.1767e-02,  2.2725e-01,  2.4598e-01,  1.4997e-01,\n",
      "          1.7973e-01,  1.6636e-01,  1.9925e-01,  3.3302e-05, -1.7815e-01,\n",
      "         -2.0863e-01,  2.4752e-01, -1.3624e-01,  2.1648e-02,  1.4880e-01,\n",
      "         -1.8690e-01],\n",
      "        [-8.4081e-02,  2.2150e-01, -1.1149e-01, -2.4394e-01,  2.0677e-01,\n",
      "          1.4103e-01,  1.2887e-01, -2.4237e-01, -1.9696e-01,  1.3670e-02,\n",
      "          1.8023e-01, -1.5147e-01, -3.4471e-02,  7.6103e-02,  1.9894e-01,\n",
      "          1.7178e-01],\n",
      "        [-1.1289e-01, -2.0186e-02,  1.9380e-01, -2.3850e-01,  8.7259e-03,\n",
      "          1.1817e-01, -2.3581e-01,  8.2082e-02,  5.2742e-03,  2.3754e-01,\n",
      "          3.9833e-02, -2.4181e-01, -6.7235e-02, -8.4994e-02, -1.9087e-01,\n",
      "         -1.0536e-02],\n",
      "        [-1.6134e-01,  1.9102e-01, -1.5745e-01,  1.5199e-02,  3.7561e-02,\n",
      "          2.8323e-02, -1.0135e-01, -9.5779e-02,  2.0126e-01, -2.0650e-01,\n",
      "          2.1467e-01, -1.2995e-01,  4.2735e-03,  2.1082e-01, -1.3216e-01,\n",
      "          1.5753e-01]], requires_grad=True)\n",
      "\n",
      "gradients:\n",
      "tensor([[-0.0048,  0.0055,  0.0091,  0.0050, -0.0053,  0.0055,  0.0125,  0.0028,\n",
      "         -0.0052,  0.0110, -0.0119, -0.0057,  0.0021, -0.0077, -0.0011,  0.0034],\n",
      "        [-0.0065,  0.0223,  0.0226, -0.0034, -0.0081,  0.0242,  0.0186,  0.0091,\n",
      "         -0.0203,  0.0259, -0.0135,  0.0071,  0.0010, -0.0005,  0.0088,  0.0175],\n",
      "        [-0.0111,  0.0467,  0.0441, -0.0134, -0.0137,  0.0525,  0.0307,  0.0180,\n",
      "         -0.0426,  0.0503, -0.0196,  0.0221,  0.0005,  0.0060,  0.0214,  0.0383],\n",
      "        [ 0.0065, -0.0308, -0.0284,  0.0100,  0.0084, -0.0346, -0.0187, -0.0118,\n",
      "          0.0281, -0.0322,  0.0112, -0.0162,  0.0001, -0.0056, -0.0149, -0.0254],\n",
      "        [-0.0114,  0.0441,  0.0423, -0.0118, -0.0135,  0.0499,  0.0301,  0.0167,\n",
      "         -0.0404,  0.0483, -0.0198,  0.0193,  0.0009,  0.0040,  0.0193,  0.0364],\n",
      "        [-0.0065,  0.0111,  0.0149,  0.0044, -0.0074,  0.0114,  0.0174,  0.0051,\n",
      "         -0.0102,  0.0175, -0.0156, -0.0043,  0.0024, -0.0081,  0.0010,  0.0076],\n",
      "        [ 0.0031, -0.0158, -0.0146,  0.0049,  0.0044, -0.0174, -0.0099, -0.0063,\n",
      "          0.0143, -0.0165,  0.0060, -0.0084,  0.0001, -0.0030, -0.0078, -0.0128],\n",
      "        [ 0.0017, -0.0136, -0.0103,  0.0079,  0.0015, -0.0159, -0.0032, -0.0045,\n",
      "          0.0121, -0.0115, -0.0003, -0.0106,  0.0008, -0.0061, -0.0077, -0.0119]]) \n",
      "\n",
      "Parameter 3\n",
      "Parameter containing:\n",
      "tensor([-0.1232,  0.1699, -0.0464,  0.1596, -0.0768,  0.1479,  0.2104, -0.2351],\n",
      "       requires_grad=True)\n",
      "\n",
      "gradients:\n",
      "tensor([ 0.0171,  0.0573,  0.1183, -0.0772,  0.1123,  0.0314, -0.0395, -0.0321]) \n",
      "\n",
      "Parameter 4\n",
      "Parameter containing:\n",
      "tensor([[-0.2972, -0.2629, -0.3472,  0.1801, -0.3501, -0.3344,  0.1059, -0.0295],\n",
      "        [ 0.2501, -0.0228, -0.3118,  0.2444, -0.2507,  0.2266,  0.1329,  0.2543]],\n",
      "       requires_grad=True)\n",
      "\n",
      "gradients:\n",
      "tensor([[ 0.0942, -0.0323,  0.0463,  0.0060, -0.0241, -0.0674, -0.0647,  0.0902],\n",
      "        [ 0.0797, -0.0098,  0.0351, -0.0187, -0.0145, -0.0688, -0.0483,  0.0576]]) \n",
      "\n",
      "Parameter 5\n",
      "Parameter containing:\n",
      "tensor([-0.2150,  0.0321], requires_grad=True)\n",
      "\n",
      "gradients:\n",
      "tensor([-0.2093, -0.1666]) \n",
      "\n"
     ]
    }
   ],
   "source": [
    "for i, param in enumerate(net.parameters()):\n",
    "  print('Parameter', i)\n",
    "  print(param)\n",
    "  if param.grad is not None:\n",
    "    print('\\ngradients:')\n",
    "    print(param.grad.data, '\\n')"
   ]
  },
  {
   "cell_type": "markdown",
   "metadata": {
    "id": "wfAOt9YeympD"
   },
   "source": [
    "(You normally never have to do this. But in some cases, if your network isn't training you might check to see if your gradents are not all zeros, which would imply that some modules aren't learning and something is wrong in the way everything is connected up in your computation graph.)"
   ]
  },
  {
   "cell_type": "markdown",
   "metadata": {
    "id": "dNopTi8eQsAZ"
   },
   "source": [
    "# Training Loop\n",
    "\n",
    "Putting this all together gives the following training loop.\n",
    "\n",
    "There are a few details that didn't come up before.\n",
    "* Before calling ```backward()```, we should zero out all the weights using ```optimizer.zero_grad()```.\n",
    "* After calling ```backward()```, we should call ```optimizer.step()``` which tells the optimizer that we completed another backward pass so that it can do any preparation for the next pass (like automatically adjusting learning rate).\n",
    "\n",
    "Run it and you should see the loss going down after every epoch."
   ]
  },
  {
   "cell_type": "code",
   "execution_count": 65,
   "metadata": {
    "editable": true,
    "id": "vHJkOoBWzjSg",
    "slideshow": {
     "slide_type": ""
    },
    "tags": []
   },
   "outputs": [],
   "source": [
    "# it's ok to modify the values\n",
    "num_epochs = 1150  # Number of epochs to run\n",
    "batch_size = 12   # Batch size"
   ]
  },
  {
   "cell_type": "code",
   "execution_count": 66,
   "metadata": {
    "editable": false,
    "id": "aNd-lv6FiMqX",
    "slideshow": {
     "slide_type": ""
    },
    "tags": [
     "raises-exception"
    ]
   },
   "outputs": [],
   "source": [
    "# Make new network and optimizer\n",
    "net = CarNet()\n",
    "optimizer = optim.Adam(net.parameters())"
   ]
  },
  {
   "cell_type": "code",
   "execution_count": 67,
   "metadata": {
    "editable": false,
    "id": "6zFugTmAu6Ok",
    "slideshow": {
     "slide_type": ""
    },
    "tags": [
     "raises-exception"
    ]
   },
   "outputs": [
    {
     "name": "stdout",
     "output_type": "stream",
     "text": [
      "epoch 0 epoch loss 0.0801895813153339\n",
      "epoch 1 epoch loss 0.05467637218669111\n",
      "epoch 2 epoch loss 0.05248237428638865\n",
      "epoch 3 epoch loss 0.04795116807321827\n",
      "epoch 4 epoch loss 0.039041571835076075\n",
      "epoch 5 epoch loss 0.028365417493737582\n",
      "epoch 6 epoch loss 0.022772798384008718\n",
      "epoch 7 epoch loss 0.02095748702207265\n",
      "epoch 8 epoch loss 0.019386862175447456\n",
      "epoch 9 epoch loss 0.01797756776862106\n",
      "epoch 10 epoch loss 0.016991075055085632\n",
      "epoch 11 epoch loss 0.01627888156007193\n",
      "epoch 12 epoch loss 0.015660486925876335\n",
      "epoch 13 epoch loss 0.015075276030835753\n",
      "epoch 14 epoch loss 0.014530474176386646\n",
      "epoch 15 epoch loss 0.014043862148526818\n",
      "epoch 16 epoch loss 0.013627180672560383\n",
      "epoch 17 epoch loss 0.013283292594670999\n",
      "epoch 18 epoch loss 0.013005744327655753\n",
      "epoch 19 epoch loss 0.012781726485140631\n",
      "epoch 20 epoch loss 0.012597528294943013\n",
      "epoch 21 epoch loss 0.012442167433557891\n",
      "epoch 22 epoch loss 0.01230796878667725\n",
      "epoch 23 epoch loss 0.012189746651539103\n",
      "epoch 24 epoch loss 0.012083967131342278\n",
      "epoch 25 epoch loss 0.011988166546379747\n",
      "epoch 26 epoch loss 0.011900600584672199\n",
      "epoch 27 epoch loss 0.011820015378295258\n",
      "epoch 28 epoch loss 0.011745481962748409\n",
      "epoch 29 epoch loss 0.011676283629688278\n",
      "epoch 30 epoch loss 0.011611806343075912\n",
      "epoch 31 epoch loss 0.011551457172425157\n",
      "epoch 32 epoch loss 0.011494614311079142\n",
      "epoch 33 epoch loss 0.011440607087433982\n",
      "epoch 34 epoch loss 0.011388748796994374\n",
      "epoch 35 epoch loss 0.011338374324647167\n",
      "epoch 36 epoch loss 0.011288883130285232\n",
      "epoch 37 epoch loss 0.011239759900019082\n",
      "epoch 38 epoch loss 0.011190575938968106\n",
      "epoch 39 epoch loss 0.01114098376207085\n",
      "epoch 40 epoch loss 0.01109069869557277\n",
      "epoch 41 epoch loss 0.011039482878514377\n",
      "epoch 42 epoch loss 0.01098712675814547\n",
      "epoch 43 epoch loss 0.01093344207691523\n",
      "epoch 44 epoch loss 0.010878246852240356\n",
      "epoch 45 epoch loss 0.01082136968345273\n",
      "epoch 46 epoch loss 0.01076264348968926\n",
      "epoch 47 epoch loss 0.01070191590048346\n",
      "epoch 48 epoch loss 0.010639056049640617\n",
      "epoch 49 epoch loss 0.010573978731207469\n",
      "epoch 50 epoch loss 0.010506654664983643\n",
      "epoch 51 epoch loss 0.010437136671381766\n",
      "epoch 52 epoch loss 0.010365570834440951\n",
      "epoch 53 epoch loss 0.010292209955832349\n",
      "epoch 54 epoch loss 0.010217415446433432\n",
      "epoch 55 epoch loss 0.010141637151678498\n",
      "epoch 56 epoch loss 0.010065400502968709\n",
      "epoch 57 epoch loss 0.009989266113589416\n",
      "epoch 58 epoch loss 0.009913797393029763\n",
      "epoch 59 epoch loss 0.009839526893311636\n",
      "epoch 60 epoch loss 0.009766916935175595\n",
      "epoch 61 epoch loss 0.00969634816653709\n",
      "epoch 62 epoch loss 0.00962809920406007\n",
      "epoch 63 epoch loss 0.009562351513376722\n",
      "epoch 64 epoch loss 0.009499195152010415\n",
      "epoch 65 epoch loss 0.009438641978811254\n",
      "epoch 66 epoch loss 0.009380641222863244\n",
      "epoch 67 epoch loss 0.009325104291267953\n",
      "epoch 68 epoch loss 0.009271908338608763\n",
      "epoch 69 epoch loss 0.0092209167469635\n",
      "epoch 70 epoch loss 0.009171984025130735\n",
      "epoch 71 epoch loss 0.009124960231154236\n",
      "epoch 72 epoch loss 0.009079698038858776\n",
      "epoch 73 epoch loss 0.009036052493000624\n",
      "epoch 74 epoch loss 0.00899388156618838\n",
      "epoch 75 epoch loss 0.008953054200763963\n",
      "epoch 76 epoch loss 0.008913446275354111\n",
      "epoch 77 epoch loss 0.008874957942577708\n",
      "epoch 78 epoch loss 0.008837501070166447\n",
      "epoch 79 epoch loss 0.008801011407064746\n",
      "epoch 80 epoch loss 0.008765435273440987\n",
      "epoch 81 epoch loss 0.008730733447883162\n",
      "epoch 82 epoch loss 0.008696871985402406\n",
      "epoch 83 epoch loss 0.008663811565081657\n",
      "epoch 84 epoch loss 0.008631511289156226\n",
      "epoch 85 epoch loss 0.008599921860069703\n",
      "epoch 86 epoch loss 0.008568993206585938\n",
      "epoch 87 epoch loss 0.008538666913788408\n",
      "epoch 88 epoch loss 0.0085088871223075\n",
      "epoch 89 epoch loss 0.008479596675434548\n",
      "epoch 90 epoch loss 0.008450746858039131\n",
      "epoch 91 epoch loss 0.008422287434464184\n",
      "epoch 92 epoch loss 0.008394187573935515\n",
      "epoch 93 epoch loss 0.008366414016609652\n",
      "epoch 94 epoch loss 0.008338948951641128\n",
      "epoch 95 epoch loss 0.008311780620942682\n",
      "epoch 96 epoch loss 0.008284899105104345\n",
      "epoch 97 epoch loss 0.008258303773275265\n",
      "epoch 98 epoch loss 0.008231994398354718\n",
      "epoch 99 epoch loss 0.00820597266976242\n",
      "epoch 100 epoch loss 0.008180234140796433\n",
      "epoch 101 epoch loss 0.008154779524902398\n",
      "epoch 102 epoch loss 0.008129600773351368\n",
      "epoch 103 epoch loss 0.008104687434409287\n",
      "epoch 104 epoch loss 0.00808002633092386\n",
      "epoch 105 epoch loss 0.008055598130544685\n",
      "epoch 106 epoch loss 0.008031382741985702\n",
      "epoch 107 epoch loss 0.008007357915665503\n",
      "epoch 108 epoch loss 0.007983501158061573\n",
      "epoch 109 epoch loss 0.007959789544649171\n",
      "epoch 110 epoch loss 0.007936198618777302\n",
      "epoch 111 epoch loss 0.007912706228413051\n",
      "epoch 112 epoch loss 0.007889292275771781\n",
      "epoch 113 epoch loss 0.007865935348749657\n",
      "epoch 114 epoch loss 0.007842615584698634\n",
      "epoch 115 epoch loss 0.007819316341817862\n",
      "epoch 116 epoch loss 0.007796022162165063\n",
      "epoch 117 epoch loss 0.007772718429048898\n",
      "epoch 118 epoch loss 0.007749391734862246\n",
      "epoch 119 epoch loss 0.007726032297643481\n",
      "epoch 120 epoch loss 0.007702629688997515\n",
      "epoch 121 epoch loss 0.007679171955320841\n",
      "epoch 122 epoch loss 0.0076556523074899074\n",
      "epoch 123 epoch loss 0.007632065889532348\n",
      "epoch 124 epoch loss 0.007608402429647757\n",
      "epoch 125 epoch loss 0.00758465760376859\n",
      "epoch 126 epoch loss 0.00756082645488013\n",
      "epoch 127 epoch loss 0.007536902630870484\n",
      "epoch 128 epoch loss 0.0075128835926138735\n",
      "epoch 129 epoch loss 0.007488766640616471\n",
      "epoch 130 epoch loss 0.007464546574970611\n",
      "epoch 131 epoch loss 0.0074402235647789815\n",
      "epoch 132 epoch loss 0.007415795556561952\n",
      "epoch 133 epoch loss 0.007391261755536889\n",
      "epoch 134 epoch loss 0.007366622015241297\n",
      "epoch 135 epoch loss 0.007341870459286879\n",
      "epoch 136 epoch loss 0.007317013978188922\n",
      "epoch 137 epoch loss 0.007292053746582218\n",
      "epoch 138 epoch loss 0.007266988084759979\n",
      "epoch 139 epoch loss 0.007241824360777895\n",
      "epoch 140 epoch loss 0.00721656210457242\n",
      "epoch 141 epoch loss 0.007191207226282511\n",
      "epoch 142 epoch loss 0.007165766335866724\n",
      "epoch 143 epoch loss 0.00714024117871636\n",
      "epoch 144 epoch loss 0.007114640821111338\n",
      "epoch 145 epoch loss 0.007088969433529242\n",
      "epoch 146 epoch loss 0.007063235344556982\n",
      "epoch 147 epoch loss 0.007037446272404616\n",
      "epoch 148 epoch loss 0.007011607840225673\n",
      "epoch 149 epoch loss 0.0069857293045755345\n",
      "epoch 150 epoch loss 0.006959820225625774\n",
      "epoch 151 epoch loss 0.006933887938939209\n",
      "epoch 152 epoch loss 0.006907940387730302\n",
      "epoch 153 epoch loss 0.006881989214230007\n",
      "epoch 154 epoch loss 0.006856040355410105\n",
      "epoch 155 epoch loss 0.0068301037714189414\n",
      "epoch 156 epoch loss 0.006804189036613149\n",
      "epoch 157 epoch loss 0.006778303705969779\n",
      "epoch 158 epoch loss 0.0067524545459721865\n",
      "epoch 159 epoch loss 0.0067266524911356144\n",
      "epoch 160 epoch loss 0.0067009036197933055\n",
      "epoch 161 epoch loss 0.006675216895575654\n",
      "epoch 162 epoch loss 0.006649600467485312\n",
      "epoch 163 epoch loss 0.006624059935197086\n",
      "epoch 164 epoch loss 0.006598601782541289\n",
      "epoch 165 epoch loss 0.006573229852690958\n",
      "epoch 166 epoch loss 0.006547953700157618\n",
      "epoch 167 epoch loss 0.006522774815840014\n",
      "epoch 168 epoch loss 0.006497697429541423\n",
      "epoch 169 epoch loss 0.006472727007471307\n",
      "epoch 170 epoch loss 0.006447859893937004\n",
      "epoch 171 epoch loss 0.006423100407555641\n",
      "epoch 172 epoch loss 0.00639844975671267\n",
      "epoch 173 epoch loss 0.0063739033596336364\n",
      "epoch 174 epoch loss 0.006349460572959678\n",
      "epoch 175 epoch loss 0.0063251197898658695\n",
      "epoch 176 epoch loss 0.006300874769554606\n",
      "epoch 177 epoch loss 0.006276721906574892\n",
      "epoch 178 epoch loss 0.006252657094037346\n",
      "epoch 179 epoch loss 0.006228676689456084\n",
      "epoch 180 epoch loss 0.006204775614369915\n",
      "epoch 181 epoch loss 0.006180950330689411\n",
      "epoch 182 epoch loss 0.006157198192726146\n",
      "epoch 183 epoch loss 0.00613352148147973\n",
      "epoch 184 epoch loss 0.006109925625146459\n",
      "epoch 185 epoch loss 0.0060864115855153444\n",
      "epoch 186 epoch loss 0.006062992701504272\n",
      "epoch 187 epoch loss 0.006039677849816469\n",
      "epoch 188 epoch loss 0.006016479303324114\n",
      "epoch 189 epoch loss 0.005993414087663209\n",
      "epoch 190 epoch loss 0.005970491044109269\n",
      "epoch 191 epoch loss 0.005947723675022821\n",
      "epoch 192 epoch loss 0.005925121247091433\n",
      "epoch 193 epoch loss 0.005902686762656471\n",
      "epoch 194 epoch loss 0.005880420820425306\n",
      "epoch 195 epoch loss 0.005858318869928446\n",
      "epoch 196 epoch loss 0.00583637517578967\n",
      "epoch 197 epoch loss 0.005814576898642792\n",
      "epoch 198 epoch loss 0.005792911165860109\n",
      "epoch 199 epoch loss 0.005771361882778808\n",
      "epoch 200 epoch loss 0.005749912866830629\n",
      "epoch 201 epoch loss 0.00572854937435746\n",
      "epoch 202 epoch loss 0.00570725464840092\n",
      "epoch 203 epoch loss 0.005686015248371876\n",
      "epoch 204 epoch loss 0.005664815303424009\n",
      "epoch 205 epoch loss 0.005643643477108745\n",
      "epoch 206 epoch loss 0.005622486338899264\n",
      "epoch 207 epoch loss 0.0056013349910593166\n",
      "epoch 208 epoch loss 0.00558017810349915\n",
      "epoch 209 epoch loss 0.00555900739081593\n",
      "epoch 210 epoch loss 0.005537818871340116\n",
      "epoch 211 epoch loss 0.005516603519809673\n",
      "epoch 212 epoch loss 0.005495362853327272\n",
      "epoch 213 epoch loss 0.005474093195446739\n",
      "epoch 214 epoch loss 0.005452795921140636\n",
      "epoch 215 epoch loss 0.005431471317254638\n",
      "epoch 216 epoch loss 0.00541012056366432\n",
      "epoch 217 epoch loss 0.005388751155741531\n",
      "epoch 218 epoch loss 0.005367363555304313\n",
      "epoch 219 epoch loss 0.005345961921580028\n",
      "epoch 220 epoch loss 0.005324544740959863\n",
      "epoch 221 epoch loss 0.005303114392061797\n",
      "epoch 222 epoch loss 0.005281666686100436\n",
      "epoch 223 epoch loss 0.005260201978820319\n",
      "epoch 224 epoch loss 0.005238713749705636\n",
      "epoch 225 epoch loss 0.005217196619124705\n",
      "epoch 226 epoch loss 0.005195652263290456\n",
      "epoch 227 epoch loss 0.005174075966194442\n",
      "epoch 228 epoch loss 0.005152475656376926\n",
      "epoch 229 epoch loss 0.005130859144495427\n",
      "epoch 230 epoch loss 0.00510924414433606\n",
      "epoch 231 epoch loss 0.005087652624434359\n",
      "epoch 232 epoch loss 0.005066114103970524\n",
      "epoch 233 epoch loss 0.005044661180003315\n",
      "epoch 234 epoch loss 0.005023331044991987\n",
      "epoch 235 epoch loss 0.005002161854722102\n",
      "epoch 236 epoch loss 0.004981188891072045\n",
      "epoch 237 epoch loss 0.0049604466251357004\n",
      "epoch 238 epoch loss 0.004939966314007714\n",
      "epoch 239 epoch loss 0.004919767834730826\n",
      "epoch 240 epoch loss 0.004899865986725108\n",
      "epoch 241 epoch loss 0.004880275325399644\n",
      "epoch 242 epoch loss 0.004861000330717888\n",
      "epoch 243 epoch loss 0.004842038848926509\n",
      "epoch 244 epoch loss 0.004823391386984187\n",
      "epoch 245 epoch loss 0.004805050990228415\n",
      "epoch 246 epoch loss 0.0047870085092953495\n",
      "epoch 247 epoch loss 0.0047692569440324645\n",
      "epoch 248 epoch loss 0.004751787498933771\n",
      "epoch 249 epoch loss 0.004734589065769452\n",
      "epoch 250 epoch loss 0.004717648442301313\n",
      "epoch 251 epoch loss 0.004700954101036671\n",
      "epoch 252 epoch loss 0.004684493088430087\n",
      "epoch 253 epoch loss 0.00466825244443755\n",
      "epoch 254 epoch loss 0.004652216886089151\n",
      "epoch 255 epoch loss 0.004636377156969263\n",
      "epoch 256 epoch loss 0.004620714928792165\n",
      "epoch 257 epoch loss 0.004605213923607299\n",
      "epoch 258 epoch loss 0.004589862253775178\n",
      "epoch 259 epoch loss 0.0045746415610327905\n",
      "epoch 260 epoch loss 0.0045595420687291706\n",
      "epoch 261 epoch loss 0.004544546404917191\n",
      "epoch 262 epoch loss 0.004529644301989075\n",
      "epoch 263 epoch loss 0.0045148250876086244\n",
      "epoch 264 epoch loss 0.0045000841718257625\n",
      "epoch 265 epoch loss 0.004485414869773637\n",
      "epoch 266 epoch loss 0.004470814961175873\n",
      "epoch 267 epoch loss 0.004456287654371662\n",
      "epoch 268 epoch loss 0.004441836670109284\n",
      "epoch 269 epoch loss 0.004427469856220902\n",
      "epoch 270 epoch loss 0.0044132002119516055\n",
      "epoch 271 epoch loss 0.0043990413257505604\n",
      "epoch 272 epoch loss 0.004385007524738225\n",
      "epoch 273 epoch loss 0.004371117550453746\n",
      "epoch 274 epoch loss 0.004357392667560187\n",
      "epoch 275 epoch loss 0.0043438527039417136\n",
      "epoch 276 epoch loss 0.004330520346855223\n",
      "epoch 277 epoch loss 0.004317412751069682\n",
      "epoch 278 epoch loss 0.004304548384345585\n",
      "epoch 279 epoch loss 0.004291941581944078\n",
      "epoch 280 epoch loss 0.004279601626973857\n",
      "epoch 281 epoch loss 0.0042675329913625035\n",
      "epoch 282 epoch loss 0.004255737476193403\n",
      "epoch 283 epoch loss 0.004244213307111179\n",
      "epoch 284 epoch loss 0.004232952111820765\n",
      "epoch 285 epoch loss 0.0042219447594058854\n",
      "epoch 286 epoch loss 0.004211179245078024\n",
      "epoch 287 epoch loss 0.0042006439958195375\n",
      "epoch 288 epoch loss 0.004190324167384166\n",
      "epoch 289 epoch loss 0.00418020879171564\n",
      "epoch 290 epoch loss 0.004170279816368266\n",
      "epoch 291 epoch loss 0.004160531873659355\n",
      "epoch 292 epoch loss 0.004150948658456136\n",
      "epoch 293 epoch loss 0.0041415209702796345\n",
      "epoch 294 epoch loss 0.004132238201569768\n",
      "epoch 295 epoch loss 0.004123089624647642\n",
      "epoch 296 epoch loss 0.004114069736862861\n",
      "epoch 297 epoch loss 0.0041051674460573515\n",
      "epoch 298 epoch loss 0.004096375255531599\n",
      "epoch 299 epoch loss 0.004087688128121806\n",
      "epoch 300 epoch loss 0.004079100217941046\n",
      "epoch 301 epoch loss 0.00407060511480952\n",
      "epoch 302 epoch loss 0.004062194599078785\n",
      "epoch 303 epoch loss 0.004053867059416839\n",
      "epoch 304 epoch loss 0.004045616474090925\n",
      "epoch 305 epoch loss 0.004037441426272072\n",
      "epoch 306 epoch loss 0.004029333822195511\n",
      "epoch 307 epoch loss 0.004021293570322185\n",
      "epoch 308 epoch loss 0.0040133170078319605\n",
      "epoch 309 epoch loss 0.00400539758335827\n",
      "epoch 310 epoch loss 0.003997534690402439\n",
      "epoch 311 epoch loss 0.003989727090427032\n",
      "epoch 312 epoch loss 0.003981969633626294\n",
      "epoch 313 epoch loss 0.003974262151002351\n",
      "epoch 314 epoch loss 0.003966603267477827\n",
      "epoch 315 epoch loss 0.003958988540054277\n",
      "epoch 316 epoch loss 0.003951418234684112\n",
      "epoch 317 epoch loss 0.003943891237944919\n",
      "epoch 318 epoch loss 0.003936403784751367\n",
      "epoch 319 epoch loss 0.003928955397702807\n",
      "epoch 320 epoch loss 0.0039215409660897475\n",
      "epoch 321 epoch loss 0.003914167671011579\n",
      "epoch 322 epoch loss 0.003906828199825188\n",
      "epoch 323 epoch loss 0.003899523964538021\n",
      "epoch 324 epoch loss 0.003892254766314665\n",
      "epoch 325 epoch loss 0.00388501722659521\n",
      "epoch 326 epoch loss 0.003877810045909349\n",
      "epoch 327 epoch loss 0.0038706366282872102\n",
      "epoch 328 epoch loss 0.0038634927858867416\n",
      "epoch 329 epoch loss 0.0038563788601975453\n",
      "epoch 330 epoch loss 0.0038492958308971796\n",
      "epoch 331 epoch loss 0.0038422401462701716\n",
      "epoch 332 epoch loss 0.0038352176946538107\n",
      "epoch 333 epoch loss 0.003828219051228552\n",
      "epoch 334 epoch loss 0.0038212480776499405\n",
      "epoch 335 epoch loss 0.00381430627264296\n",
      "epoch 336 epoch loss 0.0038073908675004733\n",
      "epoch 337 epoch loss 0.0038005015426743017\n",
      "epoch 338 epoch loss 0.0037936411949913247\n",
      "epoch 339 epoch loss 0.0037868044969132718\n",
      "epoch 340 epoch loss 0.0037799935660669903\n",
      "epoch 341 epoch loss 0.0037732101314925308\n",
      "epoch 342 epoch loss 0.0037664542863011866\n",
      "epoch 343 epoch loss 0.0037597230233300683\n",
      "epoch 344 epoch loss 0.0037530167450016477\n",
      "epoch 345 epoch loss 0.00374633484076438\n",
      "epoch 346 epoch loss 0.003739679989917595\n",
      "epoch 347 epoch loss 0.0037330491563692656\n",
      "epoch 348 epoch loss 0.0037264427264351824\n",
      "epoch 349 epoch loss 0.0037198642972858997\n",
      "epoch 350 epoch loss 0.003713305911521896\n",
      "epoch 351 epoch loss 0.003706772934100652\n",
      "epoch 352 epoch loss 0.003700265369319613\n",
      "epoch 353 epoch loss 0.003693785605824129\n",
      "epoch 354 epoch loss 0.003687328144702233\n",
      "epoch 355 epoch loss 0.0036808938686420083\n",
      "epoch 356 epoch loss 0.0036744849100143794\n",
      "epoch 357 epoch loss 0.0036680999950987666\n",
      "epoch 358 epoch loss 0.003661740560674065\n",
      "epoch 359 epoch loss 0.0036554074057504773\n",
      "epoch 360 epoch loss 0.0036490951700522906\n",
      "epoch 361 epoch loss 0.003642808748613193\n",
      "epoch 362 epoch loss 0.0036365498599217868\n",
      "epoch 363 epoch loss 0.003630313004122763\n",
      "epoch 364 epoch loss 0.0036241003809486137\n",
      "epoch 365 epoch loss 0.0036179129045321367\n",
      "epoch 366 epoch loss 0.003611750748797542\n",
      "epoch 367 epoch loss 0.0036056102497018495\n",
      "epoch 368 epoch loss 0.003599496785024995\n",
      "epoch 369 epoch loss 0.0035934060101904925\n",
      "epoch 370 epoch loss 0.003587339412358658\n",
      "epoch 371 epoch loss 0.003581297410058645\n",
      "epoch 372 epoch loss 0.0035752781694346875\n",
      "epoch 373 epoch loss 0.003569285259252282\n",
      "epoch 374 epoch loss 0.003563315604323139\n",
      "epoch 375 epoch loss 0.003557371647098009\n",
      "epoch 376 epoch loss 0.0035514514067694924\n",
      "epoch 377 epoch loss 0.003545555247956527\n",
      "epoch 378 epoch loss 0.0035396854693376394\n",
      "epoch 379 epoch loss 0.0035338409810390164\n",
      "epoch 380 epoch loss 0.003528016369695784\n",
      "epoch 381 epoch loss 0.003522219487070693\n",
      "epoch 382 epoch loss 0.0035164468637286068\n",
      "epoch 383 epoch loss 0.003510698028942145\n",
      "epoch 384 epoch loss 0.0035049754648522773\n",
      "epoch 385 epoch loss 0.003499273455980299\n",
      "epoch 386 epoch loss 0.003493600103655178\n",
      "epoch 387 epoch loss 0.003487949350436938\n",
      "epoch 388 epoch loss 0.0034823218559308787\n",
      "epoch 389 epoch loss 0.003476721548560156\n",
      "epoch 390 epoch loss 0.003471142993158228\n",
      "epoch 391 epoch loss 0.003465591437551014\n",
      "epoch 392 epoch loss 0.0034600639660273356\n",
      "epoch 393 epoch loss 0.0034545588064329455\n",
      "epoch 394 epoch loss 0.003449084805231737\n",
      "epoch 395 epoch loss 0.003443629719983028\n",
      "epoch 396 epoch loss 0.003438202177107587\n",
      "epoch 397 epoch loss 0.0034328008434543218\n",
      "epoch 398 epoch loss 0.0034274174683493375\n",
      "epoch 399 epoch loss 0.0034220628004172026\n",
      "epoch 400 epoch loss 0.0034167349592639728\n",
      "epoch 401 epoch loss 0.0034114286584391385\n",
      "epoch 402 epoch loss 0.003406149740545398\n",
      "epoch 403 epoch loss 0.0034008941400257005\n",
      "epoch 404 epoch loss 0.003395663059989772\n",
      "epoch 405 epoch loss 0.0033904568005948847\n",
      "epoch 406 epoch loss 0.0033852740255978834\n",
      "epoch 407 epoch loss 0.003380115277175529\n",
      "epoch 408 epoch loss 0.0033749816925783384\n",
      "epoch 409 epoch loss 0.0033698733853916095\n",
      "epoch 410 epoch loss 0.0033647884266393142\n",
      "epoch 411 epoch loss 0.0033597266062008807\n",
      "epoch 412 epoch loss 0.0033546921129490497\n",
      "epoch 413 epoch loss 0.0033496808381077562\n",
      "epoch 414 epoch loss 0.003344692521192478\n",
      "epoch 415 epoch loss 0.003339729060171259\n",
      "epoch 416 epoch loss 0.0033347890836352735\n",
      "epoch 417 epoch loss 0.003329874094467194\n",
      "epoch 418 epoch loss 0.003324981535023798\n",
      "epoch 419 epoch loss 0.003320112976946869\n",
      "epoch 420 epoch loss 0.0033152685213835723\n",
      "epoch 421 epoch loss 0.0033104467602221113\n",
      "epoch 422 epoch loss 0.0033056487373920775\n",
      "epoch 423 epoch loss 0.003300875171108226\n",
      "epoch 424 epoch loss 0.0032961249822752925\n",
      "epoch 425 epoch loss 0.0032913967059189533\n",
      "epoch 426 epoch loss 0.003286689810745814\n",
      "epoch 427 epoch loss 0.0032820077747160218\n",
      "epoch 428 epoch loss 0.0032773474017887667\n",
      "epoch 429 epoch loss 0.003272710728201493\n",
      "epoch 430 epoch loss 0.0032680960320590883\n",
      "epoch 431 epoch loss 0.003263501800241878\n",
      "epoch 432 epoch loss 0.003258934434736567\n",
      "epoch 433 epoch loss 0.003254383954990684\n",
      "epoch 434 epoch loss 0.003249858252858991\n",
      "epoch 435 epoch loss 0.0032453514185169763\n",
      "epoch 436 epoch loss 0.003240866042362774\n",
      "epoch 437 epoch loss 0.0032364054481376753\n",
      "epoch 438 epoch loss 0.003231964684731583\n",
      "epoch 439 epoch loss 0.003227542612919951\n",
      "epoch 440 epoch loss 0.0032231431414904564\n",
      "epoch 441 epoch loss 0.0032187630423286813\n",
      "epoch 442 epoch loss 0.003214407347584739\n",
      "epoch 443 epoch loss 0.003210067427151843\n",
      "epoch 444 epoch loss 0.0032057493532489873\n",
      "epoch 445 epoch loss 0.0032014478610875754\n",
      "epoch 446 epoch loss 0.0031971681372462107\n",
      "epoch 447 epoch loss 0.003192908890587434\n",
      "epoch 448 epoch loss 0.0031886680149966584\n",
      "epoch 449 epoch loss 0.003184445387332886\n",
      "epoch 450 epoch loss 0.003180242704894474\n",
      "epoch 451 epoch loss 0.003176057371169039\n",
      "epoch 452 epoch loss 0.003171891106724027\n",
      "epoch 453 epoch loss 0.0031677413988297487\n",
      "epoch 454 epoch loss 0.003163605735420349\n",
      "epoch 455 epoch loss 0.003159492578058943\n",
      "epoch 456 epoch loss 0.0031553964949680305\n",
      "epoch 457 epoch loss 0.003151319408956982\n",
      "epoch 458 epoch loss 0.0031472583932915\n",
      "epoch 459 epoch loss 0.0031432100293546017\n",
      "epoch 460 epoch loss 0.0031391815983446867\n",
      "epoch 461 epoch loss 0.003135168398840164\n",
      "epoch 462 epoch loss 0.0031311717025351757\n",
      "epoch 463 epoch loss 0.0031271909003281273\n",
      "epoch 464 epoch loss 0.003123225168734347\n",
      "epoch 465 epoch loss 0.003119271701260633\n",
      "epoch 466 epoch loss 0.0031153384511662862\n",
      "epoch 467 epoch loss 0.0031114170571444233\n",
      "epoch 468 epoch loss 0.0031075090942608075\n",
      "epoch 469 epoch loss 0.003103617652377929\n",
      "epoch 470 epoch loss 0.003099741795264343\n",
      "epoch 471 epoch loss 0.0030958765992367336\n",
      "epoch 472 epoch loss 0.0030920298305981025\n",
      "epoch 473 epoch loss 0.003088193856510792\n",
      "epoch 474 epoch loss 0.0030843713969076923\n",
      "epoch 475 epoch loss 0.003080560160517253\n",
      "epoch 476 epoch loss 0.003076764027687155\n",
      "epoch 477 epoch loss 0.0030729785976771574\n",
      "epoch 478 epoch loss 0.0030692104490185695\n",
      "epoch 479 epoch loss 0.0030654507806501716\n",
      "epoch 480 epoch loss 0.0030617030963167773\n",
      "epoch 481 epoch loss 0.0030579706713522864\n",
      "epoch 482 epoch loss 0.00305424718507205\n",
      "epoch 483 epoch loss 0.0030505381662430443\n",
      "epoch 484 epoch loss 0.0030468383727518065\n",
      "epoch 485 epoch loss 0.0030431506994162494\n",
      "epoch 486 epoch loss 0.003039472977302232\n",
      "epoch 487 epoch loss 0.0030358094283169145\n",
      "epoch 488 epoch loss 0.0030321544147897924\n",
      "epoch 489 epoch loss 0.0030285135615514456\n",
      "epoch 490 epoch loss 0.0030248820900359154\n",
      "epoch 491 epoch loss 0.003021262089168012\n",
      "epoch 492 epoch loss 0.003017650124818027\n",
      "epoch 493 epoch loss 0.0030140512370671305\n",
      "epoch 494 epoch loss 0.0030104618785322316\n",
      "epoch 495 epoch loss 0.0030068818651744034\n",
      "epoch 496 epoch loss 0.0030033134555976304\n",
      "epoch 497 epoch loss 0.002999756343984593\n",
      "epoch 498 epoch loss 0.002996207422479436\n",
      "epoch 499 epoch loss 0.002992668999036878\n",
      "epoch 500 epoch loss 0.0029891407938513652\n",
      "epoch 501 epoch loss 0.0029856262313047457\n",
      "epoch 502 epoch loss 0.002982120381669328\n",
      "epoch 503 epoch loss 0.002978622601988042\n",
      "epoch 504 epoch loss 0.002975138074873962\n",
      "epoch 505 epoch loss 0.0029716628273223143\n",
      "epoch 506 epoch loss 0.002968198616865554\n",
      "epoch 507 epoch loss 0.0029647431475328927\n",
      "epoch 508 epoch loss 0.0029612993598593642\n",
      "epoch 509 epoch loss 0.00295786400148318\n",
      "epoch 510 epoch loss 0.00295444166476518\n",
      "epoch 511 epoch loss 0.0029510289603669033\n",
      "epoch 512 epoch loss 0.0029476261657530203\n",
      "epoch 513 epoch loss 0.002944234711291198\n",
      "epoch 514 epoch loss 0.0029408532764082316\n",
      "epoch 515 epoch loss 0.002937484134836508\n",
      "epoch 516 epoch loss 0.002934124776239631\n",
      "epoch 517 epoch loss 0.0029307771616672376\n",
      "epoch 518 epoch loss 0.0029274402534262703\n",
      "epoch 519 epoch loss 0.002924114344703757\n",
      "epoch 520 epoch loss 0.0029207988837148292\n",
      "epoch 521 epoch loss 0.002917497538101143\n",
      "epoch 522 epoch loss 0.002914203850917618\n",
      "epoch 523 epoch loss 0.002910925467544859\n",
      "epoch 524 epoch loss 0.002907655846923176\n",
      "epoch 525 epoch loss 0.002904398967996899\n",
      "epoch 526 epoch loss 0.0029011537789927276\n",
      "epoch 527 epoch loss 0.0028979220833349304\n",
      "epoch 528 epoch loss 0.0028947013364473105\n",
      "epoch 529 epoch loss 0.0028914915766400126\n",
      "epoch 530 epoch loss 0.002888297546946467\n",
      "epoch 531 epoch loss 0.002885108193186825\n",
      "epoch 532 epoch loss 0.002881938662489827\n",
      "epoch 533 epoch loss 0.0028787786009319524\n",
      "epoch 534 epoch loss 0.0028756315244341073\n",
      "epoch 535 epoch loss 0.0028724952508204326\n",
      "epoch 536 epoch loss 0.0028693770238177097\n",
      "epoch 537 epoch loss 0.0028662681390397475\n",
      "epoch 538 epoch loss 0.0028631737189878078\n",
      "epoch 539 epoch loss 0.002860087981136065\n",
      "epoch 540 epoch loss 0.0028570190597081552\n",
      "epoch 541 epoch loss 0.0028539650286628897\n",
      "epoch 542 epoch loss 0.0028509186585458936\n",
      "epoch 543 epoch loss 0.0028478866589081216\n",
      "epoch 544 epoch loss 0.002844870160990657\n",
      "epoch 545 epoch loss 0.0028418631885158254\n",
      "epoch 546 epoch loss 0.002838876278275632\n",
      "epoch 547 epoch loss 0.0028358986014964246\n",
      "epoch 548 epoch loss 0.0028329332788914526\n",
      "epoch 549 epoch loss 0.0028299844516248367\n",
      "epoch 550 epoch loss 0.0028270462829810272\n",
      "epoch 551 epoch loss 0.0028241239892014738\n",
      "epoch 552 epoch loss 0.0028212146296637975\n",
      "epoch 553 epoch loss 0.0028183189391611046\n",
      "epoch 554 epoch loss 0.002815435226369534\n",
      "epoch 555 epoch loss 0.0028125660156533188\n",
      "epoch 556 epoch loss 0.0028097115519667873\n",
      "epoch 557 epoch loss 0.002806867674737442\n",
      "epoch 558 epoch loss 0.002804041275895583\n",
      "epoch 559 epoch loss 0.002801227969462516\n",
      "epoch 560 epoch loss 0.0027984270305327495\n",
      "epoch 561 epoch loss 0.0027956377151767396\n",
      "epoch 562 epoch loss 0.0027928643909081456\n",
      "epoch 563 epoch loss 0.0027901049537436325\n",
      "epoch 564 epoch loss 0.002787358503787871\n",
      "epoch 565 epoch loss 0.0027846252821519465\n",
      "epoch 566 epoch loss 0.002781909364647381\n",
      "epoch 567 epoch loss 0.0027792015800562533\n",
      "epoch 568 epoch loss 0.00277650812704025\n",
      "epoch 569 epoch loss 0.002773830659521491\n",
      "epoch 570 epoch loss 0.0027711666879520302\n",
      "epoch 571 epoch loss 0.002768513120757388\n",
      "epoch 572 epoch loss 0.002765872706904407\n",
      "epoch 573 epoch loss 0.0027632475372919275\n",
      "epoch 574 epoch loss 0.002760635182431408\n",
      "epoch 575 epoch loss 0.002758037577570351\n",
      "epoch 576 epoch loss 0.002755452112517921\n",
      "epoch 577 epoch loss 0.0027528790360542197\n",
      "epoch 578 epoch loss 0.002750323016950743\n",
      "epoch 579 epoch loss 0.0027477745239301177\n",
      "epoch 580 epoch loss 0.002745240953103706\n",
      "epoch 581 epoch loss 0.002742719480194574\n",
      "epoch 582 epoch loss 0.0027402111100011126\n",
      "epoch 583 epoch loss 0.002737715317955602\n",
      "epoch 584 epoch loss 0.0027352338881612816\n",
      "epoch 585 epoch loss 0.0027327641753140514\n",
      "epoch 586 epoch loss 0.002730306310678127\n",
      "epoch 587 epoch loss 0.002727860034013554\n",
      "epoch 588 epoch loss 0.002725425835106704\n",
      "epoch 589 epoch loss 0.0027230055746985744\n",
      "epoch 590 epoch loss 0.002720596712929675\n",
      "epoch 591 epoch loss 0.002718202200799142\n",
      "epoch 592 epoch loss 0.0027158182263340787\n",
      "epoch 593 epoch loss 0.0027134429524643716\n",
      "epoch 594 epoch loss 0.0027110842881122735\n",
      "epoch 595 epoch loss 0.002708734370561793\n",
      "epoch 596 epoch loss 0.0027063973423396546\n",
      "epoch 597 epoch loss 0.0027040699077427715\n",
      "epoch 598 epoch loss 0.002701755127739435\n",
      "epoch 599 epoch loss 0.0026994497177195553\n",
      "epoch 600 epoch loss 0.0026971606588465443\n",
      "epoch 601 epoch loss 0.0026948808184808115\n",
      "epoch 602 epoch loss 0.0026926102616080996\n",
      "epoch 603 epoch loss 0.0026903511966431364\n",
      "epoch 604 epoch loss 0.00268810202179215\n",
      "epoch 605 epoch loss 0.002685864873129555\n",
      "epoch 606 epoch loss 0.002683637775787508\n",
      "epoch 607 epoch loss 0.0026814224288637034\n",
      "epoch 608 epoch loss 0.0026792162143585347\n",
      "epoch 609 epoch loss 0.0026770211969669136\n",
      "epoch 610 epoch loss 0.0026748386080638702\n",
      "epoch 611 epoch loss 0.0026726612326945375\n",
      "epoch 612 epoch loss 0.0026704966835894243\n",
      "epoch 613 epoch loss 0.002668340103413562\n",
      "epoch 614 epoch loss 0.002666192417025889\n",
      "epoch 615 epoch loss 0.00266405767350992\n",
      "epoch 616 epoch loss 0.002661932571642274\n",
      "epoch 617 epoch loss 0.002659815263120085\n",
      "epoch 618 epoch loss 0.002657706791960292\n",
      "epoch 619 epoch loss 0.002655607641275999\n",
      "epoch 620 epoch loss 0.002653517948829995\n",
      "epoch 621 epoch loss 0.002651437907081404\n",
      "epoch 622 epoch loss 0.0026493681089203224\n",
      "epoch 623 epoch loss 0.002647305852267472\n",
      "epoch 624 epoch loss 0.0026452505991387204\n",
      "epoch 625 epoch loss 0.0026432047036601095\n",
      "epoch 626 epoch loss 0.0026411681797546597\n",
      "epoch 627 epoch loss 0.0026391397831375383\n",
      "epoch 628 epoch loss 0.0026371189585824286\n",
      "epoch 629 epoch loss 0.002635105248481384\n",
      "epoch 630 epoch loss 0.002633100201084814\n",
      "epoch 631 epoch loss 0.002631102954964757\n",
      "epoch 632 epoch loss 0.002629115097974494\n",
      "epoch 633 epoch loss 0.0026271359599922143\n",
      "epoch 634 epoch loss 0.0026251590774869177\n",
      "epoch 635 epoch loss 0.00262319377348462\n",
      "epoch 636 epoch loss 0.0026212332238358506\n",
      "epoch 637 epoch loss 0.0026192821758889537\n",
      "epoch 638 epoch loss 0.0026173354549269725\n",
      "epoch 639 epoch loss 0.0026153984845517816\n",
      "epoch 640 epoch loss 0.0026134681331667665\n",
      "epoch 641 epoch loss 0.0026115422109619906\n",
      "epoch 642 epoch loss 0.002609626078527613\n",
      "epoch 643 epoch loss 0.0026077145162680814\n",
      "epoch 644 epoch loss 0.0026058090954932628\n",
      "epoch 645 epoch loss 0.002603910851695084\n",
      "epoch 646 epoch loss 0.00260201811320263\n",
      "epoch 647 epoch loss 0.002600131390922639\n",
      "epoch 648 epoch loss 0.0025982503885410824\n",
      "epoch 649 epoch loss 0.0025963746408508735\n",
      "epoch 650 epoch loss 0.002594506521264146\n",
      "epoch 651 epoch loss 0.0025926423413333254\n",
      "epoch 652 epoch loss 0.002590784981464162\n",
      "epoch 653 epoch loss 0.002588933900458177\n",
      "epoch 654 epoch loss 0.002587085300370311\n",
      "epoch 655 epoch loss 0.0025852420796346172\n",
      "epoch 656 epoch loss 0.0025834046584747718\n",
      "epoch 657 epoch loss 0.0025815723706646134\n",
      "epoch 658 epoch loss 0.0025797435654963713\n",
      "epoch 659 epoch loss 0.0025779196635199743\n",
      "epoch 660 epoch loss 0.0025761016486754856\n",
      "epoch 661 epoch loss 0.002574288693023566\n",
      "epoch 662 epoch loss 0.0025724805638034486\n",
      "epoch 663 epoch loss 0.0025706749275028495\n",
      "epoch 664 epoch loss 0.002568873319776823\n",
      "epoch 665 epoch loss 0.0025670751336200883\n",
      "epoch 666 epoch loss 0.002565282796215241\n",
      "epoch 667 epoch loss 0.0025634927470073506\n",
      "epoch 668 epoch loss 0.0025617064780481314\n",
      "epoch 669 epoch loss 0.0025599230455594095\n",
      "epoch 670 epoch loss 0.0025581441921548693\n",
      "epoch 671 epoch loss 0.002556368548155143\n",
      "epoch 672 epoch loss 0.002554595698594811\n",
      "epoch 673 epoch loss 0.0025528252336968326\n",
      "epoch 674 epoch loss 0.0025510572469044177\n",
      "epoch 675 epoch loss 0.0025492951951621634\n",
      "epoch 676 epoch loss 0.0025475323170003963\n",
      "epoch 677 epoch loss 0.002545772696511081\n",
      "epoch 678 epoch loss 0.0025440172513383403\n",
      "epoch 679 epoch loss 0.002542264763628371\n",
      "epoch 680 epoch loss 0.0025405116037701537\n",
      "epoch 681 epoch loss 0.0025387603018927865\n",
      "epoch 682 epoch loss 0.0025370166428455086\n",
      "epoch 683 epoch loss 0.002535271458310301\n",
      "epoch 684 epoch loss 0.002533529928996086\n",
      "epoch 685 epoch loss 0.0025317863799529015\n",
      "epoch 686 epoch loss 0.00253004800181837\n",
      "epoch 687 epoch loss 0.0025283088376707847\n",
      "epoch 688 epoch loss 0.002526572587609734\n",
      "epoch 689 epoch loss 0.002524839406587784\n",
      "epoch 690 epoch loss 0.00252310359993215\n",
      "epoch 691 epoch loss 0.002521371311049166\n",
      "epoch 692 epoch loss 0.0025196379643485077\n",
      "epoch 693 epoch loss 0.002517906061833722\n",
      "epoch 694 epoch loss 0.0025161775371800752\n",
      "epoch 695 epoch loss 0.0025144477168294868\n",
      "epoch 696 epoch loss 0.0025127198084573107\n",
      "epoch 697 epoch loss 0.002510991151316599\n",
      "epoch 698 epoch loss 0.0025092629833333643\n",
      "epoch 699 epoch loss 0.002507533894631411\n",
      "epoch 700 epoch loss 0.0025058072873367174\n",
      "epoch 701 epoch loss 0.002504076574148391\n",
      "epoch 702 epoch loss 0.002502347750787423\n",
      "epoch 703 epoch loss 0.0025006197824955965\n",
      "epoch 704 epoch loss 0.002498891542713596\n",
      "epoch 705 epoch loss 0.002497160123591423\n",
      "epoch 706 epoch loss 0.0024954306178976136\n",
      "epoch 707 epoch loss 0.002493700458590469\n",
      "epoch 708 epoch loss 0.002491967279315448\n",
      "epoch 709 epoch loss 0.002490234268916014\n",
      "epoch 710 epoch loss 0.0024884986112209814\n",
      "epoch 711 epoch loss 0.0024867636978572866\n",
      "epoch 712 epoch loss 0.0024850253433761683\n",
      "epoch 713 epoch loss 0.00248328590845465\n",
      "epoch 714 epoch loss 0.002481546963861051\n",
      "epoch 715 epoch loss 0.0024798036965625113\n",
      "epoch 716 epoch loss 0.0024780593757961497\n",
      "epoch 717 epoch loss 0.0024763151183035416\n",
      "epoch 718 epoch loss 0.0024745677945669183\n",
      "epoch 719 epoch loss 0.002472818149354349\n",
      "epoch 720 epoch loss 0.002471067280243604\n",
      "epoch 721 epoch loss 0.0024693131435902607\n",
      "epoch 722 epoch loss 0.00246755477026821\n",
      "epoch 723 epoch loss 0.0024657970463493975\n",
      "epoch 724 epoch loss 0.0024640367734171885\n",
      "epoch 725 epoch loss 0.002462273057795321\n",
      "epoch 726 epoch loss 0.0024605065709856783\n",
      "epoch 727 epoch loss 0.002458738978213009\n",
      "epoch 728 epoch loss 0.0024569669942383285\n",
      "epoch 729 epoch loss 0.002455195048049714\n",
      "epoch 730 epoch loss 0.002453419491710865\n",
      "epoch 731 epoch loss 0.0024516395209533233\n",
      "epoch 732 epoch loss 0.0024498579759685444\n",
      "epoch 733 epoch loss 0.0024480722086224036\n",
      "epoch 734 epoch loss 0.0024462862448865496\n",
      "epoch 735 epoch loss 0.0024444963226803677\n",
      "epoch 736 epoch loss 0.002442705389002527\n",
      "epoch 737 epoch loss 0.002440909676147303\n",
      "epoch 738 epoch loss 0.0024391135089334194\n",
      "epoch 739 epoch loss 0.002437314935395268\n",
      "epoch 740 epoch loss 0.002435513452312597\n",
      "epoch 741 epoch loss 0.0024337125002088737\n",
      "epoch 742 epoch loss 0.0024319058452916776\n",
      "epoch 743 epoch loss 0.002430099007733097\n",
      "epoch 744 epoch loss 0.002428289462924328\n",
      "epoch 745 epoch loss 0.0024264810318873563\n",
      "epoch 746 epoch loss 0.0024246693132006386\n",
      "epoch 747 epoch loss 0.0024228542645360956\n",
      "epoch 748 epoch loss 0.0024210429445683614\n",
      "epoch 749 epoch loss 0.0024192269665203343\n",
      "epoch 750 epoch loss 0.00241741058666126\n",
      "epoch 751 epoch loss 0.0024155945610094287\n",
      "epoch 752 epoch loss 0.0024137809603565316\n",
      "epoch 753 epoch loss 0.0024119672899662447\n",
      "epoch 754 epoch loss 0.0024101510007552957\n",
      "epoch 755 epoch loss 0.0024083351539365447\n",
      "epoch 756 epoch loss 0.0024065207477399326\n",
      "epoch 757 epoch loss 0.0024047074479954865\n",
      "epoch 758 epoch loss 0.0024028947695636663\n",
      "epoch 759 epoch loss 0.0024010854724169643\n",
      "epoch 760 epoch loss 0.002399273371537208\n",
      "epoch 761 epoch loss 0.0023974690474594953\n",
      "epoch 762 epoch loss 0.0023956627794520457\n",
      "epoch 763 epoch loss 0.0023938615514558885\n",
      "epoch 764 epoch loss 0.0023920620527443513\n",
      "epoch 765 epoch loss 0.002390264430338945\n",
      "epoch 766 epoch loss 0.0023884737863368046\n",
      "epoch 767 epoch loss 0.0023866811332270213\n",
      "epoch 768 epoch loss 0.0023848939398630653\n",
      "epoch 769 epoch loss 0.0023831088302879496\n",
      "epoch 770 epoch loss 0.0023813307916159695\n",
      "epoch 771 epoch loss 0.0023795533344965194\n",
      "epoch 772 epoch loss 0.002377781021505307\n",
      "epoch 773 epoch loss 0.0023760116795155622\n",
      "epoch 774 epoch loss 0.002374249492805604\n",
      "epoch 775 epoch loss 0.0023724901361723842\n",
      "epoch 776 epoch loss 0.002370733679807493\n",
      "epoch 777 epoch loss 0.002368981227298135\n",
      "epoch 778 epoch loss 0.002367236311615239\n",
      "epoch 779 epoch loss 0.002365494071231207\n",
      "epoch 780 epoch loss 0.0023637556930442673\n",
      "epoch 781 epoch loss 0.0023620224491154185\n",
      "epoch 782 epoch loss 0.0023602962344603964\n",
      "epoch 783 epoch loss 0.002358574758733523\n",
      "epoch 784 epoch loss 0.0023568551405332983\n",
      "epoch 785 epoch loss 0.0023551426014467728\n",
      "epoch 786 epoch loss 0.002353434895238216\n",
      "epoch 787 epoch loss 0.0023517335814257274\n",
      "epoch 788 epoch loss 0.00235003526543006\n",
      "epoch 789 epoch loss 0.002348341618066135\n",
      "epoch 790 epoch loss 0.0023466536703712106\n",
      "epoch 791 epoch loss 0.002344969204619431\n",
      "epoch 792 epoch loss 0.0023432916675009212\n",
      "epoch 793 epoch loss 0.002341620523372435\n",
      "epoch 794 epoch loss 0.002339950992322878\n",
      "epoch 795 epoch loss 0.0023382862036079805\n",
      "epoch 796 epoch loss 0.002336628223844275\n",
      "epoch 797 epoch loss 0.0023349751298730056\n",
      "epoch 798 epoch loss 0.0023333243431926214\n",
      "epoch 799 epoch loss 0.0023316806022770703\n",
      "epoch 800 epoch loss 0.0023300401322232807\n",
      "epoch 801 epoch loss 0.0023284070288101693\n",
      "epoch 802 epoch loss 0.00232677917558133\n",
      "epoch 803 epoch loss 0.0023251534701138566\n",
      "epoch 804 epoch loss 0.0023235332497226753\n",
      "epoch 805 epoch loss 0.0023219141691674656\n",
      "epoch 806 epoch loss 0.002320304675092574\n",
      "epoch 807 epoch loss 0.0023186970830386022\n",
      "epoch 808 epoch loss 0.0023170970583124653\n",
      "epoch 809 epoch loss 0.002315497733143886\n",
      "epoch 810 epoch loss 0.00231390434173274\n",
      "epoch 811 epoch loss 0.002312316387776612\n",
      "epoch 812 epoch loss 0.002310729206609288\n",
      "epoch 813 epoch loss 0.002309151668592646\n",
      "epoch 814 epoch loss 0.002307575343363714\n",
      "epoch 815 epoch loss 0.0023060027453292325\n",
      "epoch 816 epoch loss 0.0023044343190301224\n",
      "epoch 817 epoch loss 0.0023028716004184152\n",
      "epoch 818 epoch loss 0.002301314823582544\n",
      "epoch 819 epoch loss 0.0022997598421001316\n",
      "epoch 820 epoch loss 0.002298208458417169\n",
      "epoch 821 epoch loss 0.0022966593690978204\n",
      "epoch 822 epoch loss 0.002295118972337956\n",
      "epoch 823 epoch loss 0.00229358138458687\n",
      "epoch 824 epoch loss 0.0022920467038996663\n",
      "epoch 825 epoch loss 0.0022905179015398507\n",
      "epoch 826 epoch loss 0.002288992327748656\n",
      "epoch 827 epoch loss 0.0022874721930545923\n",
      "epoch 828 epoch loss 0.002285953748601294\n",
      "epoch 829 epoch loss 0.002284441461774329\n",
      "epoch 830 epoch loss 0.0022829303236926728\n",
      "epoch 831 epoch loss 0.0022814247753982077\n",
      "epoch 832 epoch loss 0.002279922973986079\n",
      "epoch 833 epoch loss 0.0022784268046542834\n",
      "epoch 834 epoch loss 0.002276933690438568\n",
      "epoch 835 epoch loss 0.0022754431008491253\n",
      "epoch 836 epoch loss 0.0022739587631328134\n",
      "epoch 837 epoch loss 0.002272473770021299\n",
      "epoch 838 epoch loss 0.002270997426337602\n",
      "epoch 839 epoch loss 0.002269523609184329\n",
      "epoch 840 epoch loss 0.0022680530292819123\n",
      "epoch 841 epoch loss 0.002266584876876538\n",
      "epoch 842 epoch loss 0.0022651203009231456\n",
      "epoch 843 epoch loss 0.0022636616219368698\n",
      "epoch 844 epoch loss 0.0022622063846270343\n",
      "epoch 845 epoch loss 0.002260755615419007\n",
      "epoch 846 epoch loss 0.002259305351265507\n",
      "epoch 847 epoch loss 0.0022578624580501293\n",
      "epoch 848 epoch loss 0.0022564199003847966\n",
      "epoch 849 epoch loss 0.002254982359915869\n",
      "epoch 850 epoch loss 0.002253548189289678\n",
      "epoch 851 epoch loss 0.0022521195641485693\n",
      "epoch 852 epoch loss 0.002250693455772555\n",
      "epoch 853 epoch loss 0.0022492696385982133\n",
      "epoch 854 epoch loss 0.0022478515433662126\n",
      "epoch 855 epoch loss 0.0022464342833757134\n",
      "epoch 856 epoch loss 0.0022450217563912745\n",
      "epoch 857 epoch loss 0.002243612440750741\n",
      "epoch 858 epoch loss 0.0022422073116420633\n",
      "epoch 859 epoch loss 0.0022408051092152755\n",
      "epoch 860 epoch loss 0.002239407233668587\n",
      "epoch 861 epoch loss 0.0022380121879016597\n",
      "epoch 862 epoch loss 0.0022366216370868323\n",
      "epoch 863 epoch loss 0.0022352342758666485\n",
      "epoch 864 epoch loss 0.0022338497703506457\n",
      "epoch 865 epoch loss 0.0022324688862700357\n",
      "epoch 866 epoch loss 0.0022310908701046375\n",
      "epoch 867 epoch loss 0.0022297166459272714\n",
      "epoch 868 epoch loss 0.002228345553136888\n",
      "epoch 869 epoch loss 0.002226975824802556\n",
      "epoch 870 epoch loss 0.0022256110332884447\n",
      "epoch 871 epoch loss 0.0022242485890698834\n",
      "epoch 872 epoch loss 0.002222892260446553\n",
      "epoch 873 epoch loss 0.0022215362548827287\n",
      "epoch 874 epoch loss 0.0022201861928241987\n",
      "epoch 875 epoch loss 0.0022188366698503654\n",
      "epoch 876 epoch loss 0.00221749337313969\n",
      "epoch 877 epoch loss 0.0022161515179770245\n",
      "epoch 878 epoch loss 0.0022148128881686316\n",
      "epoch 879 epoch loss 0.0022134781009742616\n",
      "epoch 880 epoch loss 0.0022121446644002684\n",
      "epoch 881 epoch loss 0.002210815045232119\n",
      "epoch 882 epoch loss 0.0022094881709604688\n",
      "epoch 883 epoch loss 0.0022081672772814075\n",
      "epoch 884 epoch loss 0.0022068477898449295\n",
      "epoch 885 epoch loss 0.002205529038668979\n",
      "epoch 886 epoch loss 0.0022042169247386083\n",
      "epoch 887 epoch loss 0.0022029068124040877\n",
      "epoch 888 epoch loss 0.0022015988831712986\n",
      "epoch 889 epoch loss 0.0022002955034297208\n",
      "epoch 890 epoch loss 0.002198995317178437\n",
      "epoch 891 epoch loss 0.002197694997776256\n",
      "epoch 892 epoch loss 0.002196399338341051\n",
      "epoch 893 epoch loss 0.0021951073898014524\n",
      "epoch 894 epoch loss 0.0021938163532633985\n",
      "epoch 895 epoch loss 0.0021925300512337636\n",
      "epoch 896 epoch loss 0.0021912469444413515\n",
      "epoch 897 epoch loss 0.0021899660317039136\n",
      "epoch 898 epoch loss 0.002188687682322155\n",
      "epoch 899 epoch loss 0.0021874145394165153\n",
      "epoch 900 epoch loss 0.0021861418192151883\n",
      "epoch 901 epoch loss 0.0021848738410690125\n",
      "epoch 902 epoch loss 0.002183605119849288\n",
      "epoch 903 epoch loss 0.0021823424939604224\n",
      "epoch 904 epoch loss 0.002181085285960975\n",
      "epoch 905 epoch loss 0.00217982640807248\n",
      "epoch 906 epoch loss 0.0021785712516485096\n",
      "epoch 907 epoch loss 0.0021773214364063224\n",
      "epoch 908 epoch loss 0.002176069324424698\n",
      "epoch 909 epoch loss 0.0021748227711698757\n",
      "epoch 910 epoch loss 0.0021735796886429163\n",
      "epoch 911 epoch loss 0.0021723364897879814\n",
      "epoch 912 epoch loss 0.002171099667012801\n",
      "epoch 913 epoch loss 0.0021698638376285682\n",
      "epoch 914 epoch loss 0.0021686300568675033\n",
      "epoch 915 epoch loss 0.002167399439008013\n",
      "epoch 916 epoch loss 0.002166171880107846\n",
      "epoch 917 epoch loss 0.0021649469828804997\n",
      "epoch 918 epoch loss 0.002163723451262178\n",
      "epoch 919 epoch loss 0.0021625048540533146\n",
      "epoch 920 epoch loss 0.0021612884820995703\n",
      "epoch 921 epoch loss 0.0021600749906563925\n",
      "epoch 922 epoch loss 0.0021588615547480745\n",
      "epoch 923 epoch loss 0.0021576534635503355\n",
      "epoch 924 epoch loss 0.0021564483212903568\n",
      "epoch 925 epoch loss 0.002155244113759463\n",
      "epoch 926 epoch loss 0.0021540421357986016\n",
      "epoch 927 epoch loss 0.002152846669374338\n",
      "epoch 928 epoch loss 0.0021516491800067567\n",
      "epoch 929 epoch loss 0.002150457205483131\n",
      "epoch 930 epoch loss 0.0021492643987052512\n",
      "epoch 931 epoch loss 0.0021480778415469645\n",
      "epoch 932 epoch loss 0.002146891539300499\n",
      "epoch 933 epoch loss 0.002145708655286692\n",
      "epoch 934 epoch loss 0.002144526774935773\n",
      "epoch 935 epoch loss 0.0021433470767781826\n",
      "epoch 936 epoch loss 0.0021421710974647242\n",
      "epoch 937 epoch loss 0.0021409977433307485\n",
      "epoch 938 epoch loss 0.0021398263331789172\n",
      "epoch 939 epoch loss 0.0021386572635445538\n",
      "epoch 940 epoch loss 0.002137489380004831\n",
      "epoch 941 epoch loss 0.0021363243361499544\n",
      "epoch 942 epoch loss 0.0021351627179347133\n",
      "epoch 943 epoch loss 0.002134002345978335\n",
      "epoch 944 epoch loss 0.0021328452651830287\n",
      "epoch 945 epoch loss 0.002131689548843774\n",
      "epoch 946 epoch loss 0.0021305388428704336\n",
      "epoch 947 epoch loss 0.0021293870264095212\n",
      "epoch 948 epoch loss 0.0021282409555268937\n",
      "epoch 949 epoch loss 0.002127094684725757\n",
      "epoch 950 epoch loss 0.0021259513996352273\n",
      "epoch 951 epoch loss 0.0021248115014723956\n",
      "epoch 952 epoch loss 0.002123672057336307\n",
      "epoch 953 epoch loss 0.0021225337243341537\n",
      "epoch 954 epoch loss 0.0021214010421918158\n",
      "epoch 955 epoch loss 0.002120268613843265\n",
      "epoch 956 epoch loss 0.0021191394909107243\n",
      "epoch 957 epoch loss 0.0021180105792691973\n",
      "epoch 958 epoch loss 0.002116884434395716\n",
      "epoch 959 epoch loss 0.0021157624726301106\n",
      "epoch 960 epoch loss 0.0021146423127165396\n",
      "epoch 961 epoch loss 0.002113524118516905\n",
      "epoch 962 epoch loss 0.002112409857247502\n",
      "epoch 963 epoch loss 0.0021112929908358876\n",
      "epoch 964 epoch loss 0.002110180929316446\n",
      "epoch 965 epoch loss 0.0021090691658929\n",
      "epoch 966 epoch loss 0.002107960752414574\n",
      "epoch 967 epoch loss 0.002106855627791375\n",
      "epoch 968 epoch loss 0.0021057519612421305\n",
      "epoch 969 epoch loss 0.0021046512395777716\n",
      "epoch 970 epoch loss 0.0021035521903180372\n",
      "epoch 971 epoch loss 0.0021024526677804072\n",
      "epoch 972 epoch loss 0.002101356846809785\n",
      "epoch 973 epoch loss 0.0021002657590548555\n",
      "epoch 974 epoch loss 0.0020991729988953005\n",
      "epoch 975 epoch loss 0.0020980817254942687\n",
      "epoch 976 epoch loss 0.002096994333751114\n",
      "epoch 977 epoch loss 0.002095909724533301\n",
      "epoch 978 epoch loss 0.0020948274360751925\n",
      "epoch 979 epoch loss 0.0020937455651854273\n",
      "epoch 980 epoch loss 0.0020926670119227027\n",
      "epoch 981 epoch loss 0.0020915892469091004\n",
      "epoch 982 epoch loss 0.002090512900523806\n",
      "epoch 983 epoch loss 0.002089438639255017\n",
      "epoch 984 epoch loss 0.0020883667379120725\n",
      "epoch 985 epoch loss 0.0020872991071631884\n",
      "epoch 986 epoch loss 0.00208622868075206\n",
      "epoch 987 epoch loss 0.0020851600903803585\n",
      "epoch 988 epoch loss 0.0020840965835359406\n",
      "epoch 989 epoch loss 0.0020830346876391996\n",
      "epoch 990 epoch loss 0.00208197480797757\n",
      "epoch 991 epoch loss 0.0020809168257074997\n",
      "epoch 992 epoch loss 0.002079858850425144\n",
      "epoch 993 epoch loss 0.002078806475988038\n",
      "epoch 994 epoch loss 0.0020777523893862125\n",
      "epoch 995 epoch loss 0.002076699696047291\n",
      "epoch 996 epoch loss 0.0020756521485660656\n",
      "epoch 997 epoch loss 0.0020746055850423737\n",
      "epoch 998 epoch loss 0.0020735594161498524\n",
      "epoch 999 epoch loss 0.0020725149912161514\n",
      "epoch 1000 epoch loss 0.002071473383466855\n",
      "epoch 1001 epoch loss 0.0020704332352239952\n",
      "epoch 1002 epoch loss 0.002069395916289225\n",
      "epoch 1003 epoch loss 0.0020683593058562866\n",
      "epoch 1004 epoch loss 0.002067324804158329\n",
      "epoch 1005 epoch loss 0.0020662919536747525\n",
      "epoch 1006 epoch loss 0.002065260561894025\n",
      "epoch 1007 epoch loss 0.002064230697715011\n",
      "epoch 1008 epoch loss 0.0020632031073731997\n",
      "epoch 1009 epoch loss 0.0020621751472764812\n",
      "epoch 1010 epoch loss 0.002061152668255588\n",
      "epoch 1011 epoch loss 0.0020601311127310296\n",
      "epoch 1012 epoch loss 0.002059111329552881\n",
      "epoch 1013 epoch loss 0.002058092139858785\n",
      "epoch 1014 epoch loss 0.0020570743994690627\n",
      "epoch 1015 epoch loss 0.002056060957432096\n",
      "epoch 1016 epoch loss 0.0020550455667137472\n",
      "epoch 1017 epoch loss 0.002054034663697745\n",
      "epoch 1018 epoch loss 0.0020530222136017754\n",
      "epoch 1019 epoch loss 0.0020520130715946166\n",
      "epoch 1020 epoch loss 0.0020510053940551716\n",
      "epoch 1021 epoch loss 0.002050000350185282\n",
      "epoch 1022 epoch loss 0.002048997832112107\n",
      "epoch 1023 epoch loss 0.002047993378511922\n",
      "epoch 1024 epoch loss 0.002046991132278306\n",
      "epoch 1025 epoch loss 0.002045994465734635\n",
      "epoch 1026 epoch loss 0.00204499582731037\n",
      "epoch 1027 epoch loss 0.002044000429246493\n",
      "epoch 1028 epoch loss 0.0020430085385785106\n",
      "epoch 1029 epoch loss 0.0020420134809036716\n",
      "epoch 1030 epoch loss 0.0020410229908007544\n",
      "epoch 1031 epoch loss 0.0020400337422225236\n",
      "epoch 1032 epoch loss 0.002039048174160811\n",
      "epoch 1033 epoch loss 0.00203806065193236\n",
      "epoch 1034 epoch loss 0.00203707775382391\n",
      "epoch 1035 epoch loss 0.0020360956165902115\n",
      "epoch 1036 epoch loss 0.0020351146798982538\n",
      "epoch 1037 epoch loss 0.002034132681300809\n",
      "epoch 1038 epoch loss 0.0020331546902798547\n",
      "epoch 1039 epoch loss 0.002032180117089765\n",
      "epoch 1040 epoch loss 0.0020312039038132305\n",
      "epoch 1041 epoch loss 0.0020302310550513\n",
      "epoch 1042 epoch loss 0.002029258930810536\n",
      "epoch 1043 epoch loss 0.0020282914753936765\n",
      "epoch 1044 epoch loss 0.002027324141755209\n",
      "epoch 1045 epoch loss 0.0020263551511025585\n",
      "epoch 1046 epoch loss 0.002025391337822196\n",
      "epoch 1047 epoch loss 0.002024428274987421\n",
      "epoch 1048 epoch loss 0.0020234677091949156\n",
      "epoch 1049 epoch loss 0.002022506268523099\n",
      "epoch 1050 epoch loss 0.0020215492789030674\n",
      "epoch 1051 epoch loss 0.0020205921063621416\n",
      "epoch 1052 epoch loss 0.00201963638067989\n",
      "epoch 1053 epoch loss 0.0020186820601047176\n",
      "epoch 1054 epoch loss 0.0020177294045097237\n",
      "epoch 1055 epoch loss 0.002016780940844596\n",
      "epoch 1056 epoch loss 0.002015833288383232\n",
      "epoch 1057 epoch loss 0.002014887729510978\n",
      "epoch 1058 epoch loss 0.002013940278802398\n",
      "epoch 1059 epoch loss 0.0020129966493953122\n",
      "epoch 1060 epoch loss 0.0020120544411146414\n",
      "epoch 1061 epoch loss 0.0020111148559870166\n",
      "epoch 1062 epoch loss 0.0020101742904830616\n",
      "epoch 1063 epoch loss 0.0020092378786861747\n",
      "epoch 1064 epoch loss 0.002008302068618844\n",
      "epoch 1065 epoch loss 0.0020073681219303723\n",
      "epoch 1066 epoch loss 0.002006434939558101\n",
      "epoch 1067 epoch loss 0.0020055044651173205\n",
      "epoch 1068 epoch loss 0.0020045760997609062\n",
      "epoch 1069 epoch loss 0.002003648933443875\n",
      "epoch 1070 epoch loss 0.0020027202384245647\n",
      "epoch 1071 epoch loss 0.0020017977153039945\n",
      "epoch 1072 epoch loss 0.0020008738614955028\n",
      "epoch 1073 epoch loss 0.001999955496693892\n",
      "epoch 1074 epoch loss 0.0019990356562442245\n",
      "epoch 1075 epoch loss 0.0019981172494115116\n",
      "epoch 1076 epoch loss 0.0019972017702913764\n",
      "epoch 1077 epoch loss 0.0019962863020895447\n",
      "epoch 1078 epoch loss 0.0019953733805427552\n",
      "epoch 1079 epoch loss 0.001994464779220268\n",
      "epoch 1080 epoch loss 0.0019935551654303722\n",
      "epoch 1081 epoch loss 0.001992646096158121\n",
      "epoch 1082 epoch loss 0.0019917399682419594\n",
      "epoch 1083 epoch loss 0.001990835694742913\n",
      "epoch 1084 epoch loss 0.0019899305428706985\n",
      "epoch 1085 epoch loss 0.001989029837071522\n",
      "epoch 1086 epoch loss 0.0019881309500171794\n",
      "epoch 1087 epoch loss 0.001987233092515206\n",
      "epoch 1088 epoch loss 0.00198633735828266\n",
      "epoch 1089 epoch loss 0.001985442420055599\n",
      "epoch 1090 epoch loss 0.0019845468179956706\n",
      "epoch 1091 epoch loss 0.0019836573520748534\n",
      "epoch 1092 epoch loss 0.001982769707606609\n",
      "epoch 1093 epoch loss 0.001981882224432282\n",
      "epoch 1094 epoch loss 0.0019809956526830133\n",
      "epoch 1095 epoch loss 0.0019801131534086325\n",
      "epoch 1096 epoch loss 0.001979231387145492\n",
      "epoch 1097 epoch loss 0.0019783487652891315\n",
      "epoch 1098 epoch loss 0.0019774719509396744\n",
      "epoch 1099 epoch loss 0.0019765927104033712\n",
      "epoch 1100 epoch loss 0.001975715682928625\n",
      "epoch 1101 epoch loss 0.0019748432001759748\n",
      "epoch 1102 epoch loss 0.0019739704590351157\n",
      "epoch 1103 epoch loss 0.001973100302544996\n",
      "epoch 1104 epoch loss 0.001972233349974334\n",
      "epoch 1105 epoch loss 0.001971363338549165\n",
      "epoch 1106 epoch loss 0.001970497573540565\n",
      "epoch 1107 epoch loss 0.001969632145968693\n",
      "epoch 1108 epoch loss 0.0019687694258566403\n",
      "epoch 1109 epoch loss 0.0019679092204308367\n",
      "epoch 1110 epoch loss 0.0019670501531988925\n",
      "epoch 1111 epoch loss 0.0019661932895601517\n",
      "epoch 1112 epoch loss 0.0019653381849562253\n",
      "epoch 1113 epoch loss 0.001964483900972008\n",
      "epoch 1114 epoch loss 0.001963633516516748\n",
      "epoch 1115 epoch loss 0.0019627827855756693\n",
      "epoch 1116 epoch loss 0.0019619343242442263\n",
      "epoch 1117 epoch loss 0.0019610894464398257\n",
      "epoch 1118 epoch loss 0.001960243155929206\n",
      "epoch 1119 epoch loss 0.001959399334020859\n",
      "epoch 1120 epoch loss 0.00195855627623655\n",
      "epoch 1121 epoch loss 0.0019577170480167077\n",
      "epoch 1122 epoch loss 0.0019568765320309794\n",
      "epoch 1123 epoch loss 0.0019560392250482714\n",
      "epoch 1124 epoch loss 0.001955203894820089\n",
      "epoch 1125 epoch loss 0.001954372005604514\n",
      "epoch 1126 epoch loss 0.0019535394286056803\n",
      "epoch 1127 epoch loss 0.001952709106979014\n",
      "epoch 1128 epoch loss 0.0019518799625900614\n",
      "epoch 1129 epoch loss 0.0019510551290793426\n",
      "epoch 1130 epoch loss 0.0019502300107493854\n",
      "epoch 1131 epoch loss 0.0019494065670601214\n",
      "epoch 1132 epoch loss 0.0019485848636087199\n",
      "epoch 1133 epoch loss 0.0019477639798511552\n",
      "epoch 1134 epoch loss 0.001946947306558369\n",
      "epoch 1135 epoch loss 0.001946128937347299\n",
      "epoch 1136 epoch loss 0.0019453126703202277\n",
      "epoch 1137 epoch loss 0.0019444990763734212\n",
      "epoch 1138 epoch loss 0.0019436904760220144\n",
      "epoch 1139 epoch loss 0.0019428811590630273\n",
      "epoch 1140 epoch loss 0.0019420722781024798\n",
      "epoch 1141 epoch loss 0.0019412663423237955\n",
      "epoch 1142 epoch loss 0.001940459648046183\n",
      "epoch 1143 epoch loss 0.0019396581739406097\n",
      "epoch 1144 epoch loss 0.0019388562131232591\n",
      "epoch 1145 epoch loss 0.0019380578655831455\n",
      "epoch 1146 epoch loss 0.0019372595378706714\n",
      "epoch 1147 epoch loss 0.0019364619123361476\n",
      "epoch 1148 epoch loss 0.0019356679941334963\n",
      "epoch 1149 epoch loss 0.001934874001581564\n"
     ]
    }
   ],
   "source": [
    "train_data = make_data(10000)\n",
    "num_batches = len(train_data) // batch_size # How many batches per epoch?\n",
    "losses = [] # Keep a record of losses over time for plotting\n",
    "\n",
    "# Iterate a number of times\n",
    "for epoch in range(num_epochs):\n",
    "  epoch_loss = 0  # Keep track of how much loss we've acrued during this epoch\n",
    "  # An epoch is a complete run through all the batches\n",
    "  for i in range(num_batches):\n",
    "    # Zero out gradients\n",
    "    optimizer.zero_grad()\n",
    "    # Get a batch\n",
    "    x, y = get_batch(train_data, batch_size, i)\n",
    "    # Forward pass\n",
    "    y_hat = net(x)\n",
    "    # Compute loss\n",
    "    loss = loss_fn(y_hat, y)\n",
    "    # Backward pass\n",
    "    loss.backward()\n",
    "    # Clean up\n",
    "    optimizer.step()\n",
    "    # Keep some stats\n",
    "    epoch_loss = epoch_loss + loss.item()\n",
    "  # Done with an epoch, print stats\n",
    "  print('epoch', epoch, 'epoch loss', epoch_loss/num_batches)\n",
    "  losses.append(epoch_loss/num_batches)"
   ]
  },
  {
   "cell_type": "markdown",
   "metadata": {
    "id": "5a-CZyZqwYVL"
   },
   "source": [
    "The exact loss values aren't so important. The key is that the numbers go down. If we plot the loss per epoch, we should see this more clearly."
   ]
  },
  {
   "cell_type": "code",
   "execution_count": 68,
   "metadata": {
    "editable": false,
    "id": "l_61bqFu0ecO",
    "slideshow": {
     "slide_type": ""
    },
    "tags": []
   },
   "outputs": [
    {
     "data": {
      "text/plain": [
       "[<matplotlib.lines.Line2D at 0x1ce4aa52e10>]"
      ]
     },
     "execution_count": 68,
     "metadata": {},
     "output_type": "execute_result"
    },
    {
     "data": {
      "image/png": "[encoded data removed]",
      "text/plain": [
       "<Figure size 640x480 with 1 Axes>"
      ]
     },
     "metadata": {},
     "output_type": "display_data"
    }
   ],
   "source": [
    "plt.figure(1)\n",
    "plt.clf()\n",
    "plt.xlabel('Epoch')\n",
    "plt.ylabel('Loss')\n",
    "plt.plot(numpy.array(losses))"
   ]
  },
  {
   "cell_type": "markdown",
   "metadata": {
    "id": "xc2k1GoczGom"
   },
   "source": [
    "You should see a curve that slopes down steeply at first and then levels out to some asymptotic minimum."
   ]
  },
  {
   "cell_type": "markdown",
   "metadata": {
    "id": "YhegtERMS9_9"
   },
   "source": [
    "# Evaluation\n",
    "\n",
    "How do we know the neural network is trained sufficiently? Loss much smaller than when we started. That is a good sign. But what we really need to do is test it on some data that the neural network has never seen before---we want to make sure it isn't memorizing the data."
   ]
  },
  {
   "cell_type": "code",
   "execution_count": 69,
   "metadata": {
    "editable": false,
    "id": "ACZmqeQQ8JwU",
    "slideshow": {
     "slide_type": ""
    },
    "tags": []
   },
   "outputs": [],
   "source": [
    "test_data = make_data(1000)"
   ]
  },
  {
   "cell_type": "markdown",
   "metadata": {
    "id": "h8_XZleETYHl"
   },
   "source": [
    "We also need a testing procedure. We could measure how much difference there is between the network's predicted outputs and the true outputs. But maybe that isn't that meaningful. Does it matter if the neural network turns the steering wheel a little bit more than in the original data? The real test would be to drive the car. But we know this isn't a real car and we don't have a simulator anyway.\n",
    "\n",
    "So I'm going to make up a testing procedure. I am going to say that if the difference between the predicted acceleration and the true acceleration is greater than 10% then the car will crash. I'll do the same for the steering.\n",
    "\n",
    "The code below will compute the number of crashes:"
   ]
  },
  {
   "cell_type": "code",
   "execution_count": 70,
   "metadata": {
    "editable": false,
    "id": "ClT4W0KKCUoS",
    "slideshow": {
     "slide_type": ""
    },
    "tags": [
     "raises-exception"
    ]
   },
   "outputs": [],
   "source": [
    "def evaluate(net, test_data):\n",
    "  total_crashes = 0 # How many crashes?\n",
    "\n",
    "  # Prepare the network for evaluation. This turns off stuff inside the\n",
    "  #    neural net modules that might result in randomness.\n",
    "  net.eval()\n",
    "\n",
    "  # Iterate through all the test data\n",
    "  for i in range(len(test_data)):\n",
    "    # This time the batch is just a single datapoint\n",
    "    x, y = get_batch(test_data, 1, i)\n",
    "    # Forward pass\n",
    "    y_hat = net(x)\n",
    "    # Compute the difference\n",
    "    diff = (y - y_hat).abs()\n",
    "    # Create a mask, 1 if difference is greater than 0.1\n",
    "    mask = diff > 0.1\n",
    "    crashes = mask.int().sum()\n",
    "    total_crashes = total_crashes + min(crashes.item(), 1)\n",
    "\n",
    "  return total_crashes"
   ]
  },
  {
   "cell_type": "code",
   "execution_count": 71,
   "metadata": {
    "editable": false,
    "id": "jnI-tTKrnjl7",
    "slideshow": {
     "slide_type": ""
    },
    "tags": [
     "raises-exception"
    ]
   },
   "outputs": [
    {
     "name": "stdout",
     "output_type": "stream",
     "text": [
      "total crashes: 63\n",
      "accuracy: 0.937\n"
     ]
    }
   ],
   "source": [
    "test_data = make_data(1000)\n",
    "score = evaluate(net, test_data)\n",
    "print(\"total crashes:\", score)\n",
    "print(\"accuracy:\", (len(test_data)-score)/len(test_data))"
   ]
  },
  {
   "cell_type": "markdown",
   "metadata": {
    "id": "W5_jLhWEQcnk"
   },
   "source": [
    "You'll notice in the above code that tensors come with a lot of built-in mathematical functions. You can subtract tensors, call functions like ```.abs()``` and ```.sum()```. You can even apply boolean operators to tensor elements.\n",
    "\n",
    "How did the car do? Did it crash too many times. You can go back an increase the number of training epochs. You should be able to bring the number of crashes down."
   ]
  },
  {
   "cell_type": "markdown",
   "metadata": {
    "id": "qZgTV5aeHt9m"
   },
   "source": [
    "## Part B (40 Points)\n",
    "Unit test for the ```CarNet(nn.Module)``` function"
   ]
  },
  {
   "cell_type": "code",
   "execution_count": 72,
   "metadata": {
    "editable": false,
    "id": "s3seIoU0yqLX",
    "slideshow": {
     "slide_type": ""
    },
    "tags": []
   },
   "outputs": [
    {
     "name": "stdout",
     "output_type": "stream",
     "text": [
      "Part B: 40.0/40.0\n"
     ]
    }
   ],
   "source": [
    "# student check\n",
    "ag.PART_B()"
   ]
  },
  {
   "cell_type": "markdown",
   "metadata": {
    "id": "JDxMz13WzdIO"
   },
   "source": [
    "## Part C\n",
    "\n",
    "Experiment with the number of epochs and the batch size to see if you can get the accuracy up above 90% accuracy. Once you found the right epochs and batch size number, go to the BOTTOM of this notebook and test the accuracy as part of the unit test (**Part C autograder**)\n",
    "\n"
   ]
  },
  {
   "cell_type": "markdown",
   "metadata": {
    "id": "uRy9wD0Gr3cI"
   },
   "source": [
    "## Part C (20 Points)\n",
    "Testing accuracy\n"
   ]
  },
  {
   "cell_type": "code",
   "execution_count": 73,
   "metadata": {
    "editable": false,
    "id": "7fKw5mHMr27c",
    "nbgrader": {
     "grade": false,
     "grade_id": "cell-8af6f708302422f4",
     "locked": true,
     "schema_version": 3,
     "solution": false,
     "task": false
    },
    "slideshow": {
     "slide_type": ""
    },
    "tags": []
   },
   "outputs": [
    {
     "name": "stdout",
     "output_type": "stream",
     "text": [
      "test 0 accuracy: 0.931\n",
      "test 1 accuracy: 0.924\n",
      "test 2 accuracy: 0.927\n",
      "test 3 accuracy: 0.927\n",
      "test 4 accuracy: 0.926\n",
      "test 5 accuracy: 0.936\n",
      "test 6 accuracy: 0.943\n",
      "test 7 accuracy: 0.932\n",
      "test 8 accuracy: 0.947\n",
      "test 9 accuracy: 0.944\n",
      "Part C: 20.0/20.0\n"
     ]
    }
   ],
   "source": [
    "# student check\n",
    "ag.PART_C()"
   ]
  },
  {
   "cell_type": "markdown",
   "metadata": {
    "id": "dOHEvnjvU527"
   },
   "source": [
    "# Grading\n",
    "\n",
    "Please submit this .ipynb file to Gradescope for grading."
   ]
  },
  {
   "cell_type": "markdown",
   "metadata": {
    "id": "h9H8e3mTOxEu"
   },
   "source": [
    "## Final Grade"
   ]
  },
  {
   "cell_type": "code",
   "execution_count": 74,
   "metadata": {
    "collapsed": false,
    "editable": false,
    "slideshow": {
     "slide_type": ""
    },
    "tags": []
   },
   "outputs": [
    {
     "name": "stdout",
     "output_type": "stream",
     "text": [
      "Your projected points for this assignment is 180.0/100.\n",
      "\n",
      "NOTE: THIS IS NOT YOUR FINAL GRADE. YOUR FINAL GRADE FOR THIS ASSIGNMENT WILL BE AT LEAST 180.0 OR MORE, BUT NOT LESS\n",
      "\n"
     ]
    }
   ],
   "source": [
    "# student check\n",
    "ag.FINAL_GRADE()"
   ]
  },
  {
   "cell_type": "markdown",
   "metadata": {
    "collapsed": false
   },
   "source": [
    "## Notebook Runtime"
   ]
  },
  {
   "cell_type": "code",
   "execution_count": 75,
   "metadata": {
    "collapsed": false,
    "editable": false,
    "slideshow": {
     "slide_type": ""
    },
    "tags": []
   },
   "outputs": [
    {
     "name": "stdout",
     "output_type": "stream",
     "text": [
      "Notebook execution time in minutes = 27.46876691977183\n"
     ]
    }
   ],
   "source": [
    "# end time - notebook execution\n",
    "end_nb = time.time()\n",
    "# print notebook execution time in minutes\n",
    "print(\"Notebook execution time in minutes =\", (end_nb - start_nb)/60)\n",
    "# warn student if notebook execution time is greater than 30 minutes\n",
    "if (end_nb - start_nb)/60 > 30:\n",
    "  print(\"WARNING: Notebook execution time is greater than 30 minutes. Your submission may not complete auto-grading on Gradescope. Please optimize your code to reduce the notebook execution time.\")"
   ]
  }
 ],
 "metadata": {
  "accelerator": "GPU",
  "colab": {
   "private_outputs": true,
   "provenance": [
    {
     "file_id": "11ccMZ3iwXo054SeYSge6_k2IHM5lXJTt",
     "timestamp": 1685999055998
    }
   ]
  },
  "kernelspec": {
   "display_name": "Python 3",
   "language": "python",
   "name": "python3"
  },
  "language_info": {
   "codemirror_mode": {
    "name": "ipython",
    "version": 3
   },
   "file_extension": ".py",
   "mimetype": "text/x-python",
   "name": "python",
   "nbconvert_exporter": "python",
   "pygments_lexer": "ipython3",
   "version": "3.12.10"
  }
 },
 "nbformat": 4,
 "nbformat_minor": 4
}
